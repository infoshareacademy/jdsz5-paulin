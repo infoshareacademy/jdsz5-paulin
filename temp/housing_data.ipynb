{
 "cells": [
  {
   "cell_type": "code",
   "execution_count": 1,
   "metadata": {},
   "outputs": [],
   "source": [
    "import numpy as np\n",
    "import pandas as pd\n",
    "import matplotlib.pyplot as plt\n",
    "from datetime import datetime as dt\n",
    "from datetime import date\n",
    "\n",
    "from sklearn.linear_model import  LogisticRegression,LinearRegression\n",
    "from sklearn.metrics import accuracy_score\n",
    "\n",
    "from sklearn import datasets\n",
    "from sklearn.metrics import roc_curve, auc\n",
    "import statsmodels.api as sm\n",
    "import sklearn\n",
    "\n",
    "from matplotlib.colors import ListedColormap\n",
    "from sklearn import neighbors, datasets\n",
    "from sklearn.pipeline import make_pipeline\n",
    "from sklearn.preprocessing import MinMaxScaler\n",
    "from sklearn.datasets import fetch_california_housing\n",
    "from sklearn.neighbors import BallTree\n",
    "from sklearn.model_selection import train_test_split"
   ]
  },
  {
   "cell_type": "code",
   "execution_count": 3,
   "metadata": {
    "scrolled": true
   },
   "outputs": [],
   "source": [
    "df=pd.read_csv('../ml/data/portals_numeric_estates.csv', low_memory = False)"
   ]
  },
  {
   "cell_type": "code",
   "execution_count": 4,
   "metadata": {},
   "outputs": [],
   "source": [
    "df2=df[(df.main_type_id == 2)]"
   ]
  },
  {
   "cell_type": "code",
   "execution_count": 5,
   "metadata": {},
   "outputs": [],
   "source": [
    "df3 = df2.drop([\n",
    "    \"Unnamed: 0\",\n",
    "    \"main_type_id\"], axis=1)"
   ]
  },
  {
   "cell_type": "code",
   "execution_count": 6,
   "metadata": {},
   "outputs": [],
   "source": [
    "df3 = df3.drop([\n",
    "    \"fixed_city\",\n",
    "    \"pop_province\"], axis=1)"
   ]
  },
  {
   "cell_type": "code",
   "execution_count": 7,
   "metadata": {},
   "outputs": [],
   "source": [
    "df3.apartment_floor.fillna(0,inplace=True)\n",
    "#jeżeli 'apartment_room' to liczba pokoi a nie wszystkich pomieszczeń\n",
    "df3.apartment_room_number.fillna(1,inplace=True)\n"
   ]
  },
  {
   "cell_type": "code",
   "execution_count": 8,
   "metadata": {
    "scrolled": true
   },
   "outputs": [],
   "source": [
    "ilo=df3.building_year.isnull().sum()/df3.building_year.sum()\n",
    "ilo\n",
    "#stanowi to 0.5% więc można usunąc te wyniki bądź spróbować znaleźć, poprzez kmean albo inny model jaki powinen być wiek budynku\n",
    "#na ten moment ja wyrzucam\n",
    "df4 = df3[df3.building_year.notnull()]\n",
    "# analiza tylko tych obiektów, które posiadają cene\n",
    "df5 = df4[df4.price.notnull()]"
   ]
  },
  {
   "cell_type": "code",
   "execution_count": 9,
   "metadata": {
    "scrolled": true
   },
   "outputs": [],
   "source": [
    "df5.dropna(inplace=True)"
   ]
  },
  {
   "cell_type": "code",
   "execution_count": 10,
   "metadata": {
    "scrolled": true
   },
   "outputs": [],
   "source": [
    "df5.dropna(inplace=True)\n",
    "#df5.columns"
   ]
  },
  {
   "cell_type": "code",
   "execution_count": 11,
   "metadata": {},
   "outputs": [],
   "source": [
    "def rm_out(df,columns=None):\n",
    "    if columns:\n",
    "        columns = columns\n",
    "    else:\n",
    "        columns = df.columns\n",
    "        \n",
    "    df_out = df.copy()\n",
    "    for c in columns:\n",
    "        q1 = df[c].quantile(0.25)\n",
    "        q3 = df[c].quantile(0.75)\n",
    "        IRQ = q3 - q1\n",
    "        df_out = df_out.loc[ (df[c] <= q3 + 1.5 * IRQ) & (df[c] >= q1 - 1.5 * IRQ) ]\n",
    "        \n",
    "    df_out.index = range(len(df_out))\n",
    "    return df_out\n",
    "df6=rm_out(df5)\n",
    "#df5.groupby(['building_year']).count()"
   ]
  },
  {
   "cell_type": "code",
   "execution_count": 12,
   "metadata": {},
   "outputs": [],
   "source": [
    "df7 = df6.drop([\"price\"], axis=1)"
   ]
  },
  {
   "cell_type": "code",
   "execution_count": 13,
   "metadata": {},
   "outputs": [],
   "source": [
    "train_X, test_X  = train_test_split(df7,  random_state=101,test_size =0.1)\n",
    "##------------ tworzenie obiektu do wyznaczania najbliższych punktów w przestrzeni ---\n",
    "scalar = MinMaxScaler().fit(train_X)\n",
    "train_X_norm = scalar.transform(train_X)\n",
    "test_X_norm = scalar.transform(test_X)\n",
    "tree = BallTree(train_X_norm, leaf_size=100,metric ='euclidean') \n"
   ]
  },
  {
   "cell_type": "code",
   "execution_count": 14,
   "metadata": {
    "scrolled": true
   },
   "outputs": [
    {
     "name": "stdout",
     "output_type": "stream",
     "text": [
      "area_total                   47.450000\n",
      "apartment_floor               4.000000\n",
      "apartment_room_number         3.000000\n",
      "building_year              2020.000000\n",
      "latitude                     50.270894\n",
      "longitude                    19.000967\n",
      "pop_population           295449.000000\n",
      "pop_woman                154964.000000\n",
      "pop_man                  140485.000000\n",
      "Name: 78268, dtype: float64\n"
     ]
    }
   ],
   "source": [
    "#K = 3\n",
    "test_index = 51\n",
    "\n",
    "dist, ind = tree.query(test_X_norm, k=5)     \n",
    "print(test_X.iloc[test_index])"
   ]
  },
  {
   "cell_type": "code",
   "execution_count": 15,
   "metadata": {
    "scrolled": false
   },
   "outputs": [],
   "source": [
    "#print('odległości k najbliższych sąsiadów od wybranej obserwacji',dist[test_index])\n",
    "#print('identyfikatory k najbliższych sąsiadów ',ind[test_index])\n",
    "# ---- parametry najbliższych sąsiadów ---\n",
    "#train_X.iloc[ind[test_index]]"
   ]
  },
  {
   "cell_type": "code",
   "execution_count": 16,
   "metadata": {},
   "outputs": [
    {
     "data": {
      "text/html": [
       "<div>\n",
       "<style scoped>\n",
       "    .dataframe tbody tr th:only-of-type {\n",
       "        vertical-align: middle;\n",
       "    }\n",
       "\n",
       "    .dataframe tbody tr th {\n",
       "        vertical-align: top;\n",
       "    }\n",
       "\n",
       "    .dataframe thead th {\n",
       "        text-align: right;\n",
       "    }\n",
       "</style>\n",
       "<table border=\"1\" class=\"dataframe\">\n",
       "  <thead>\n",
       "    <tr style=\"text-align: right;\">\n",
       "      <th></th>\n",
       "      <th>Cena</th>\n",
       "      <th>Powierzchnia całkowita</th>\n",
       "      <th>Cena za m2</th>\n",
       "      <th>Liczba pokoi</th>\n",
       "      <th>Piętro</th>\n",
       "      <th>Rok budowy</th>\n",
       "    </tr>\n",
       "  </thead>\n",
       "  <tbody>\n",
       "    <tr>\n",
       "      <th>0</th>\n",
       "      <td>257200.0</td>\n",
       "      <td>39.0</td>\n",
       "      <td>6593.2</td>\n",
       "      <td>3.0</td>\n",
       "      <td>4.0</td>\n",
       "      <td>2020.0</td>\n",
       "    </tr>\n",
       "    <tr>\n",
       "      <th>1</th>\n",
       "      <td>371283.0</td>\n",
       "      <td>52.6</td>\n",
       "      <td>7061.3</td>\n",
       "      <td>3.0</td>\n",
       "      <td>4.0</td>\n",
       "      <td>2020.0</td>\n",
       "    </tr>\n",
       "    <tr>\n",
       "      <th>2</th>\n",
       "      <td>305900.0</td>\n",
       "      <td>50.8</td>\n",
       "      <td>6016.9</td>\n",
       "      <td>3.0</td>\n",
       "      <td>4.0</td>\n",
       "      <td>2020.0</td>\n",
       "    </tr>\n",
       "    <tr>\n",
       "      <th>3</th>\n",
       "      <td>305900.0</td>\n",
       "      <td>50.8</td>\n",
       "      <td>6016.9</td>\n",
       "      <td>3.0</td>\n",
       "      <td>4.0</td>\n",
       "      <td>2020.0</td>\n",
       "    </tr>\n",
       "    <tr>\n",
       "      <th>4</th>\n",
       "      <td>379000.0</td>\n",
       "      <td>47.4</td>\n",
       "      <td>7987.4</td>\n",
       "      <td>3.0</td>\n",
       "      <td>4.0</td>\n",
       "      <td>2020.0</td>\n",
       "    </tr>\n",
       "  </tbody>\n",
       "</table>\n",
       "</div>"
      ],
      "text/plain": [
       "       Cena  Powierzchnia całkowita  Cena za m2  Liczba pokoi  Piętro  \\\n",
       "0  257200.0                    39.0      6593.2           3.0     4.0   \n",
       "1  371283.0                    52.6      7061.3           3.0     4.0   \n",
       "2  305900.0                    50.8      6016.9           3.0     4.0   \n",
       "3  305900.0                    50.8      6016.9           3.0     4.0   \n",
       "4  379000.0                    47.4      7987.4           3.0     4.0   \n",
       "\n",
       "   Rok budowy  \n",
       "0      2020.0  \n",
       "1      2020.0  \n",
       "2      2020.0  \n",
       "3      2020.0  \n",
       "4      2020.0  "
      ]
     },
     "execution_count": 16,
     "metadata": {},
     "output_type": "execute_result"
    }
   ],
   "source": [
    "# Wylistowanie podobnych mieskzań\n",
    "wynik = pd.DataFrame(columns = ['Cena','Powierzchnia całkowita','Cena za m2','Liczba pokoi','Piętro' ,'Rok budowy'])\n",
    "for i in ind[test_index]:\n",
    "    id=train_X.index[i]\n",
    "    price=float(df6.price[id])\n",
    "    area_total=round(df6.area_total[id],1)\n",
    "    price_per_m = round(df6.price[id]/df6.area_total[id],1)\n",
    "    apartment_room_number=df6.apartment_room_number[id]\n",
    "    apartment_floor=df6.apartment_floor[id]\n",
    "    building_year=df6.building_year[id]\n",
    "    wynik = pd.DataFrame(np.array([[price, area_total,price_per_m,apartment_room_number,apartment_floor, building_year]]),columns=['Cena','Powierzchnia całkowita','Cena za m2','Liczba pokoi','Piętro' ,'Rok budowy']).append(wynik, ignore_index=True)\n",
    "wynik"
   ]
  },
  {
   "cell_type": "code",
   "execution_count": 17,
   "metadata": {},
   "outputs": [
    {
     "name": "stdout",
     "output_type": "stream",
     "text": [
      "Wycena mieszkania na podstawie mieszkań podobnych:\n",
      "1. Wg cena całkowitych mieszkań podobnych\n",
      " - cena średnia: 323856.6\n",
      " - cena minimalna:  257200.0\n",
      " - cena maksymalna:  379000.0\n",
      "2. Wg cen za m2 mieszkań podobnych\n",
      " - średnia cena za m2: 6735.140000000001\n",
      " - cena minimalna za m2:  6016.9\n",
      " - cena maksymalna za m2:  7987.4\n",
      "3. Wycena mieszkania testowego na podstawie średniej ceny mieszkań podobnych:  319582.4\n",
      "4. Cena mieszkania testowego w ofercie:  400000.0\n"
     ]
    }
   ],
   "source": [
    "#Wycena mieszkania\n",
    "print('Wycena mieszkania na podstawie mieszkań podobnych:')\n",
    "print('1. Wg cena całkowitych mieszkań podobnych')\n",
    "print(\" - cena średnia:\", pd.to_numeric(wynik['Cena'], errors='coerce').apply(float).mean())\n",
    "print(\" - cena minimalna: \", pd.to_numeric(wynik['Cena'], errors='coerce').apply(float).min())\n",
    "print(\" - cena maksymalna: \", pd.to_numeric(wynik['Cena'], errors='coerce').apply(float).max())\n",
    "print('2. Wg cen za m2 mieszkań podobnych')\n",
    "print(\" - średnia cena za m2:\", pd.to_numeric(wynik['Cena za m2'], errors='coerce').apply(float).mean())\n",
    "print(\" - cena minimalna za m2: \", pd.to_numeric(wynik['Cena za m2'], errors='coerce').apply(float).min())\n",
    "print(\" - cena maksymalna za m2: \", pd.to_numeric(wynik['Cena za m2'], errors='coerce').apply(float).max())\n",
    "print(\"3. Wycena mieszkania testowego na podstawie średniej ceny mieszkań podobnych: \",round(test_X.iloc[test_index]['area_total']*pd.to_numeric(wynik['Cena za m2'], errors='coerce').apply(float).mean(),1) )\n",
    "print(\"4. Cena mieszkania testowego w ofercie: \", df6.price[test_index])"
   ]
  }
 ],
 "metadata": {
  "kernelspec": {
   "display_name": "Python 3",
   "language": "python",
   "name": "python3"
  },
  "language_info": {
   "codemirror_mode": {
    "name": "ipython",
    "version": 3
   },
   "file_extension": ".py",
   "mimetype": "text/x-python",
   "name": "python",
   "nbconvert_exporter": "python",
   "pygments_lexer": "ipython3",
   "version": "3.6.5"
  }
 },
 "nbformat": 4,
 "nbformat_minor": 2
}
