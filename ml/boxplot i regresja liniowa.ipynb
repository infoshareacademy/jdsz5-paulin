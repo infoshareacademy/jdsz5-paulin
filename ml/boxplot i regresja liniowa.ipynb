{
 "cells": [
  {
   "cell_type": "code",
   "execution_count": 98,
   "metadata": {},
   "outputs": [],
   "source": [
    "import pandas as pd\n",
    "import pandas as pd\n",
    "import numpy as np\n",
    "import scipy.stats as st\n",
    "import matplotlib.pyplot as plt\n",
    "%matplotlib inline\n",
    "from scipy import stats     # metryki statystyczne (pakiet zawiera więcej metryk dla regresji liniowej niż sklearn)\n",
    "from sklearn.metrics import r2_score\n",
    "from matplotlib import pyplot as plt\n",
    "import numpy as np\n",
    "import scipy as sp\n",
    "import scipy.stats as ssp\n",
    "from sklearn.linear_model import LinearRegression"
   ]
  },
  {
   "cell_type": "code",
   "execution_count": 2,
   "metadata": {},
   "outputs": [],
   "source": [
    "df = pd.read_csv('house.csv')"
   ]
  },
  {
   "cell_type": "code",
   "execution_count": 3,
   "metadata": {},
   "outputs": [],
   "source": [
    "df = df.drop(columns = ['Unnamed: 0'])"
   ]
  },
  {
   "cell_type": "code",
   "execution_count": 4,
   "metadata": {},
   "outputs": [
    {
     "data": {
      "text/html": [
       "<div>\n",
       "<style scoped>\n",
       "    .dataframe tbody tr th:only-of-type {\n",
       "        vertical-align: middle;\n",
       "    }\n",
       "\n",
       "    .dataframe tbody tr th {\n",
       "        vertical-align: top;\n",
       "    }\n",
       "\n",
       "    .dataframe thead th {\n",
       "        text-align: right;\n",
       "    }\n",
       "</style>\n",
       "<table border=\"1\" class=\"dataframe\">\n",
       "  <thead>\n",
       "    <tr style=\"text-align: right;\">\n",
       "      <th></th>\n",
       "      <th>apartment_room_number</th>\n",
       "      <th>apartment_floor</th>\n",
       "      <th>building_year</th>\n",
       "      <th>location_latitude</th>\n",
       "      <th>location_longitude</th>\n",
       "      <th>location_city_name</th>\n",
       "      <th>private_offer</th>\n",
       "      <th>price_y</th>\n",
       "      <th>area_total_y</th>\n",
       "      <th>price_permeter_y</th>\n",
       "    </tr>\n",
       "  </thead>\n",
       "  <tbody>\n",
       "    <tr>\n",
       "      <td>0</td>\n",
       "      <td>3</td>\n",
       "      <td>0</td>\n",
       "      <td>2019.0</td>\n",
       "      <td>67.740290</td>\n",
       "      <td>56.945660</td>\n",
       "      <td>gdańskbrzeźno</td>\n",
       "      <td>0</td>\n",
       "      <td>219254.0</td>\n",
       "      <td>672.000000</td>\n",
       "      <td>19254.0</td>\n",
       "    </tr>\n",
       "    <tr>\n",
       "      <td>1</td>\n",
       "      <td>3</td>\n",
       "      <td>0</td>\n",
       "      <td>1997.0</td>\n",
       "      <td>138.671200</td>\n",
       "      <td>293.206000</td>\n",
       "      <td>gdańskzakoniczyn</td>\n",
       "      <td>0</td>\n",
       "      <td>28375.0</td>\n",
       "      <td>3.388060</td>\n",
       "      <td>8375.0</td>\n",
       "    </tr>\n",
       "    <tr>\n",
       "      <td>2</td>\n",
       "      <td>3</td>\n",
       "      <td>1</td>\n",
       "      <td>2012.0</td>\n",
       "      <td>134.600000</td>\n",
       "      <td>266.650000</td>\n",
       "      <td>gdańskujeścisko</td>\n",
       "      <td>0</td>\n",
       "      <td>28560.0</td>\n",
       "      <td>3.336449</td>\n",
       "      <td>8560.0</td>\n",
       "    </tr>\n",
       "    <tr>\n",
       "      <td>3</td>\n",
       "      <td>1</td>\n",
       "      <td>2</td>\n",
       "      <td>1974.0</td>\n",
       "      <td>52.282204</td>\n",
       "      <td>20.976530</td>\n",
       "      <td>warszawa</td>\n",
       "      <td>1</td>\n",
       "      <td>318999.0</td>\n",
       "      <td>32.000000</td>\n",
       "      <td>9969.0</td>\n",
       "    </tr>\n",
       "    <tr>\n",
       "      <td>4</td>\n",
       "      <td>3</td>\n",
       "      <td>3</td>\n",
       "      <td>1990.0</td>\n",
       "      <td>52.263159</td>\n",
       "      <td>20.920753</td>\n",
       "      <td>warszawa</td>\n",
       "      <td>1</td>\n",
       "      <td>600000.0</td>\n",
       "      <td>62.000000</td>\n",
       "      <td>9677.0</td>\n",
       "    </tr>\n",
       "  </tbody>\n",
       "</table>\n",
       "</div>"
      ],
      "text/plain": [
       "   apartment_room_number  apartment_floor  building_year  location_latitude  \\\n",
       "0                      3                0         2019.0          67.740290   \n",
       "1                      3                0         1997.0         138.671200   \n",
       "2                      3                1         2012.0         134.600000   \n",
       "3                      1                2         1974.0          52.282204   \n",
       "4                      3                3         1990.0          52.263159   \n",
       "\n",
       "   location_longitude location_city_name  private_offer   price_y  \\\n",
       "0           56.945660      gdańskbrzeźno              0  219254.0   \n",
       "1          293.206000   gdańskzakoniczyn              0   28375.0   \n",
       "2          266.650000    gdańskujeścisko              0   28560.0   \n",
       "3           20.976530           warszawa              1  318999.0   \n",
       "4           20.920753           warszawa              1  600000.0   \n",
       "\n",
       "   area_total_y  price_permeter_y  \n",
       "0    672.000000           19254.0  \n",
       "1      3.388060            8375.0  \n",
       "2      3.336449            8560.0  \n",
       "3     32.000000            9969.0  \n",
       "4     62.000000            9677.0  "
      ]
     },
     "execution_count": 4,
     "metadata": {},
     "output_type": "execute_result"
    }
   ],
   "source": [
    "df.head()"
   ]
  },
  {
   "cell_type": "code",
   "execution_count": 5,
   "metadata": {
    "scrolled": false
   },
   "outputs": [
    {
     "data": {
      "text/html": [
       "<div>\n",
       "<style scoped>\n",
       "    .dataframe tbody tr th:only-of-type {\n",
       "        vertical-align: middle;\n",
       "    }\n",
       "\n",
       "    .dataframe tbody tr th {\n",
       "        vertical-align: top;\n",
       "    }\n",
       "\n",
       "    .dataframe thead th {\n",
       "        text-align: right;\n",
       "    }\n",
       "</style>\n",
       "<table border=\"1\" class=\"dataframe\">\n",
       "  <thead>\n",
       "    <tr style=\"text-align: right;\">\n",
       "      <th></th>\n",
       "      <th>apartment_room_number</th>\n",
       "      <th>apartment_floor</th>\n",
       "      <th>building_year</th>\n",
       "      <th>location_latitude</th>\n",
       "      <th>location_longitude</th>\n",
       "      <th>private_offer</th>\n",
       "      <th>price_y</th>\n",
       "      <th>area_total_y</th>\n",
       "      <th>price_permeter_y</th>\n",
       "    </tr>\n",
       "  </thead>\n",
       "  <tbody>\n",
       "    <tr>\n",
       "      <td>count</td>\n",
       "      <td>49707.000000</td>\n",
       "      <td>49707.000000</td>\n",
       "      <td>49707.000000</td>\n",
       "      <td>49707.000000</td>\n",
       "      <td>49707.000000</td>\n",
       "      <td>49707.000000</td>\n",
       "      <td>4.970700e+04</td>\n",
       "      <td>49524.000000</td>\n",
       "      <td>49524.000000</td>\n",
       "    </tr>\n",
       "    <tr>\n",
       "      <td>mean</td>\n",
       "      <td>2.664373</td>\n",
       "      <td>0.179069</td>\n",
       "      <td>2002.392198</td>\n",
       "      <td>55.984364</td>\n",
       "      <td>26.069654</td>\n",
       "      <td>0.129056</td>\n",
       "      <td>4.626348e+05</td>\n",
       "      <td>75.818882</td>\n",
       "      <td>8209.857365</td>\n",
       "    </tr>\n",
       "    <tr>\n",
       "      <td>std</td>\n",
       "      <td>0.937723</td>\n",
       "      <td>0.966038</td>\n",
       "      <td>257.121110</td>\n",
       "      <td>30.403853</td>\n",
       "      <td>41.656125</td>\n",
       "      <td>0.335266</td>\n",
       "      <td>3.698312e+05</td>\n",
       "      <td>1927.625175</td>\n",
       "      <td>3521.259497</td>\n",
       "    </tr>\n",
       "    <tr>\n",
       "      <td>min</td>\n",
       "      <td>1.000000</td>\n",
       "      <td>0.000000</td>\n",
       "      <td>1.000000</td>\n",
       "      <td>0.189970</td>\n",
       "      <td>0.064450</td>\n",
       "      <td>0.000000</td>\n",
       "      <td>0.000000e+00</td>\n",
       "      <td>1.000000</td>\n",
       "      <td>0.287356</td>\n",
       "    </tr>\n",
       "    <tr>\n",
       "      <td>25%</td>\n",
       "      <td>2.000000</td>\n",
       "      <td>0.000000</td>\n",
       "      <td>1988.000000</td>\n",
       "      <td>50.938480</td>\n",
       "      <td>17.111280</td>\n",
       "      <td>0.000000</td>\n",
       "      <td>2.973220e+05</td>\n",
       "      <td>42.100037</td>\n",
       "      <td>6100.000000</td>\n",
       "    </tr>\n",
       "    <tr>\n",
       "      <td>50%</td>\n",
       "      <td>3.000000</td>\n",
       "      <td>0.000000</td>\n",
       "      <td>2018.000000</td>\n",
       "      <td>52.176720</td>\n",
       "      <td>19.189160</td>\n",
       "      <td>0.000000</td>\n",
       "      <td>3.925000e+05</td>\n",
       "      <td>53.800389</td>\n",
       "      <td>7609.000000</td>\n",
       "    </tr>\n",
       "    <tr>\n",
       "      <td>75%</td>\n",
       "      <td>3.000000</td>\n",
       "      <td>0.000000</td>\n",
       "      <td>2020.000000</td>\n",
       "      <td>52.410490</td>\n",
       "      <td>20.990780</td>\n",
       "      <td>0.000000</td>\n",
       "      <td>5.274360e+05</td>\n",
       "      <td>67.610422</td>\n",
       "      <td>9691.000000</td>\n",
       "    </tr>\n",
       "    <tr>\n",
       "      <td>max</td>\n",
       "      <td>11.000000</td>\n",
       "      <td>49.000000</td>\n",
       "      <td>32767.000000</td>\n",
       "      <td>662.561800</td>\n",
       "      <td>469.732800</td>\n",
       "      <td>1.000000</td>\n",
       "      <td>2.000000e+07</td>\n",
       "      <td>428037.000000</td>\n",
       "      <td>135803.000000</td>\n",
       "    </tr>\n",
       "  </tbody>\n",
       "</table>\n",
       "</div>"
      ],
      "text/plain": [
       "       apartment_room_number  apartment_floor  building_year  \\\n",
       "count           49707.000000     49707.000000   49707.000000   \n",
       "mean                2.664373         0.179069    2002.392198   \n",
       "std                 0.937723         0.966038     257.121110   \n",
       "min                 1.000000         0.000000       1.000000   \n",
       "25%                 2.000000         0.000000    1988.000000   \n",
       "50%                 3.000000         0.000000    2018.000000   \n",
       "75%                 3.000000         0.000000    2020.000000   \n",
       "max                11.000000        49.000000   32767.000000   \n",
       "\n",
       "       location_latitude  location_longitude  private_offer       price_y  \\\n",
       "count       49707.000000        49707.000000   49707.000000  4.970700e+04   \n",
       "mean           55.984364           26.069654       0.129056  4.626348e+05   \n",
       "std            30.403853           41.656125       0.335266  3.698312e+05   \n",
       "min             0.189970            0.064450       0.000000  0.000000e+00   \n",
       "25%            50.938480           17.111280       0.000000  2.973220e+05   \n",
       "50%            52.176720           19.189160       0.000000  3.925000e+05   \n",
       "75%            52.410490           20.990780       0.000000  5.274360e+05   \n",
       "max           662.561800          469.732800       1.000000  2.000000e+07   \n",
       "\n",
       "        area_total_y  price_permeter_y  \n",
       "count   49524.000000      49524.000000  \n",
       "mean       75.818882       8209.857365  \n",
       "std      1927.625175       3521.259497  \n",
       "min         1.000000          0.287356  \n",
       "25%        42.100037       6100.000000  \n",
       "50%        53.800389       7609.000000  \n",
       "75%        67.610422       9691.000000  \n",
       "max    428037.000000     135803.000000  "
      ]
     },
     "execution_count": 5,
     "metadata": {},
     "output_type": "execute_result"
    }
   ],
   "source": [
    "df.describe()  # obliczenie podstwowych statystyk"
   ]
  },
  {
   "cell_type": "code",
   "execution_count": 6,
   "metadata": {
    "scrolled": true
   },
   "outputs": [
    {
     "data": {
      "text/plain": [
       "apartment_floor            0.337280\n",
       "building_year             26.831255\n",
       "location_latitude          8.278583\n",
       "location_longitude        13.362115\n",
       "private_offer              0.224801\n",
       "price_y               195971.757279\n",
       "area_total_y              43.880723\n",
       "price_permeter_y        2456.619992\n",
       "dtype: float64"
      ]
     },
     "execution_count": 6,
     "metadata": {},
     "output_type": "execute_result"
    }
   ],
   "source": [
    "df[df.columns[1:]].mad() # obliczenie odchylenia przeciętnego"
   ]
  },
  {
   "cell_type": "code",
   "execution_count": 46,
   "metadata": {
    "scrolled": false
   },
   "outputs": [
    {
     "ename": "IndexError",
     "evalue": "only integers, slices (`:`), ellipsis (`...`), numpy.newaxis (`None`) and integer or boolean arrays are valid indices",
     "output_type": "error",
     "traceback": [
      "\u001b[1;31m---------------------------------------------------------------------------\u001b[0m",
      "\u001b[1;31mIndexError\u001b[0m                                Traceback (most recent call last)",
      "\u001b[1;32m<ipython-input-46-d5a91bf0d6e9>\u001b[0m in \u001b[0;36m<module>\u001b[1;34m\u001b[0m\n\u001b[0;32m      1\u001b[0m \u001b[0mp_price\u001b[0m \u001b[1;33m=\u001b[0m \u001b[0mdf\u001b[0m\u001b[1;33m.\u001b[0m\u001b[0mprice_y\u001b[0m\u001b[1;33m\u001b[0m\u001b[1;33m\u001b[0m\u001b[0m\n\u001b[1;32m----> 2\u001b[1;33m \u001b[0mdf\u001b[0m\u001b[1;33m[\u001b[0m\u001b[0mdf\u001b[0m\u001b[1;33m.\u001b[0m\u001b[0mcolumns\u001b[0m\u001b[1;33m[\u001b[0m\u001b[1;34m'price_y'\u001b[0m\u001b[1;33m]\u001b[0m\u001b[1;33m]\u001b[0m\u001b[1;33m.\u001b[0m\u001b[0mplot\u001b[0m\u001b[1;33m.\u001b[0m\u001b[0mbox\u001b[0m\u001b[1;33m(\u001b[0m \u001b[0mfigsize\u001b[0m \u001b[1;33m=\u001b[0m \u001b[1;33m(\u001b[0m\u001b[1;36m10\u001b[0m\u001b[1;33m,\u001b[0m\u001b[1;36m5\u001b[0m\u001b[1;33m)\u001b[0m\u001b[1;33m,\u001b[0m \u001b[0mfontsize\u001b[0m \u001b[1;33m=\u001b[0m \u001b[1;36m10\u001b[0m\u001b[1;33m)\u001b[0m \u001b[1;31m# boxplot zmiennej zależnej\u001b[0m\u001b[1;33m\u001b[0m\u001b[1;33m\u001b[0m\u001b[0m\n\u001b[0m",
      "\u001b[1;32m~\\Anaconda3\\lib\\site-packages\\pandas\\core\\indexes\\base.py\u001b[0m in \u001b[0;36m__getitem__\u001b[1;34m(self, key)\u001b[0m\n\u001b[0;32m   4278\u001b[0m         \u001b[1;32mif\u001b[0m \u001b[0mis_scalar\u001b[0m\u001b[1;33m(\u001b[0m\u001b[0mkey\u001b[0m\u001b[1;33m)\u001b[0m\u001b[1;33m:\u001b[0m\u001b[1;33m\u001b[0m\u001b[1;33m\u001b[0m\u001b[0m\n\u001b[0;32m   4279\u001b[0m             \u001b[0mkey\u001b[0m \u001b[1;33m=\u001b[0m \u001b[0mcom\u001b[0m\u001b[1;33m.\u001b[0m\u001b[0mcast_scalar_indexer\u001b[0m\u001b[1;33m(\u001b[0m\u001b[0mkey\u001b[0m\u001b[1;33m)\u001b[0m\u001b[1;33m\u001b[0m\u001b[1;33m\u001b[0m\u001b[0m\n\u001b[1;32m-> 4280\u001b[1;33m             \u001b[1;32mreturn\u001b[0m \u001b[0mgetitem\u001b[0m\u001b[1;33m(\u001b[0m\u001b[0mkey\u001b[0m\u001b[1;33m)\u001b[0m\u001b[1;33m\u001b[0m\u001b[1;33m\u001b[0m\u001b[0m\n\u001b[0m\u001b[0;32m   4281\u001b[0m \u001b[1;33m\u001b[0m\u001b[0m\n\u001b[0;32m   4282\u001b[0m         \u001b[1;32mif\u001b[0m \u001b[0misinstance\u001b[0m\u001b[1;33m(\u001b[0m\u001b[0mkey\u001b[0m\u001b[1;33m,\u001b[0m \u001b[0mslice\u001b[0m\u001b[1;33m)\u001b[0m\u001b[1;33m:\u001b[0m\u001b[1;33m\u001b[0m\u001b[1;33m\u001b[0m\u001b[0m\n",
      "\u001b[1;31mIndexError\u001b[0m: only integers, slices (`:`), ellipsis (`...`), numpy.newaxis (`None`) and integer or boolean arrays are valid indices"
     ]
    }
   ],
   "source": [
    "p_price = df.price_y\n",
    "df[df.columns['price_y']].plot.box( figsize = (10,5), fontsize = 10) # boxplot zmiennej zależnej"
   ]
  },
  {
   "cell_type": "code",
   "execution_count": 38,
   "metadata": {
    "scrolled": false
   },
   "outputs": [
    {
     "data": {
      "image/png": "[encoded data removed]",
      "text/plain": [
       "<Figure size 1440x720 with 1 Axes>"
      ]
     },
     "metadata": {
      "needs_background": "light"
     },
     "output_type": "display_data"
    }
   ],
   "source": [
    "# boxplot zmiennych niezależnych\n",
    "\n",
    "plot_other = other.boxplot(rot = 90, figsize = (20,10), fontsize = 15)"
   ]
  },
  {
   "cell_type": "code",
   "execution_count": 65,
   "metadata": {
    "scrolled": false
   },
   "outputs": [
    {
     "data": {
      "text/plain": [
       "(<matplotlib.axes._subplots.AxesSubplot at 0x13e1098ca08>,)"
      ]
     },
     "execution_count": 65,
     "metadata": {},
     "output_type": "execute_result"
    },
    {
     "data": {
      "image/png": "[encoded data removed]",
      "text/plain": [
       "<Figure size 720x360 with 1 Axes>"
      ]
     },
     "metadata": {
      "needs_background": "light"
     },
     "output_type": "display_data"
    }
   ],
   "source": [
    "df[df.columns[0]].plot.box( figsize = (10,5), fontsize = 10),  # boxplot liczby pokoi"
   ]
  },
  {
   "cell_type": "code",
   "execution_count": 67,
   "metadata": {},
   "outputs": [
    {
     "data": {
      "text/plain": [
       "2.6643732271108695"
      ]
     },
     "execution_count": 67,
     "metadata": {},
     "output_type": "execute_result"
    }
   ],
   "source": [
    "df.apartment_room_number.mean()"
   ]
  },
  {
   "cell_type": "code",
   "execution_count": 51,
   "metadata": {
    "scrolled": false
   },
   "outputs": [
    {
     "data": {
      "text/plain": [
       "(<matplotlib.axes._subplots.AxesSubplot at 0x13e102a9548>,)"
      ]
     },
     "execution_count": 51,
     "metadata": {},
     "output_type": "execute_result"
    },
    {
     "data": {
      "image/png": "[encoded data removed]",
      "text/plain": [
       "<Figure size 720x360 with 1 Axes>"
      ]
     },
     "metadata": {
      "needs_background": "light"
     },
     "output_type": "display_data"
    }
   ],
   "source": [
    "df[df.columns[1]].plot.box( figsize = (10,5), fontsize = 10),  # boxplot liczby pięter"
   ]
  },
  {
   "cell_type": "code",
   "execution_count": 63,
   "metadata": {},
   "outputs": [
    {
     "data": {
      "text/plain": [
       "0.1790693463697266"
      ]
     },
     "execution_count": 63,
     "metadata": {},
     "output_type": "execute_result"
    }
   ],
   "source": [
    "df.apartment_floor.mean()"
   ]
  },
  {
   "cell_type": "code",
   "execution_count": 86,
   "metadata": {},
   "outputs": [
    {
     "data": {
      "text/html": [
       "<div>\n",
       "<style scoped>\n",
       "    .dataframe tbody tr th:only-of-type {\n",
       "        vertical-align: middle;\n",
       "    }\n",
       "\n",
       "    .dataframe tbody tr th {\n",
       "        vertical-align: top;\n",
       "    }\n",
       "\n",
       "    .dataframe thead th {\n",
       "        text-align: right;\n",
       "    }\n",
       "</style>\n",
       "<table border=\"1\" class=\"dataframe\">\n",
       "  <thead>\n",
       "    <tr style=\"text-align: right;\">\n",
       "      <th></th>\n",
       "      <th>apartment_room_number</th>\n",
       "      <th>apartment_floor</th>\n",
       "      <th>building_year</th>\n",
       "      <th>location_latitude</th>\n",
       "      <th>location_longitude</th>\n",
       "      <th>location_city_name</th>\n",
       "      <th>private_offer</th>\n",
       "      <th>price_y</th>\n",
       "      <th>area_total_y</th>\n",
       "      <th>price_permeter_y</th>\n",
       "    </tr>\n",
       "  </thead>\n",
       "  <tbody>\n",
       "    <tr>\n",
       "      <td>398</td>\n",
       "      <td>2.0</td>\n",
       "      <td>25.0</td>\n",
       "      <td>2020.0</td>\n",
       "      <td>325.724</td>\n",
       "      <td>101.313</td>\n",
       "      <td>gdyniadąbrowa</td>\n",
       "      <td>0.0</td>\n",
       "      <td>26900.0</td>\n",
       "      <td>3.898551</td>\n",
       "      <td>6900.0</td>\n",
       "    </tr>\n",
       "  </tbody>\n",
       "</table>\n",
       "</div>"
      ],
      "text/plain": [
       "     apartment_room_number  apartment_floor  building_year  location_latitude  \\\n",
       "398                    2.0             25.0         2020.0            325.724   \n",
       "\n",
       "     location_longitude location_city_name  private_offer  price_y  \\\n",
       "398             101.313      gdyniadąbrowa            0.0  26900.0   \n",
       "\n",
       "     area_total_y  price_permeter_y  \n",
       "398      3.898551            6900.0  "
      ]
     },
     "execution_count": 86,
     "metadata": {},
     "output_type": "execute_result"
    }
   ],
   "source": [
    "df.where(df.apartment_floor > 20).dropna()\n",
    "# dziwne bo na boxplocie jest punkt ok. 50"
   ]
  },
  {
   "cell_type": "code",
   "execution_count": 52,
   "metadata": {
    "scrolled": true
   },
   "outputs": [
    {
     "data": {
      "text/plain": [
       "(<matplotlib.axes._subplots.AxesSubplot at 0x13e10302308>,)"
      ]
     },
     "execution_count": 52,
     "metadata": {},
     "output_type": "execute_result"
    },
    {
     "data": {
      "image/png": "[encoded data removed]",
      "text/plain": [
       "<Figure size 720x360 with 1 Axes>"
      ]
     },
     "metadata": {
      "needs_background": "light"
     },
     "output_type": "display_data"
    }
   ],
   "source": [
    "df[df.columns[2]].plot.box( figsize = (10,5), fontsize = 10),  # boxplot liczby roku budowy"
   ]
  },
  {
   "cell_type": "code",
   "execution_count": 69,
   "metadata": {},
   "outputs": [
    {
     "data": {
      "text/plain": [
       "32767.0"
      ]
     },
     "execution_count": 69,
     "metadata": {},
     "output_type": "execute_result"
    }
   ],
   "source": [
    "df.building_year.max()"
   ]
  },
  {
   "cell_type": "code",
   "execution_count": 76,
   "metadata": {},
   "outputs": [
    {
     "data": {
      "text/html": [
       "<div>\n",
       "<style scoped>\n",
       "    .dataframe tbody tr th:only-of-type {\n",
       "        vertical-align: middle;\n",
       "    }\n",
       "\n",
       "    .dataframe tbody tr th {\n",
       "        vertical-align: top;\n",
       "    }\n",
       "\n",
       "    .dataframe thead th {\n",
       "        text-align: right;\n",
       "    }\n",
       "</style>\n",
       "<table border=\"1\" class=\"dataframe\">\n",
       "  <thead>\n",
       "    <tr style=\"text-align: right;\">\n",
       "      <th></th>\n",
       "      <th>apartment_room_number</th>\n",
       "      <th>apartment_floor</th>\n",
       "      <th>building_year</th>\n",
       "      <th>location_latitude</th>\n",
       "      <th>location_longitude</th>\n",
       "      <th>location_city_name</th>\n",
       "      <th>private_offer</th>\n",
       "      <th>price_y</th>\n",
       "      <th>area_total_y</th>\n",
       "      <th>price_permeter_y</th>\n",
       "    </tr>\n",
       "  </thead>\n",
       "  <tbody>\n",
       "    <tr>\n",
       "      <td>6</td>\n",
       "      <td>4.0</td>\n",
       "      <td>0.0</td>\n",
       "      <td>2021.0</td>\n",
       "      <td>48.840000</td>\n",
       "      <td>439.420000</td>\n",
       "      <td>pruszcz gdański</td>\n",
       "      <td>1.0</td>\n",
       "      <td>26264.0</td>\n",
       "      <td>4.192848</td>\n",
       "      <td>6264.0</td>\n",
       "    </tr>\n",
       "    <tr>\n",
       "      <td>17</td>\n",
       "      <td>1.0</td>\n",
       "      <td>0.0</td>\n",
       "      <td>2021.0</td>\n",
       "      <td>51.051790</td>\n",
       "      <td>17.058290</td>\n",
       "      <td>wrocław</td>\n",
       "      <td>1.0</td>\n",
       "      <td>241000.0</td>\n",
       "      <td>25.000000</td>\n",
       "      <td>9640.0</td>\n",
       "    </tr>\n",
       "    <tr>\n",
       "      <td>50</td>\n",
       "      <td>5.0</td>\n",
       "      <td>9.0</td>\n",
       "      <td>2022.0</td>\n",
       "      <td>52.175695</td>\n",
       "      <td>21.066082</td>\n",
       "      <td>warszawa</td>\n",
       "      <td>1.0</td>\n",
       "      <td>1291394.0</td>\n",
       "      <td>118.000000</td>\n",
       "      <td>10944.0</td>\n",
       "    </tr>\n",
       "    <tr>\n",
       "      <td>56</td>\n",
       "      <td>3.0</td>\n",
       "      <td>4.0</td>\n",
       "      <td>2022.0</td>\n",
       "      <td>52.175695</td>\n",
       "      <td>21.066082</td>\n",
       "      <td>warszawa</td>\n",
       "      <td>1.0</td>\n",
       "      <td>720492.0</td>\n",
       "      <td>67.000000</td>\n",
       "      <td>10754.0</td>\n",
       "    </tr>\n",
       "    <tr>\n",
       "      <td>86</td>\n",
       "      <td>4.0</td>\n",
       "      <td>4.0</td>\n",
       "      <td>2021.0</td>\n",
       "      <td>116.071000</td>\n",
       "      <td>320.527300</td>\n",
       "      <td>gdańskłostowice</td>\n",
       "      <td>0.0</td>\n",
       "      <td>26316.0</td>\n",
       "      <td>4.166561</td>\n",
       "      <td>6316.0</td>\n",
       "    </tr>\n",
       "    <tr>\n",
       "      <td>...</td>\n",
       "      <td>...</td>\n",
       "      <td>...</td>\n",
       "      <td>...</td>\n",
       "      <td>...</td>\n",
       "      <td>...</td>\n",
       "      <td>...</td>\n",
       "      <td>...</td>\n",
       "      <td>...</td>\n",
       "      <td>...</td>\n",
       "      <td>...</td>\n",
       "    </tr>\n",
       "    <tr>\n",
       "      <td>49646</td>\n",
       "      <td>2.0</td>\n",
       "      <td>1.0</td>\n",
       "      <td>2022.0</td>\n",
       "      <td>52.232030</td>\n",
       "      <td>20.885770</td>\n",
       "      <td>warszawa</td>\n",
       "      <td>1.0</td>\n",
       "      <td>371000.0</td>\n",
       "      <td>37.000000</td>\n",
       "      <td>10027.0</td>\n",
       "    </tr>\n",
       "    <tr>\n",
       "      <td>49647</td>\n",
       "      <td>4.0</td>\n",
       "      <td>4.0</td>\n",
       "      <td>2021.0</td>\n",
       "      <td>51.762090</td>\n",
       "      <td>19.493040</td>\n",
       "      <td>łódź</td>\n",
       "      <td>1.0</td>\n",
       "      <td>459000.0</td>\n",
       "      <td>65.000000</td>\n",
       "      <td>7062.0</td>\n",
       "    </tr>\n",
       "    <tr>\n",
       "      <td>49648</td>\n",
       "      <td>3.0</td>\n",
       "      <td>1.0</td>\n",
       "      <td>2022.0</td>\n",
       "      <td>52.232030</td>\n",
       "      <td>20.885770</td>\n",
       "      <td>warszawa</td>\n",
       "      <td>1.0</td>\n",
       "      <td>519000.0</td>\n",
       "      <td>58.000000</td>\n",
       "      <td>8948.0</td>\n",
       "    </tr>\n",
       "    <tr>\n",
       "      <td>49649</td>\n",
       "      <td>2.0</td>\n",
       "      <td>1.0</td>\n",
       "      <td>2022.0</td>\n",
       "      <td>52.326590</td>\n",
       "      <td>20.950490</td>\n",
       "      <td>warszawa</td>\n",
       "      <td>1.0</td>\n",
       "      <td>299000.0</td>\n",
       "      <td>34.000000</td>\n",
       "      <td>8794.0</td>\n",
       "    </tr>\n",
       "    <tr>\n",
       "      <td>49650</td>\n",
       "      <td>3.0</td>\n",
       "      <td>0.0</td>\n",
       "      <td>2022.0</td>\n",
       "      <td>52.326590</td>\n",
       "      <td>20.950490</td>\n",
       "      <td>warszawa</td>\n",
       "      <td>1.0</td>\n",
       "      <td>445400.0</td>\n",
       "      <td>52.000000</td>\n",
       "      <td>8565.0</td>\n",
       "    </tr>\n",
       "  </tbody>\n",
       "</table>\n",
       "<p>7256 rows × 10 columns</p>\n",
       "</div>"
      ],
      "text/plain": [
       "       apartment_room_number  apartment_floor  building_year  \\\n",
       "6                        4.0              0.0         2021.0   \n",
       "17                       1.0              0.0         2021.0   \n",
       "50                       5.0              9.0         2022.0   \n",
       "56                       3.0              4.0         2022.0   \n",
       "86                       4.0              4.0         2021.0   \n",
       "...                      ...              ...            ...   \n",
       "49646                    2.0              1.0         2022.0   \n",
       "49647                    4.0              4.0         2021.0   \n",
       "49648                    3.0              1.0         2022.0   \n",
       "49649                    2.0              1.0         2022.0   \n",
       "49650                    3.0              0.0         2022.0   \n",
       "\n",
       "       location_latitude  location_longitude location_city_name  \\\n",
       "6              48.840000          439.420000    pruszcz gdański   \n",
       "17             51.051790           17.058290            wrocław   \n",
       "50             52.175695           21.066082           warszawa   \n",
       "56             52.175695           21.066082           warszawa   \n",
       "86            116.071000          320.527300    gdańskłostowice   \n",
       "...                  ...                 ...                ...   \n",
       "49646          52.232030           20.885770           warszawa   \n",
       "49647          51.762090           19.493040               łódź   \n",
       "49648          52.232030           20.885770           warszawa   \n",
       "49649          52.326590           20.950490           warszawa   \n",
       "49650          52.326590           20.950490           warszawa   \n",
       "\n",
       "       private_offer    price_y  area_total_y  price_permeter_y  \n",
       "6                1.0    26264.0      4.192848            6264.0  \n",
       "17               1.0   241000.0     25.000000            9640.0  \n",
       "50               1.0  1291394.0    118.000000           10944.0  \n",
       "56               1.0   720492.0     67.000000           10754.0  \n",
       "86               0.0    26316.0      4.166561            6316.0  \n",
       "...              ...        ...           ...               ...  \n",
       "49646            1.0   371000.0     37.000000           10027.0  \n",
       "49647            1.0   459000.0     65.000000            7062.0  \n",
       "49648            1.0   519000.0     58.000000            8948.0  \n",
       "49649            1.0   299000.0     34.000000            8794.0  \n",
       "49650            1.0   445400.0     52.000000            8565.0  \n",
       "\n",
       "[7256 rows x 10 columns]"
      ]
     },
     "execution_count": 76,
     "metadata": {},
     "output_type": "execute_result"
    }
   ],
   "source": [
    "df.where(df.building_year > 2020).dropna()  # do sprawdzenia czy pozostali tez takie mają"
   ]
  },
  {
   "cell_type": "code",
   "execution_count": 53,
   "metadata": {},
   "outputs": [
    {
     "data": {
      "text/plain": [
       "(<matplotlib.axes._subplots.AxesSubplot at 0x13e10371748>,)"
      ]
     },
     "execution_count": 53,
     "metadata": {},
     "output_type": "execute_result"
    },
    {
     "data": {
      "image/png": "[encoded data removed]",
      "text/plain": [
       "<Figure size 720x360 with 1 Axes>"
      ]
     },
     "metadata": {
      "needs_background": "light"
     },
     "output_type": "display_data"
    }
   ],
   "source": [
    "df[df.columns[3]].plot.box( figsize = (10,5), fontsize = 10),  # boxplot długości geograficznej"
   ]
  },
  {
   "cell_type": "code",
   "execution_count": 54,
   "metadata": {},
   "outputs": [
    {
     "data": {
      "text/plain": [
       "(<matplotlib.axes._subplots.AxesSubplot at 0x13e10764d08>,)"
      ]
     },
     "execution_count": 54,
     "metadata": {},
     "output_type": "execute_result"
    },
    {
     "data": {
      "image/png": "[encoded data removed]",
      "text/plain": [
       "<Figure size 720x360 with 1 Axes>"
      ]
     },
     "metadata": {
      "needs_background": "light"
     },
     "output_type": "display_data"
    }
   ],
   "source": [
    "df[df.columns[4]].plot.box( figsize = (10,5), fontsize = 10),  # boxplot szerokości geograficznej"
   ]
  },
  {
   "cell_type": "code",
   "execution_count": 57,
   "metadata": {},
   "outputs": [
    {
     "data": {
      "text/plain": [
       "(<matplotlib.axes._subplots.AxesSubplot at 0x13e108aac88>,)"
      ]
     },
     "execution_count": 57,
     "metadata": {},
     "output_type": "execute_result"
    },
    {
     "data": {
      "image/png": "[encoded data removed]",
      "text/plain": [
       "<Figure size 720x360 with 1 Axes>"
      ]
     },
     "metadata": {
      "needs_background": "light"
     },
     "output_type": "display_data"
    }
   ],
   "source": [
    "df[df.columns[8]].plot.box( figsize = (10,5), fontsize = 10),  # boxplot powierzchni\n",
    "# można ew. usunąć jeszcze tego outlajera, ale outlajery były ogólnie usuwane wczesniej "
   ]
  },
  {
   "cell_type": "code",
   "execution_count": 58,
   "metadata": {},
   "outputs": [
    {
     "data": {
      "text/plain": [
       "<matplotlib.axes._subplots.AxesSubplot at 0x13e1090da48>"
      ]
     },
     "execution_count": 58,
     "metadata": {},
     "output_type": "execute_result"
    },
    {
     "data": {
      "image/png": "[encoded data removed]",
      "text/plain": [
       "<Figure size 720x360 with 1 Axes>"
      ]
     },
     "metadata": {
      "needs_background": "light"
     },
     "output_type": "display_data"
    }
   ],
   "source": [
    "df[df.columns[9]].plot.box( figsize = (10,5), fontsize = 10)  # boxplot ceny na m2"
   ]
  },
  {
   "cell_type": "code",
   "execution_count": 94,
   "metadata": {},
   "outputs": [],
   "source": [
    "cena = df[df.columns[7]].values\n",
    "kde_estimator = st.gaussian_kde(cena)"
   ]
  },
  {
   "cell_type": "code",
   "execution_count": 96,
   "metadata": {},
   "outputs": [
    {
     "data": {
      "text/plain": [
       "0.6187129451787157"
      ]
     },
     "execution_count": 96,
     "metadata": {},
     "output_type": "execute_result"
    }
   ],
   "source": [
    "# Prawdpodobieństwo otrzymania oferty sprzedaży mieszkania w zakresie cenowym\n",
    "\n",
    "a = 200000\n",
    "b = 500000\n",
    "p = kde_estimator.integrate_box_1d(a,b) # całkowanie estymatora jądrowego w określonym przedziale \n",
    "p # prawdopodobieństwo otrzymania oferty sprzedaży"
   ]
  },
  {
   "cell_type": "code",
   "execution_count": null,
   "metadata": {},
   "outputs": [],
   "source": []
  },
  {
   "cell_type": "code",
   "execution_count": null,
   "metadata": {},
   "outputs": [],
   "source": []
  },
  {
   "cell_type": "code",
   "execution_count": null,
   "metadata": {},
   "outputs": [],
   "source": [
    "#Wykres gęstości prawdopodbieństwa dla zmiennej \" price_y\"\n",
    "\n",
    "t = np.arange(0,300000,1) # zakres kalorii dla rysunku funkcji kde\n",
    "tf = np.arange(a,b,1) # zakres kalorii dla rysunku wypełnienia\n",
    "\n",
    "plt.fill_between(tf,0,kde_estimator(tf))\n",
    "plt.plot(t,kde_estimator(t),\"blue\")\n",
    "plt.xlabel(\"Calories [kcal]\")\n",
    "plt.ylabel(\"kde()\")\n",
    "pass"
   ]
  },
  {
   "cell_type": "code",
   "execution_count": 15,
   "metadata": {},
   "outputs": [
    {
     "data": {
      "text/plain": [
       "462634.7570764681"
      ]
     },
     "execution_count": 15,
     "metadata": {},
     "output_type": "execute_result"
    }
   ],
   "source": [
    "df.price_y.mean()"
   ]
  },
  {
   "cell_type": "markdown",
   "metadata": {},
   "source": [
    "### model DecisionTreeRegression"
   ]
  },
  {
   "cell_type": "code",
   "execution_count": null,
   "metadata": {},
   "outputs": [],
   "source": [
    "y = df.price_y  # wyznaczenie ceny jako y - dane wyjściowe\n",
    "\n",
    "# feature_list = ['liczba_pokoi',  'pietro',  'rok_budowy',\n",
    "#                    'powierzchnia']\n",
    "\n",
    "feature_list = ['apartment_room_number', 'apartment_floor', 'building_year', \n",
    "                'location_latitude', 'location_longitude', 'area_total_y']\n",
    "\n",
    "X = df[feature_list]  # wyznaczenie X jako danych wejściowych"
   ]
  },
  {
   "cell_type": "code",
   "execution_count": null,
   "metadata": {},
   "outputs": [],
   "source": [
    "print(X.describe())  # wskazanie podstawowych danych"
   ]
  },
  {
   "cell_type": "code",
   "execution_count": null,
   "metadata": {},
   "outputs": [],
   "source": [
    "model = DecisionTreeRegressor(random_state = 101) # stworzenie i uczenie modelu i wyznaczenie ziarna\n",
    "model.fit(X, y)"
   ]
  },
  {
   "cell_type": "code",
   "execution_count": 101,
   "metadata": {},
   "outputs": [
    {
     "name": "stdout",
     "output_type": "stream",
     "text": [
      "83096.16780316387 142449.483207298\n",
      "Slope:\n",
      "  Std. err.:       1649.5842956315778\n",
      "  p-value:         0.0 Reject the null hypothesis?  True\n",
      "  Conf. interval:  (139736.10792464137, 145162.85848995464)\n",
      "Slope:\n",
      "  Std. err.:       1649.5842956315778\n",
      "  p-value:         0.0 Reject the null hypothesis?  True\n",
      "  Conf. interval:  (139216.2786667799, 145682.68774781612)\n",
      "Slope:\n",
      "  Std. err.:       1649.5842956315778\n",
      "  p-value:         0.0 Reject the null hypothesis?  True\n",
      "  Conf. interval:  (138200.2724661524, 146698.6939484436)\n",
      "R^2 statistic:            0.13045604064971195\n",
      "Residual Standard Error:  344868.6219517118\n",
      "Percentage error:         0.7454446875782595\n"
     ]
    },
    {
     "data": {
      "text/plain": [
       "<matplotlib.legend.Legend at 0x13e14cf52c8>"
      ]
     },
     "execution_count": 101,
     "metadata": {},
     "output_type": "execute_result"
    },
    {
     "data": {
      "image/png": "[encoded data removed]",
      "text/plain": [
       "<Figure size 432x288 with 1 Axes>"
      ]
     },
     "metadata": {
      "needs_background": "light"
     },
     "output_type": "display_data"
    }
   ],
   "source": [
    "# predyktor - liczba pokoi - apartment_room_number\n",
    "# zmienna przewidywana - cena\n",
    "\n",
    "# dopasowanie regresji\n",
    "x, y = df.apartment_room_number.values, df.price_y.values\n",
    "n, p = df.shape \n",
    "slope, intercept, r_value, p_value, std_err = stats.linregress(x, y)\n",
    "print(intercept,slope)\n",
    "\n",
    "# przedzaiały ufności\n",
    "print(\"Slope:\")\n",
    "print(\"  Std. err.:      \", std_err)\n",
    "print(\"  p-value:        \", p_value, \"Reject the null hypothesis? \", p_value < 0.10)\n",
    "print(\"  Conf. interval: \", stats.t.interval(0.90, n-2, loc=slope, scale=std_err))\n",
    "\n",
    "print(\"Slope:\")\n",
    "print(\"  Std. err.:      \", std_err)\n",
    "print(\"  p-value:        \", p_value, \"Reject the null hypothesis? \", p_value < 0.05)\n",
    "print(\"  Conf. interval: \", stats.t.interval(0.95, n-2, loc=slope, scale=std_err))\n",
    "\n",
    "print(\"Slope:\")\n",
    "print(\"  Std. err.:      \", std_err)\n",
    "print(\"  p-value:        \", p_value, \"Reject the null hypothesis? \", p_value < 0.01)\n",
    "print(\"  Conf. interval: \", stats.t.interval(0.99, n-2, loc=slope, scale=std_err))\n",
    "\n",
    "y_ = x * slope + intercept\n",
    "print(\"R^2 statistic:           \", r2_score(y, y_))\n",
    "print(\"Residual Standard Error: \", np.std((y - y_), ddof=2))\n",
    "print(\"Percentage error:        \", np.std((y - y_), ddof=2) / np.mean(y))\n",
    "\n",
    "# wykres \n",
    "plt.scatter(x,y,marker=\"o\",s=1,c=\"red\",label=\"data\")\n",
    "plt.plot(x,y_,c=\"black\",label=\"scipy lm\", linestyle = '-')  # w tym wierszu zamiast xp, yp wpisuje x i y_\n",
    "plt.legend() "
   ]
  },
  {
   "cell_type": "code",
   "execution_count": 104,
   "metadata": {},
   "outputs": [
    {
     "name": "stdout",
     "output_type": "stream",
     "text": [
      "467143.3025906124 -25177.651036015108\n",
      "Slope:\n",
      "  Std. err.:       1713.4365521446555\n",
      "  p-value:         8.885762086224958e-49 Reject the null hypothesis?  True\n",
      "  Conf. interval:  (-27996.055891894066, -22359.246180136153)\n",
      "Slope:\n",
      "  Std. err.:       1713.4365521446555\n",
      "  p-value:         8.885762086224958e-49 Reject the null hypothesis?  True\n",
      "  Conf. interval:  (-28536.006747180945, -21819.29532484927)\n",
      "Slope:\n",
      "  Std. err.:       1713.4365521446555\n",
      "  p-value:         8.885762086224958e-49 Reject the null hypothesis?  True\n",
      "  Conf. interval:  (-29591.34060673023, -20763.961465299984)\n",
      "R^2 statistic:            0.004325255611812517\n",
      "Residual Standard Error:  369034.2340664545\n",
      "Percentage error:         0.7976794402532482\n"
     ]
    },
    {
     "data": {
      "text/plain": [
       "<matplotlib.legend.Legend at 0x13e14d35d08>"
      ]
     },
     "execution_count": 104,
     "metadata": {},
     "output_type": "execute_result"
    },
    {
     "data": {
      "image/png": "[encoded data removed]",
      "text/plain": [
       "<Figure size 432x288 with 1 Axes>"
      ]
     },
     "metadata": {
      "needs_background": "light"
     },
     "output_type": "display_data"
    }
   ],
   "source": [
    "# predyktor - liczba pięter - apartment_floor\n",
    "# zmienna przewidywana - cena\n",
    "\n",
    "# dopasowanie regresji\n",
    "x, y = df.apartment_floor.values, df.price_y.values\n",
    "n, p = df.shape \n",
    "slope, intercept, r_value, p_value, std_err = stats.linregress(x, y)\n",
    "print(intercept,slope)\n",
    "\n",
    "# przedzaiały ufności\n",
    "print(\"Slope:\")\n",
    "print(\"  Std. err.:      \", std_err)\n",
    "print(\"  p-value:        \", p_value, \"Reject the null hypothesis? \", p_value < 0.10)\n",
    "print(\"  Conf. interval: \", stats.t.interval(0.90, n-2, loc=slope, scale=std_err))\n",
    "\n",
    "print(\"Slope:\")\n",
    "print(\"  Std. err.:      \", std_err)\n",
    "print(\"  p-value:        \", p_value, \"Reject the null hypothesis? \", p_value < 0.05)\n",
    "print(\"  Conf. interval: \", stats.t.interval(0.95, n-2, loc=slope, scale=std_err))\n",
    "\n",
    "print(\"Slope:\")\n",
    "print(\"  Std. err.:      \", std_err)\n",
    "print(\"  p-value:        \", p_value, \"Reject the null hypothesis? \", p_value < 0.01)\n",
    "print(\"  Conf. interval: \", stats.t.interval(0.99, n-2, loc=slope, scale=std_err))\n",
    "\n",
    "y_ = x * slope + intercept\n",
    "print(\"R^2 statistic:           \", r2_score(y, y_))\n",
    "print(\"Residual Standard Error: \", np.std((y - y_), ddof=2))\n",
    "print(\"Percentage error:        \", np.std((y - y_), ddof=2) / np.mean(y))\n",
    "\n",
    "# wykres \n",
    "plt.scatter(x,y,marker=\"o\",s=1,c=\"red\",label=\"data\")\n",
    "plt.plot(x,y_,c=\"black\",label=\"scipy lm\", linestyle = '-')  # w tym wierszu zamiast xp, yp wpisuje x i y_\n",
    "plt.legend()"
   ]
  },
  {
   "cell_type": "code",
   "execution_count": 105,
   "metadata": {},
   "outputs": [
    {
     "name": "stdout",
     "output_type": "stream",
     "text": [
      "461422.6143259618 0.6053473198438802\n",
      "Slope:\n",
      "  Std. err.:       6.451574690549871\n",
      "  p-value:         0.9252450627605552 Reject the null hypothesis?  False\n",
      "  Conf. interval:  (-10.006746494282035, 11.21744113396979)\n",
      "Slope:\n",
      "  Std. err.:       6.451574690549871\n",
      "  p-value:         0.9252450627605552 Reject the null hypothesis?  False\n",
      "  Conf. interval:  (-12.039814638970189, 13.250509278657947)\n",
      "Slope:\n",
      "  Std. err.:       6.451574690549871\n",
      "  p-value:         0.9252450627605552 Reject the null hypothesis?  False\n",
      "  Conf. interval:  (-16.01344599977337, 17.22414063946113)\n",
      "R^2 statistic:            1.7712409061676482e-07\n",
      "Residual Standard Error:  369834.88331299415\n",
      "Percentage error:         0.7994100695116273\n"
     ]
    },
    {
     "data": {
      "text/plain": [
       "<matplotlib.legend.Legend at 0x13e14da1f08>"
      ]
     },
     "execution_count": 105,
     "metadata": {},
     "output_type": "execute_result"
    },
    {
     "data": {
      "image/png": "[encoded data removed]",
      "text/plain": [
       "<Figure size 432x288 with 1 Axes>"
      ]
     },
     "metadata": {
      "needs_background": "light"
     },
     "output_type": "display_data"
    }
   ],
   "source": [
    "# predyktor - rok budowy - building_year  - ale tu trzeba sprawdzić te powyżej 2020 roku\n",
    "# zmienna przewidywana - cena\n",
    "\n",
    "# dopasowanie regresji\n",
    "x, y = df.building_year.values, df.price_y.values\n",
    "n, p = df.shape \n",
    "slope, intercept, r_value, p_value, std_err = stats.linregress(x, y)\n",
    "print(intercept,slope)\n",
    "\n",
    "# przedzaiały ufności\n",
    "print(\"Slope:\")\n",
    "print(\"  Std. err.:      \", std_err)\n",
    "print(\"  p-value:        \", p_value, \"Reject the null hypothesis? \", p_value < 0.10)\n",
    "print(\"  Conf. interval: \", stats.t.interval(0.90, n-2, loc=slope, scale=std_err))\n",
    "\n",
    "print(\"Slope:\")\n",
    "print(\"  Std. err.:      \", std_err)\n",
    "print(\"  p-value:        \", p_value, \"Reject the null hypothesis? \", p_value < 0.05)\n",
    "print(\"  Conf. interval: \", stats.t.interval(0.95, n-2, loc=slope, scale=std_err))\n",
    "\n",
    "print(\"Slope:\")\n",
    "print(\"  Std. err.:      \", std_err)\n",
    "print(\"  p-value:        \", p_value, \"Reject the null hypothesis? \", p_value < 0.01)\n",
    "print(\"  Conf. interval: \", stats.t.interval(0.99, n-2, loc=slope, scale=std_err))\n",
    "\n",
    "y_ = x * slope + intercept\n",
    "print(\"R^2 statistic:           \", r2_score(y, y_))\n",
    "print(\"Residual Standard Error: \", np.std((y - y_), ddof=2))\n",
    "print(\"Percentage error:        \", np.std((y - y_), ddof=2) / np.mean(y))\n",
    "\n",
    "# wykres \n",
    "plt.scatter(x,y,marker=\"o\",s=1,c=\"red\",label=\"data\")\n",
    "plt.plot(x,y_,c=\"black\",label=\"scipy lm\", linestyle = '-')  # w tym wierszu zamiast xp, yp wpisuje x i y_\n",
    "plt.legend()"
   ]
  },
  {
   "cell_type": "code",
   "execution_count": 106,
   "metadata": {},
   "outputs": [
    {
     "name": "stdout",
     "output_type": "stream",
     "text": [
      "562785.3134274427 -1788.902285024715\n",
      "Slope:\n",
      "  Std. err.:       53.96681669316792\n",
      "  p-value:         2.4154173181818058e-238 Reject the null hypothesis?  True\n",
      "  Conf. interval:  (-1877.6714536490067, -1700.1331164004232)\n",
      "Slope:\n",
      "  Std. err.:       53.96681669316792\n",
      "  p-value:         2.4154173181818058e-238 Reject the null hypothesis?  True\n",
      "  Conf. interval:  (-1894.6778778402693, -1683.1266922091606)\n",
      "Slope:\n",
      "  Std. err.:       53.96681669316792\n",
      "  p-value:         2.4154173181818058e-238 Reject the null hypothesis?  True\n",
      "  Conf. interval:  (-1927.9169311784879, -1649.887638870942)\n",
      "R^2 statistic:            0.021628351345462038\n",
      "Residual Standard Error:  365813.5938127807\n",
      "Percentage error:         0.7907179221130504\n"
     ]
    },
    {
     "data": {
      "text/plain": [
       "<matplotlib.legend.Legend at 0x13e1521ce88>"
      ]
     },
     "execution_count": 106,
     "metadata": {},
     "output_type": "execute_result"
    },
    {
     "data": {
      "image/png": "[encoded data removed]",
      "text/plain": [
       "<Figure size 432x288 with 1 Axes>"
      ]
     },
     "metadata": {
      "needs_background": "light"
     },
     "output_type": "display_data"
    }
   ],
   "source": [
    "# predyktor - szerokość geograficzna - location_latitude\n",
    "# zmienna przewidywana - cena\n",
    "\n",
    "# dopasowanie regresji\n",
    "x, y = df.location_latitude.values, df.price_y.values\n",
    "n, p = df.shape \n",
    "slope, intercept, r_value, p_value, std_err = stats.linregress(x, y)\n",
    "print(intercept,slope)\n",
    "\n",
    "# przedzaiały ufności\n",
    "print(\"Slope:\")\n",
    "print(\"  Std. err.:      \", std_err)\n",
    "print(\"  p-value:        \", p_value, \"Reject the null hypothesis? \", p_value < 0.10)\n",
    "print(\"  Conf. interval: \", stats.t.interval(0.90, n-2, loc=slope, scale=std_err))\n",
    "\n",
    "print(\"Slope:\")\n",
    "print(\"  Std. err.:      \", std_err)\n",
    "print(\"  p-value:        \", p_value, \"Reject the null hypothesis? \", p_value < 0.05)\n",
    "print(\"  Conf. interval: \", stats.t.interval(0.95, n-2, loc=slope, scale=std_err))\n",
    "\n",
    "print(\"Slope:\")\n",
    "print(\"  Std. err.:      \", std_err)\n",
    "print(\"  p-value:        \", p_value, \"Reject the null hypothesis? \", p_value < 0.01)\n",
    "print(\"  Conf. interval: \", stats.t.interval(0.99, n-2, loc=slope, scale=std_err))\n",
    "\n",
    "y_ = x * slope + intercept\n",
    "print(\"R^2 statistic:           \", r2_score(y, y_))\n",
    "print(\"Residual Standard Error: \", np.std((y - y_), ddof=2))\n",
    "print(\"Percentage error:        \", np.std((y - y_), ddof=2) / np.mean(y))\n",
    "\n",
    "# wykres \n",
    "plt.scatter(x,y,marker=\"o\",s=1,c=\"red\",label=\"data\")\n",
    "plt.plot(x,y_,c=\"black\",label=\"scipy lm\", linestyle = '-')  # w tym wierszu zamiast xp, yp wpisuje x i y_\n",
    "plt.legend()"
   ]
  },
  {
   "cell_type": "code",
   "execution_count": 107,
   "metadata": {},
   "outputs": [
    {
     "name": "stdout",
     "output_type": "stream",
     "text": [
      "502828.59833602165 -1541.7865371976545\n",
      "Slope:\n",
      "  Std. err.:       39.217073903949995\n",
      "  p-value:         0.0 Reject the null hypothesis?  True\n",
      "  Conf. interval:  (-1606.294085718147, -1477.278988677162)\n",
      "Slope:\n",
      "  Std. err.:       39.217073903949995\n",
      "  p-value:         0.0 Reject the null hypothesis?  True\n",
      "  Conf. interval:  (-1618.6524613870808, -1464.9206130082282)\n",
      "Slope:\n",
      "  Std. err.:       39.217073903949995\n",
      "  p-value:         0.0 Reject the null hypothesis?  True\n",
      "  Conf. interval:  (-1642.8069046382664, -1440.7661697570427)\n",
      "R^2 statistic:            0.030157764134729814\n",
      "Residual Standard Error:  364215.5276014368\n",
      "Percentage error:         0.7872636502778719\n"
     ]
    },
    {
     "data": {
      "text/plain": [
       "<matplotlib.legend.Legend at 0x13e15290f08>"
      ]
     },
     "execution_count": 107,
     "metadata": {},
     "output_type": "execute_result"
    },
    {
     "data": {
      "image/png": "[encoded data removed]",
      "text/plain": [
       "<Figure size 432x288 with 1 Axes>"
      ]
     },
     "metadata": {
      "needs_background": "light"
     },
     "output_type": "display_data"
    }
   ],
   "source": [
    "# predyktor - długość geograficzna - location_longitude\n",
    "# zmienna przewidywana - cena\n",
    "\n",
    "# dopasowanie regresji\n",
    "x, y = df.location_longitude.values, df.price_y.values\n",
    "n, p = df.shape \n",
    "slope, intercept, r_value, p_value, std_err = stats.linregress(x, y)\n",
    "print(intercept,slope)\n",
    "\n",
    "# przedzaiały ufności\n",
    "print(\"Slope:\")\n",
    "print(\"  Std. err.:      \", std_err)\n",
    "print(\"  p-value:        \", p_value, \"Reject the null hypothesis? \", p_value < 0.10)\n",
    "print(\"  Conf. interval: \", stats.t.interval(0.90, n-2, loc=slope, scale=std_err))\n",
    "\n",
    "print(\"Slope:\")\n",
    "print(\"  Std. err.:      \", std_err)\n",
    "print(\"  p-value:        \", p_value, \"Reject the null hypothesis? \", p_value < 0.05)\n",
    "print(\"  Conf. interval: \", stats.t.interval(0.95, n-2, loc=slope, scale=std_err))\n",
    "\n",
    "print(\"Slope:\")\n",
    "print(\"  Std. err.:      \", std_err)\n",
    "print(\"  p-value:        \", p_value, \"Reject the null hypothesis? \", p_value < 0.01)\n",
    "print(\"  Conf. interval: \", stats.t.interval(0.99, n-2, loc=slope, scale=std_err))\n",
    "\n",
    "y_ = x * slope + intercept\n",
    "print(\"R^2 statistic:           \", r2_score(y, y_))\n",
    "print(\"Residual Standard Error: \", np.std((y - y_), ddof=2))\n",
    "print(\"Percentage error:        \", np.std((y - y_), ddof=2) / np.mean(y))\n",
    "\n",
    "# wykres \n",
    "plt.scatter(x,y,marker=\"o\",s=1,c=\"red\",label=\"data\")\n",
    "plt.plot(x,y_,c=\"black\",label=\"scipy lm\", linestyle = '-')  # w tym wierszu zamiast xp, yp wpisuje x i y_\n",
    "plt.legend()"
   ]
  },
  {
   "cell_type": "code",
   "execution_count": 103,
   "metadata": {
    "scrolled": true
   },
   "outputs": [
    {
     "data": {
      "text/plain": [
       "Index(['apartment_room_number', 'apartment_floor', 'building_year',\n",
       "       'location_latitude', 'location_longitude', 'location_city_name',\n",
       "       'private_offer', 'price_y', 'area_total_y', 'price_permeter_y'],\n",
       "      dtype='object')"
      ]
     },
     "execution_count": 103,
     "metadata": {},
     "output_type": "execute_result"
    }
   ],
   "source": [
    "df.columns"
   ]
  },
  {
   "cell_type": "code",
   "execution_count": 109,
   "metadata": {},
   "outputs": [
    {
     "name": "stdout",
     "output_type": "stream",
     "text": [
      "nan nan\n",
      "Slope:\n",
      "  Std. err.:       nan\n",
      "  p-value:         nan Reject the null hypothesis?  False\n",
      "  Conf. interval:  (nan, nan)\n",
      "Slope:\n",
      "  Std. err.:       nan\n",
      "  p-value:         nan Reject the null hypothesis?  False\n",
      "  Conf. interval:  (nan, nan)\n",
      "Slope:\n",
      "  Std. err.:       nan\n",
      "  p-value:         nan Reject the null hypothesis?  False\n",
      "  Conf. interval:  (nan, nan)\n"
     ]
    },
    {
     "name": "stderr",
     "output_type": "stream",
     "text": [
      "C:\\Users\\48500\\Anaconda3\\lib\\site-packages\\scipy\\stats\\_distn_infrastructure.py:903: RuntimeWarning: invalid value encountered in greater\n",
      "  return (a < x) & (x < b)\n",
      "C:\\Users\\48500\\Anaconda3\\lib\\site-packages\\scipy\\stats\\_distn_infrastructure.py:903: RuntimeWarning: invalid value encountered in less\n",
      "  return (a < x) & (x < b)\n",
      "C:\\Users\\48500\\Anaconda3\\lib\\site-packages\\scipy\\stats\\_distn_infrastructure.py:1912: RuntimeWarning: invalid value encountered in less_equal\n",
      "  cond2 = cond0 & (x <= _a)\n",
      "C:\\Users\\48500\\Anaconda3\\lib\\site-packages\\scipy\\stats\\_distn_infrastructure.py:1996: RuntimeWarning: invalid value encountered in greater\n",
      "  cond0 = self._argcheck(*args) & (scale > 0) & (loc == loc)\n"
     ]
    },
    {
     "ename": "ValueError",
     "evalue": "Input contains NaN, infinity or a value too large for dtype('float64').",
     "output_type": "error",
     "traceback": [
      "\u001b[1;31m---------------------------------------------------------------------------\u001b[0m",
      "\u001b[1;31mValueError\u001b[0m                                Traceback (most recent call last)",
      "\u001b[1;32m<ipython-input-109-06b93cd17d16>\u001b[0m in \u001b[0;36m<module>\u001b[1;34m\u001b[0m\n\u001b[0;32m     25\u001b[0m \u001b[1;33m\u001b[0m\u001b[0m\n\u001b[0;32m     26\u001b[0m \u001b[0my_\u001b[0m \u001b[1;33m=\u001b[0m \u001b[0mx\u001b[0m \u001b[1;33m*\u001b[0m \u001b[0mslope\u001b[0m \u001b[1;33m+\u001b[0m \u001b[0mintercept\u001b[0m\u001b[1;33m\u001b[0m\u001b[1;33m\u001b[0m\u001b[0m\n\u001b[1;32m---> 27\u001b[1;33m \u001b[0mprint\u001b[0m\u001b[1;33m(\u001b[0m\u001b[1;34m\"R^2 statistic:           \"\u001b[0m\u001b[1;33m,\u001b[0m \u001b[0mr2_score\u001b[0m\u001b[1;33m(\u001b[0m\u001b[0my\u001b[0m\u001b[1;33m,\u001b[0m \u001b[0my_\u001b[0m\u001b[1;33m)\u001b[0m\u001b[1;33m)\u001b[0m\u001b[1;33m\u001b[0m\u001b[1;33m\u001b[0m\u001b[0m\n\u001b[0m\u001b[0;32m     28\u001b[0m \u001b[0mprint\u001b[0m\u001b[1;33m(\u001b[0m\u001b[1;34m\"Residual Standard Error: \"\u001b[0m\u001b[1;33m,\u001b[0m \u001b[0mnp\u001b[0m\u001b[1;33m.\u001b[0m\u001b[0mstd\u001b[0m\u001b[1;33m(\u001b[0m\u001b[1;33m(\u001b[0m\u001b[0my\u001b[0m \u001b[1;33m-\u001b[0m \u001b[0my_\u001b[0m\u001b[1;33m)\u001b[0m\u001b[1;33m,\u001b[0m \u001b[0mddof\u001b[0m\u001b[1;33m=\u001b[0m\u001b[1;36m2\u001b[0m\u001b[1;33m)\u001b[0m\u001b[1;33m)\u001b[0m\u001b[1;33m\u001b[0m\u001b[1;33m\u001b[0m\u001b[0m\n\u001b[0;32m     29\u001b[0m \u001b[0mprint\u001b[0m\u001b[1;33m(\u001b[0m\u001b[1;34m\"Percentage error:        \"\u001b[0m\u001b[1;33m,\u001b[0m \u001b[0mnp\u001b[0m\u001b[1;33m.\u001b[0m\u001b[0mstd\u001b[0m\u001b[1;33m(\u001b[0m\u001b[1;33m(\u001b[0m\u001b[0my\u001b[0m \u001b[1;33m-\u001b[0m \u001b[0my_\u001b[0m\u001b[1;33m)\u001b[0m\u001b[1;33m,\u001b[0m \u001b[0mddof\u001b[0m\u001b[1;33m=\u001b[0m\u001b[1;36m2\u001b[0m\u001b[1;33m)\u001b[0m \u001b[1;33m/\u001b[0m \u001b[0mnp\u001b[0m\u001b[1;33m.\u001b[0m\u001b[0mmean\u001b[0m\u001b[1;33m(\u001b[0m\u001b[0my\u001b[0m\u001b[1;33m)\u001b[0m\u001b[1;33m)\u001b[0m\u001b[1;33m\u001b[0m\u001b[1;33m\u001b[0m\u001b[0m\n",
      "\u001b[1;32m~\\Anaconda3\\lib\\site-packages\\sklearn\\metrics\\regression.py\u001b[0m in \u001b[0;36mr2_score\u001b[1;34m(y_true, y_pred, sample_weight, multioutput)\u001b[0m\n\u001b[0;32m    536\u001b[0m     \"\"\"\n\u001b[0;32m    537\u001b[0m     y_type, y_true, y_pred, multioutput = _check_reg_targets(\n\u001b[1;32m--> 538\u001b[1;33m         y_true, y_pred, multioutput)\n\u001b[0m\u001b[0;32m    539\u001b[0m     \u001b[0mcheck_consistent_length\u001b[0m\u001b[1;33m(\u001b[0m\u001b[0my_true\u001b[0m\u001b[1;33m,\u001b[0m \u001b[0my_pred\u001b[0m\u001b[1;33m,\u001b[0m \u001b[0msample_weight\u001b[0m\u001b[1;33m)\u001b[0m\u001b[1;33m\u001b[0m\u001b[1;33m\u001b[0m\u001b[0m\n\u001b[0;32m    540\u001b[0m \u001b[1;33m\u001b[0m\u001b[0m\n",
      "\u001b[1;32m~\\Anaconda3\\lib\\site-packages\\sklearn\\metrics\\regression.py\u001b[0m in \u001b[0;36m_check_reg_targets\u001b[1;34m(y_true, y_pred, multioutput)\u001b[0m\n\u001b[0;32m     77\u001b[0m     \u001b[0mcheck_consistent_length\u001b[0m\u001b[1;33m(\u001b[0m\u001b[0my_true\u001b[0m\u001b[1;33m,\u001b[0m \u001b[0my_pred\u001b[0m\u001b[1;33m)\u001b[0m\u001b[1;33m\u001b[0m\u001b[1;33m\u001b[0m\u001b[0m\n\u001b[0;32m     78\u001b[0m     \u001b[0my_true\u001b[0m \u001b[1;33m=\u001b[0m \u001b[0mcheck_array\u001b[0m\u001b[1;33m(\u001b[0m\u001b[0my_true\u001b[0m\u001b[1;33m,\u001b[0m \u001b[0mensure_2d\u001b[0m\u001b[1;33m=\u001b[0m\u001b[1;32mFalse\u001b[0m\u001b[1;33m)\u001b[0m\u001b[1;33m\u001b[0m\u001b[1;33m\u001b[0m\u001b[0m\n\u001b[1;32m---> 79\u001b[1;33m     \u001b[0my_pred\u001b[0m \u001b[1;33m=\u001b[0m \u001b[0mcheck_array\u001b[0m\u001b[1;33m(\u001b[0m\u001b[0my_pred\u001b[0m\u001b[1;33m,\u001b[0m \u001b[0mensure_2d\u001b[0m\u001b[1;33m=\u001b[0m\u001b[1;32mFalse\u001b[0m\u001b[1;33m)\u001b[0m\u001b[1;33m\u001b[0m\u001b[1;33m\u001b[0m\u001b[0m\n\u001b[0m\u001b[0;32m     80\u001b[0m \u001b[1;33m\u001b[0m\u001b[0m\n\u001b[0;32m     81\u001b[0m     \u001b[1;32mif\u001b[0m \u001b[0my_true\u001b[0m\u001b[1;33m.\u001b[0m\u001b[0mndim\u001b[0m \u001b[1;33m==\u001b[0m \u001b[1;36m1\u001b[0m\u001b[1;33m:\u001b[0m\u001b[1;33m\u001b[0m\u001b[1;33m\u001b[0m\u001b[0m\n",
      "\u001b[1;32m~\\Anaconda3\\lib\\site-packages\\sklearn\\utils\\validation.py\u001b[0m in \u001b[0;36mcheck_array\u001b[1;34m(array, accept_sparse, accept_large_sparse, dtype, order, copy, force_all_finite, ensure_2d, allow_nd, ensure_min_samples, ensure_min_features, warn_on_dtype, estimator)\u001b[0m\n\u001b[0;32m    540\u001b[0m         \u001b[1;32mif\u001b[0m \u001b[0mforce_all_finite\u001b[0m\u001b[1;33m:\u001b[0m\u001b[1;33m\u001b[0m\u001b[1;33m\u001b[0m\u001b[0m\n\u001b[0;32m    541\u001b[0m             _assert_all_finite(array,\n\u001b[1;32m--> 542\u001b[1;33m                                allow_nan=force_all_finite == 'allow-nan')\n\u001b[0m\u001b[0;32m    543\u001b[0m \u001b[1;33m\u001b[0m\u001b[0m\n\u001b[0;32m    544\u001b[0m     \u001b[1;32mif\u001b[0m \u001b[0mensure_min_samples\u001b[0m \u001b[1;33m>\u001b[0m \u001b[1;36m0\u001b[0m\u001b[1;33m:\u001b[0m\u001b[1;33m\u001b[0m\u001b[1;33m\u001b[0m\u001b[0m\n",
      "\u001b[1;32m~\\Anaconda3\\lib\\site-packages\\sklearn\\utils\\validation.py\u001b[0m in \u001b[0;36m_assert_all_finite\u001b[1;34m(X, allow_nan)\u001b[0m\n\u001b[0;32m     54\u001b[0m                 not allow_nan and not np.isfinite(X).all()):\n\u001b[0;32m     55\u001b[0m             \u001b[0mtype_err\u001b[0m \u001b[1;33m=\u001b[0m \u001b[1;34m'infinity'\u001b[0m \u001b[1;32mif\u001b[0m \u001b[0mallow_nan\u001b[0m \u001b[1;32melse\u001b[0m \u001b[1;34m'NaN, infinity'\u001b[0m\u001b[1;33m\u001b[0m\u001b[1;33m\u001b[0m\u001b[0m\n\u001b[1;32m---> 56\u001b[1;33m             \u001b[1;32mraise\u001b[0m \u001b[0mValueError\u001b[0m\u001b[1;33m(\u001b[0m\u001b[0mmsg_err\u001b[0m\u001b[1;33m.\u001b[0m\u001b[0mformat\u001b[0m\u001b[1;33m(\u001b[0m\u001b[0mtype_err\u001b[0m\u001b[1;33m,\u001b[0m \u001b[0mX\u001b[0m\u001b[1;33m.\u001b[0m\u001b[0mdtype\u001b[0m\u001b[1;33m)\u001b[0m\u001b[1;33m)\u001b[0m\u001b[1;33m\u001b[0m\u001b[1;33m\u001b[0m\u001b[0m\n\u001b[0m\u001b[0;32m     57\u001b[0m     \u001b[1;31m# for object dtype data, we only check for NaNs (GH-13254)\u001b[0m\u001b[1;33m\u001b[0m\u001b[1;33m\u001b[0m\u001b[1;33m\u001b[0m\u001b[0m\n\u001b[0;32m     58\u001b[0m     \u001b[1;32melif\u001b[0m \u001b[0mX\u001b[0m\u001b[1;33m.\u001b[0m\u001b[0mdtype\u001b[0m \u001b[1;33m==\u001b[0m \u001b[0mnp\u001b[0m\u001b[1;33m.\u001b[0m\u001b[0mdtype\u001b[0m\u001b[1;33m(\u001b[0m\u001b[1;34m'object'\u001b[0m\u001b[1;33m)\u001b[0m \u001b[1;32mand\u001b[0m \u001b[1;32mnot\u001b[0m \u001b[0mallow_nan\u001b[0m\u001b[1;33m:\u001b[0m\u001b[1;33m\u001b[0m\u001b[1;33m\u001b[0m\u001b[0m\n",
      "\u001b[1;31mValueError\u001b[0m: Input contains NaN, infinity or a value too large for dtype('float64')."
     ]
    }
   ],
   "source": [
    "# predyktor - powierzchnia - area_total_y\n",
    "# zmienna przewidywana - cena\n",
    "\n",
    "# dopasowanie regresji\n",
    "x, y = df.area_total_y.values, df.price_y.values\n",
    "n, p = df.shape \n",
    "slope, intercept, r_value, p_value, std_err = stats.linregress(x, y)\n",
    "print(intercept,slope)\n",
    "\n",
    "# przedzaiały ufności\n",
    "print(\"Slope:\")\n",
    "print(\"  Std. err.:      \", std_err)\n",
    "print(\"  p-value:        \", p_value, \"Reject the null hypothesis? \", p_value < 0.10)\n",
    "print(\"  Conf. interval: \", stats.t.interval(0.90, n-2, loc=slope, scale=std_err))\n",
    "\n",
    "print(\"Slope:\")\n",
    "print(\"  Std. err.:      \", std_err)\n",
    "print(\"  p-value:        \", p_value, \"Reject the null hypothesis? \", p_value < 0.05)\n",
    "print(\"  Conf. interval: \", stats.t.interval(0.95, n-2, loc=slope, scale=std_err))\n",
    "\n",
    "print(\"Slope:\")\n",
    "print(\"  Std. err.:      \", std_err)\n",
    "print(\"  p-value:        \", p_value, \"Reject the null hypothesis? \", p_value < 0.01)\n",
    "print(\"  Conf. interval: \", stats.t.interval(0.99, n-2, loc=slope, scale=std_err))\n",
    "\n",
    "y_ = x * slope + intercept\n",
    "print(\"R^2 statistic:           \", r2_score(y, y_))\n",
    "print(\"Residual Standard Error: \", np.std((y - y_), ddof=2))\n",
    "print(\"Percentage error:        \", np.std((y - y_), ddof=2) / np.mean(y))\n",
    "\n",
    "# wykres \n",
    "plt.scatter(x,y,marker=\"o\",s=1,c=\"red\",label=\"data\")\n",
    "plt.plot(x,y_,c=\"black\",label=\"scipy lm\", linestyle = '-')  # w tym wierszu zamiast xp, yp wpisuje x i y_\n",
    "plt.legend()"
   ]
  },
  {
   "cell_type": "code",
   "execution_count": null,
   "metadata": {},
   "outputs": [],
   "source": []
  },
  {
   "cell_type": "code",
   "execution_count": null,
   "metadata": {},
   "outputs": [],
   "source": []
  },
  {
   "cell_type": "code",
   "execution_count": null,
   "metadata": {},
   "outputs": [],
   "source": []
  },
  {
   "cell_type": "code",
   "execution_count": null,
   "metadata": {},
   "outputs": [],
   "source": []
  }
 ],
 "metadata": {
  "kernelspec": {
   "display_name": "Python 3",
   "language": "python",
   "name": "python3"
  },
  "language_info": {
   "codemirror_mode": {
    "name": "ipython",
    "version": 3
   },
   "file_extension": ".py",
   "mimetype": "text/x-python",
   "name": "python",
   "nbconvert_exporter": "python",
   "pygments_lexer": "ipython3",
   "version": "3.7.4"
  }
 },
 "nbformat": 4,
 "nbformat_minor": 2
}
