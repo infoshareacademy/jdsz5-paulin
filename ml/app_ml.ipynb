{
 "cells": [
  {
   "cell_type": "code",
   "execution_count": 1,
   "metadata": {},
   "outputs": [],
   "source": [
    "import matplotlib.pyplot as plt\n",
    "import numpy as np\n",
    "import pandas as pd\n",
    "import os.path\n",
    "from ipywidgets import widgets\n",
    "from ipywidgets import interact, interactive, fixed, interact_manual\n",
    "from ipyleaflet import Map, Marker, AwesomeIcon\n",
    "from IPython.display import clear_output"
   ]
  },
  {
   "cell_type": "code",
   "execution_count": 2,
   "metadata": {},
   "outputs": [],
   "source": [
    "from _init import *\n",
    "from recommendation_test import *"
   ]
  },
  {
   "cell_type": "code",
   "execution_count": 3,
   "metadata": {},
   "outputs": [],
   "source": [
    "data_set = Dataset()\n",
    "cleaning= Data_cleaning()\n",
    "rambling = Data_rambling()\n",
    "general_info= General_data()"
   ]
  },
  {
   "cell_type": "code",
   "execution_count": 4,
   "metadata": {},
   "outputs": [],
   "source": [
    "df=data_set.df_set(preprocess=True)\n",
    "df.columns\n",
    "general_info.df = df\n",
    "rm = rest_models(df, \"\", False)"
   ]
  },
  {
   "cell_type": "markdown",
   "metadata": {},
   "source": [
    "### Wykres Box Plot zmiennych względem województw"
   ]
  },
  {
   "cell_type": "code",
   "execution_count": 5,
   "metadata": {},
   "outputs": [
    {
     "data": {
      "application/vnd.jupyter.widget-view+json": {
       "model_id": "74bc82f9dd9d4d4dacc4aa451f615b9e",
       "version_major": 2,
       "version_minor": 0
      },
      "text/plain": [
       "interactive(children=(Dropdown(description='x', options=('apartment_room_number', 'apartment_floor', 'building…"
      ]
     },
     "metadata": {},
     "output_type": "display_data"
    }
   ],
   "source": [
    "@widgets.interact_manual(x=[\"apartment_room_number\", \"apartment_floor\", \"building_year\", \"price\", \"area_total\"])\n",
    "def plot(x=\"apartment_room_number\"):\n",
    "    general_info.box_plot(df, x)"
   ]
  },
  {
   "cell_type": "markdown",
   "metadata": {},
   "source": [
    "### Wykres Box Plot każdej zmiennej"
   ]
  },
  {
   "cell_type": "code",
   "execution_count": 6,
   "metadata": {},
   "outputs": [
    {
     "data": {
      "application/vnd.jupyter.widget-view+json": {
       "model_id": "f8a6a4b0be6e4644944fb4023bc6131a",
       "version_major": 2,
       "version_minor": 0
      },
      "text/plain": [
       "interactive(children=(Dropdown(description='x', options=('apartment_room_number', 'apartment_floor', 'building…"
      ]
     },
     "metadata": {},
     "output_type": "display_data"
    }
   ],
   "source": [
    "@widgets.interact_manual(x=[\"apartment_room_number\", \"apartment_floor\", \"building_year\", \"price\", \"area_total\"])\n",
    "def plot(x=\"apartment_room_number\"):\n",
    "    general_info.single_box_plot(df, x)"
   ]
  },
  {
   "cell_type": "markdown",
   "metadata": {},
   "source": [
    "### Histogram każdej zmiennej"
   ]
  },
  {
   "cell_type": "code",
   "execution_count": 7,
   "metadata": {},
   "outputs": [
    {
     "data": {
      "application/vnd.jupyter.widget-view+json": {
       "model_id": "5a8156a1296b4aa3ae0a58a53477df42",
       "version_major": 2,
       "version_minor": 0
      },
      "text/plain": [
       "interactive(children=(Dropdown(description='x', options=('apartment_room_number', 'apartment_floor', 'building…"
      ]
     },
     "metadata": {},
     "output_type": "display_data"
    }
   ],
   "source": [
    "@widgets.interact_manual(x=[\"apartment_room_number\", \"apartment_floor\", \"building_year\", \"price\", \"area_total\"])\n",
    "def plot(x=\"apartment_room_number\"):\n",
    "    general_info.hists(df, x)"
   ]
  },
  {
   "cell_type": "markdown",
   "metadata": {},
   "source": [
    "### Ważność zmiennych wykreślanych przy pomocy obiektu XGBoost"
   ]
  },
  {
   "cell_type": "code",
   "execution_count": 8,
   "metadata": {},
   "outputs": [
    {
     "name": "stdout",
     "output_type": "stream",
     "text": [
      "[19:32:23] WARNING: src/objective/regression_obj.cu:152: reg:linear is now deprecated in favor of reg:squarederror.\n"
     ]
    },
    {
     "data": {
      "image/png": "[encoded data removed]",
      "text/plain": [
       "<Figure size 720x576 with 1 Axes>"
      ]
     },
     "metadata": {
      "needs_background": "light"
     },
     "output_type": "display_data"
    }
   ],
   "source": [
    "general_info.feature_importants(df)"
   ]
  },
  {
   "cell_type": "markdown",
   "metadata": {},
   "source": [
    "### Aplikacja"
   ]
  },
  {
   "cell_type": "code",
   "execution_count": 9,
   "metadata": {},
   "outputs": [
    {
     "data": {
      "application/vnd.jupyter.widget-view+json": {
       "model_id": "48fb6bd434884624b4a9fb30fd41d91c",
       "version_major": 2,
       "version_minor": 0
      },
      "text/plain": [
       "Map(center=[52.0, 20.0], controls=(ZoomControl(options=['position', 'zoom_in_text', 'zoom_in_title', 'zoom_out…"
      ]
     },
     "metadata": {},
     "output_type": "display_data"
    }
   ],
   "source": [
    "center = (52.0, 20.0)\n",
    "estate = AwesomeIcon(name='home',marker_color='red',icon_color='white',spin=False)\n",
    "m = Map(center=center, zoom=5)\n",
    "marker = Marker(icon=estate, location=center, draggable=True)\n",
    "m.add_layer(marker);\n",
    "display(m)"
   ]
  },
  {
   "cell_type": "code",
   "execution_count": 10,
   "metadata": {},
   "outputs": [
    {
     "data": {
      "application/vnd.jupyter.widget-view+json": {
       "model_id": "1fd881385eb544ffb9611e7b7b845ad4",
       "version_major": 2,
       "version_minor": 0
      },
      "text/plain": [
       "IntSlider(value=2000, continuous_update=False, description='Rok budowy:', max=2021, min=1930)"
      ]
     },
     "metadata": {},
     "output_type": "display_data"
    }
   ],
   "source": [
    "building_w = widgets.IntSlider(value=2000,min=1930,max=2021,step=1,description='Rok budowy:',disabled=False,continuous_update=False,orientation='horizontal',readout=True)\n",
    "display(building_w)"
   ]
  },
  {
   "cell_type": "code",
   "execution_count": 11,
   "metadata": {},
   "outputs": [
    {
     "data": {
      "application/vnd.jupyter.widget-view+json": {
       "model_id": "313dc2ec160e4d889832bace82ae8be8",
       "version_major": 2,
       "version_minor": 0
      },
      "text/plain": [
       "BoundedFloatText(value=10.0, description='Powierzchnia:', max=500.0)"
      ]
     },
     "metadata": {},
     "output_type": "display_data"
    }
   ],
   "source": [
    "area_total_w = widgets.BoundedFloatText(value=10.0, max=500.0, description='Powierzchnia:', disabled=False)\n",
    "display(area_total_w)"
   ]
  },
  {
   "cell_type": "code",
   "execution_count": 12,
   "metadata": {},
   "outputs": [
    {
     "data": {
      "application/vnd.jupyter.widget-view+json": {
       "model_id": "c433c67023d24876a7c0cce3fab9ddac",
       "version_major": 2,
       "version_minor": 0
      },
      "text/plain": [
       "IntSlider(value=1, continuous_update=False, description='Liczba pokoi:', max=10, min=1)"
      ]
     },
     "metadata": {},
     "output_type": "display_data"
    }
   ],
   "source": [
    "apartment_room_number_w = widgets.IntSlider(value=1,min=1,max=10,step=1, description='Liczba pokoi:',disabled=False,continuous_update=False,orientation='horizontal',readout=True)\n",
    "display(apartment_room_number_w)"
   ]
  },
  {
   "cell_type": "code",
   "execution_count": 13,
   "metadata": {},
   "outputs": [
    {
     "data": {
      "application/vnd.jupyter.widget-view+json": {
       "model_id": "9a2a23426ddb4877aba665314e19c388",
       "version_major": 2,
       "version_minor": 0
      },
      "text/plain": [
       "IntSlider(value=0, continuous_update=False, description='Piętro:', max=25)"
      ]
     },
     "metadata": {},
     "output_type": "display_data"
    }
   ],
   "source": [
    "apartment_floor_w = widgets.IntSlider(value=0,min=0,max=25,step=1,description='Piętro:',disabled=False,continuous_update=False,orientation='horizontal',readout=True)\n",
    "display(apartment_floor_w)"
   ]
  },
  {
   "cell_type": "code",
   "execution_count": 16,
   "metadata": {},
   "outputs": [
    {
     "data": {
      "application/vnd.jupyter.widget-view+json": {
       "model_id": "af4ecd1e5f0a4b5fb943adfd2556ae11",
       "version_major": 2,
       "version_minor": 0
      },
      "text/plain": [
       "Button(button_style='success', description='Sprawdź cenę', style=ButtonStyle())"
      ]
     },
     "metadata": {},
     "output_type": "display_data"
    },
    {
     "data": {
      "application/vnd.jupyter.widget-view+json": {
       "model_id": "dbc9faf275474af9b12cc31a6180b9fd",
       "version_major": 2,
       "version_minor": 0
      },
      "text/plain": [
       "Output()"
      ]
     },
     "metadata": {},
     "output_type": "display_data"
    }
   ],
   "source": [
    "model_w = widgets.Button(description='Sprawdź cenę',disabled=False,button_style='success')\n",
    "output = widgets.Output()\n",
    "\n",
    "display(model_w, output)\n",
    "\n",
    "def on_button_clicked(b):\n",
    "    with output:\n",
    "        try:\n",
    "            apartment_floor = apartment_floor_w.value\n",
    "            apartment_room_number = apartment_room_number_w.value\n",
    "            area_total = area_total_w.value\n",
    "            building_year = building_w.value \n",
    "            lat = marker.location[0] \n",
    "            long = marker.location[1]\n",
    "            x_user = pd.DataFrame.from_dict({\n",
    "                \"fixed_latitude\": [lat],\n",
    "                \"fixed_longitude\": [long], \n",
    "                \"building_year\": [building_year],\n",
    "                \"area_total\": [area_total], \n",
    "                \"apartment_room_number\": [apartment_room_number], \n",
    "                \"apartment_floor\": [apartment_floor]\n",
    "            })\n",
    "            models = rm.load_model(\"regression\", load_type=\"joblib\", return_type=\"dict\")\n",
    "            for k, m in models.items():\n",
    "                y_pred = m.predict(x_user)\n",
    "                print(f\"przewidziana cena: {y_pred} dla modelu {k}\")\n",
    "        except Exception as e:\n",
    "            print(e)\n",
    "model_w.on_click(on_button_clicked)"
   ]
  },
  {
   "cell_type": "markdown",
   "metadata": {},
   "source": [
    "### System rekomendacyjny"
   ]
  },
  {
   "cell_type": "code",
   "execution_count": 15,
   "metadata": {},
   "outputs": [
    {
     "name": "stdout",
     "output_type": "stream",
     "text": [
      "\u001b[31m(22814, 7)\u001b[0m\n",
      "Wycena mieszkania na podstawie mieszkań podobnych:\n",
      "1. Wg cena całkowitych mieszkań podobnych\n",
      " - cena średnia: 337799.8\n",
      " - cena minimalna:  190000.0\n",
      " - cena maksymalna:  550000.0\n",
      "2. Wg cen za m2 mieszkań podobnych\n",
      " - średnia cena za m2: 2712.26\n",
      " - cena minimalna za m2:  270.6\n",
      " - cena maksymalna za m2:  5527.6\n",
      "3. Wycena mieszkania testowego na podstawie średniej ceny mieszkań podobnych:  2416836.5\n",
      "4. testowa oferta\n",
      "\u001b[31mprice                    950000.000000\n",
      "area_total                 1702.000000\n",
      "building_year              1993.466667\n",
      "fixed_latitude               51.078552\n",
      "fixed_longitude              17.053194\n",
      "apartment_room_number         0.000000\n",
      "apartment_floor               0.000000\n",
      "location_province            10.000000\n",
      "Name: 22695, dtype: float64\u001b[0m\n"
     ]
    },
    {
     "data": {
      "text/html": [
       "<div>\n",
       "<style scoped>\n",
       "    .dataframe tbody tr th:only-of-type {\n",
       "        vertical-align: middle;\n",
       "    }\n",
       "\n",
       "    .dataframe tbody tr th {\n",
       "        vertical-align: top;\n",
       "    }\n",
       "\n",
       "    .dataframe thead th {\n",
       "        text-align: right;\n",
       "    }\n",
       "</style>\n",
       "<table border=\"1\" class=\"dataframe\">\n",
       "  <thead>\n",
       "    <tr style=\"text-align: right;\">\n",
       "      <th></th>\n",
       "      <th>price</th>\n",
       "      <th>area_total</th>\n",
       "      <th>price_permeter</th>\n",
       "      <th>apartment_room_number</th>\n",
       "      <th>apartment_floor</th>\n",
       "      <th>building_year</th>\n",
       "    </tr>\n",
       "  </thead>\n",
       "  <tbody>\n",
       "    <tr>\n",
       "      <th>0</th>\n",
       "      <td>399000.0</td>\n",
       "      <td>106.9</td>\n",
       "      <td>3733.2</td>\n",
       "      <td>0.0</td>\n",
       "      <td>0.0</td>\n",
       "      <td>2019.0</td>\n",
       "    </tr>\n",
       "    <tr>\n",
       "      <th>1</th>\n",
       "      <td>250000.0</td>\n",
       "      <td>923.9</td>\n",
       "      <td>270.6</td>\n",
       "      <td>0.0</td>\n",
       "      <td>0.0</td>\n",
       "      <td>1979.0</td>\n",
       "    </tr>\n",
       "    <tr>\n",
       "      <th>2</th>\n",
       "      <td>190000.0</td>\n",
       "      <td>52.0</td>\n",
       "      <td>3653.8</td>\n",
       "      <td>0.0</td>\n",
       "      <td>0.0</td>\n",
       "      <td>1974.0</td>\n",
       "    </tr>\n",
       "    <tr>\n",
       "      <th>3</th>\n",
       "      <td>299999.0</td>\n",
       "      <td>797.6</td>\n",
       "      <td>376.1</td>\n",
       "      <td>0.0</td>\n",
       "      <td>0.0</td>\n",
       "      <td>2020.0</td>\n",
       "    </tr>\n",
       "    <tr>\n",
       "      <th>4</th>\n",
       "      <td>550000.0</td>\n",
       "      <td>99.5</td>\n",
       "      <td>5527.6</td>\n",
       "      <td>0.0</td>\n",
       "      <td>0.0</td>\n",
       "      <td>2596.0</td>\n",
       "    </tr>\n",
       "  </tbody>\n",
       "</table>\n",
       "</div>"
      ],
      "text/plain": [
       "      price  area_total  price_permeter  apartment_room_number  \\\n",
       "0  399000.0       106.9          3733.2                    0.0   \n",
       "1  250000.0       923.9           270.6                    0.0   \n",
       "2  190000.0        52.0          3653.8                    0.0   \n",
       "3  299999.0       797.6           376.1                    0.0   \n",
       "4  550000.0        99.5          5527.6                    0.0   \n",
       "\n",
       "   apartment_floor  building_year  \n",
       "0              0.0         2019.0  \n",
       "1              0.0         1979.0  \n",
       "2              0.0         1974.0  \n",
       "3              0.0         2020.0  \n",
       "4              0.0         2596.0  "
      ]
     },
     "execution_count": 15,
     "metadata": {},
     "output_type": "execute_result"
    }
   ],
   "source": [
    "run_knn()"
   ]
  }
 ],
 "metadata": {
  "kernelspec": {
   "display_name": "Python 3",
   "language": "python",
   "name": "python3"
  },
  "language_info": {
   "codemirror_mode": {
    "name": "ipython",
    "version": 3
   },
   "file_extension": ".py",
   "mimetype": "text/x-python",
   "name": "python",
   "nbconvert_exporter": "python",
   "pygments_lexer": "ipython3",
   "version": "3.6.5"
  }
 },
 "nbformat": 4,
 "nbformat_minor": 2
}
