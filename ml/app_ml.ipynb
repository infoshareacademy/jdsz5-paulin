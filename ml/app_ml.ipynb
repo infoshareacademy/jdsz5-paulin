{
 "cells": [
  {
   "cell_type": "code",
   "execution_count": 1,
   "metadata": {},
   "outputs": [],
   "source": [
    "import matplotlib.pyplot as plt\n",
    "import numpy as np\n",
    "import pandas as pd\n",
    "import os.path\n",
    "from ipywidgets import widgets\n",
    "from ipywidgets import interact, interactive, fixed, interact_manual\n",
    "from ipyleaflet import Map, Marker, AwesomeIcon\n",
    "from IPython.display import clear_output"
   ]
  },
  {
   "cell_type": "code",
   "execution_count": 2,
   "metadata": {},
   "outputs": [],
   "source": [
    "from _init import *"
   ]
  },
  {
   "cell_type": "code",
   "execution_count": 3,
   "metadata": {},
   "outputs": [],
   "source": [
    "data_set = Dataset()\n",
    "cleaning= Data_cleaning()\n",
    "rambling = Data_rambling()\n",
    "general_info= General_data()"
   ]
  },
  {
   "cell_type": "code",
   "execution_count": null,
   "metadata": {},
   "outputs": [],
   "source": [
    "df=data_set.df_set(preprocess=True)\n",
    "df.columns\n",
    "general_info.df = df\n",
    "rm = rest_models(df, \"\", False)"
   ]
  },
  {
   "cell_type": "code",
   "execution_count": null,
   "metadata": {},
   "outputs": [],
   "source": [
    "@widgets.interact_manual(x=[\"apartment_room_number\", \"apartment_floor\", \"building_year\", \"price\", \"area_total\"])\n",
    "def plot(x=\"apartment_room_number\"):\n",
    "    general_info.box_plot(df, x)"
   ]
  },
  {
   "cell_type": "code",
   "execution_count": null,
   "metadata": {},
   "outputs": [],
   "source": [
    "@widgets.interact_manual(x=[\"apartment_room_number\", \"apartment_floor\", \"building_year\", \"price\", \"area_total\"])\n",
    "def plot(x=\"apartment_room_number\"):\n",
    "    general_info.single_box_plot(df, x)"
   ]
  },
  {
   "cell_type": "code",
   "execution_count": null,
   "metadata": {},
   "outputs": [],
   "source": [
    "@widgets.interact_manual(x=[\"apartment_room_number\", \"apartment_floor\", \"building_year\", \"price\", \"area_total\"])\n",
    "def plot(x=\"apartment_room_number\"):\n",
    "    general_info.hists(df, x)"
   ]
  },
  {
   "cell_type": "code",
   "execution_count": null,
   "metadata": {},
   "outputs": [],
   "source": [
    "general_info.feature_importants(df)"
   ]
  },
  {
   "cell_type": "code",
   "execution_count": null,
   "metadata": {},
   "outputs": [],
   "source": [
    "center = (52.0, 20.0)\n",
    "estate = AwesomeIcon(name='home',marker_color='red',icon_color='white',spin=False)\n",
    "m = Map(center=center, zoom=5)\n",
    "marker = Marker(icon=estate, location=center, draggable=True)\n",
    "m.add_layer(marker);\n",
    "display(m)"
   ]
  },
  {
   "cell_type": "code",
   "execution_count": null,
   "metadata": {},
   "outputs": [],
   "source": [
    "building_w = widgets.IntSlider(value=2000,min=1930,max=2021,step=1,description='Rok budowy:',disabled=False,continuous_update=False,orientation='horizontal',readout=True)\n",
    "display(building_w)"
   ]
  },
  {
   "cell_type": "code",
   "execution_count": null,
   "metadata": {},
   "outputs": [],
   "source": [
    "area_total_w = widgets.BoundedFloatText(value=10.0, max=500.0, description='Powierzchnia:', disabled=False)\n",
    "display(area_total_w)"
   ]
  },
  {
   "cell_type": "code",
   "execution_count": null,
   "metadata": {},
   "outputs": [],
   "source": [
    "apartment_room_number_w = widgets.IntSlider(value=1,min=1,max=10,step=1, description='Liczba pokoi:',disabled=False,continuous_update=False,orientation='horizontal',readout=True)\n",
    "display(apartment_room_number_w)"
   ]
  },
  {
   "cell_type": "code",
   "execution_count": null,
   "metadata": {},
   "outputs": [],
   "source": [
    "apartment_floor_w = widgets.IntSlider(value=0,min=0,max=25,step=1,description='Piętro:',disabled=False,continuous_update=False,orientation='horizontal',readout=True)\n",
    "display(apartment_floor_w)"
   ]
  },
  {
   "cell_type": "code",
   "execution_count": null,
   "metadata": {},
   "outputs": [],
   "source": [
    "model_w = widgets.Button(description='Sprawdź cenę',disabled=False,button_style='success')\n",
    "output = widgets.Output()\n",
    "\n",
    "display(model_w, output)\n",
    "\n",
    "def on_button_clicked(b):\n",
    "    with output:\n",
    "        try:\n",
    "            apartment_floor = apartment_floor_w.value\n",
    "            apartment_room_number = apartment_room_number_w.value\n",
    "            area_total = area_total_w.value\n",
    "            building_year = building_w.value \n",
    "            lat = marker.location[0] \n",
    "            long = marker.location[1]\n",
    "            x_user = pd.DataFrame.from_dict({\n",
    "                \"fixed_latitude\": lat,\n",
    "                \"fixed_longitude\": long, \n",
    "                \"building_year\": building_year,\n",
    "                \"area_total\": area_total, \n",
    "                \"apartment_room_number\": apartment_room_number, \n",
    "                \"apartment_floor\": apartment_floor\n",
    "            })\n",
    "            models = rm.load_model(\"regression\", load_type=\"joblib\", return_type=\"dict\")\n",
    "            for k, m in models.items():\n",
    "                y_pred = m.predict(x_user)\n",
    "                print(f\"przewidziana cena: {y_pred} dla modelu {k}\")\n",
    "        except Exception as e:\n",
    "            print(e)\n",
    "model_w.on_click(on_button_clicked)"
   ]
  },
  {
   "cell_type": "code",
   "execution_count": null,
   "metadata": {},
   "outputs": [],
   "source": [
    "model_classifier_w = widgets.Button(description='Pokaż rekomendacje',disabled=False,button_style='warning')\n",
    "output_class = widgets.Output()\n",
    "\n",
    "display(model_classifier_w, output_class)\n",
    "def on_buttonclassifier_clicked(b):\n",
    "    with output_class:\n",
    "        try:\n",
    "            t = TTT()\n",
    "#             models = rm.load_ball()\n",
    "#             print(models)\n",
    "        except Exception as e:\n",
    "            print(e)\n",
    "model_classifier_w.on_click(on_buttonclassifier_clicked)"
   ]
  }
 ],
 "metadata": {
  "kernelspec": {
   "display_name": "Python 3",
   "language": "python",
   "name": "python3"
  },
  "language_info": {
   "codemirror_mode": {
    "name": "ipython",
    "version": 3
   },
   "file_extension": ".py",
   "mimetype": "text/x-python",
   "name": "python",
   "nbconvert_exporter": "python",
   "pygments_lexer": "ipython3",
   "version": "3.6.5"
  }
 },
 "nbformat": 4,
 "nbformat_minor": 2
}
