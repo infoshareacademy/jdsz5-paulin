{
 "cells": [
  {
   "cell_type": "code",
   "execution_count": 1,
   "metadata": {},
   "outputs": [],
   "source": [
    "import numpy as np\n",
    "import pandas as pd\n",
    "import matplotlib.pyplot as plt\n",
    "from datetime import datetime as dt\n",
    "from datetime import date\n",
    "\n",
    "from mlxtend.plotting import plot_decision_regions\n",
    "from sklearn import datasets\n",
    "import matplotlib.pyplot as plt\n",
    "from sklearn.preprocessing import LabelEncoder\n",
    "import seaborn as sns\n",
    "\n",
    "from sklearn.metrics import mean_absolute_error,mean_squared_error\n",
    "from sklearn.tree import DecisionTreeRegressor\n",
    "\n",
    "%matplotlib inline\n",
    "\n",
    "from scipy import stats\n",
    "from sklearn.metrics import r2_score\n",
    "\n",
    "from sklearn.preprocessing import StandardScaler, MinMaxScaler\n",
    "from sklearn.svm import SVC, SVR\n",
    "from sklearn.model_selection import train_test_split\n",
    "from sklearn import datasets\n",
    "\n",
    "import matplotlib as plt\n",
    "import seaborn as sns\n",
    "\n",
    "import matplotlib.pyplot as plt\n",
    "import scipy as sp \n",
    "import seaborn as sns\n",
    "import itertools\n",
    "import scipy.stats as ssp\n",
    "%matplotlib inline\n",
    "import seaborn as sns\n",
    "\n",
    "import scipy.stats as st\n",
    "\n",
    "import ipywidgets as widgets\n",
    "from IPython.display import display\n",
    "\n",
    "import matplotlib.pyplot as plt\n",
    "from ipywidgets import widgets\n",
    "from ipywidgets import interact, interactive, fixed, interact_manual"
   ]
  },
  {
   "cell_type": "code",
   "execution_count": 2,
   "metadata": {},
   "outputs": [
    {
     "name": "stderr",
     "output_type": "stream",
     "text": [
      "C:\\Users\\48500\\Anaconda3\\lib\\site-packages\\IPython\\core\\interactiveshell.py:3058: DtypeWarning: Columns (10,11,16) have mixed types. Specify dtype option on import or set low_memory=False.\n",
      "  interactivity=interactivity, compiler=compiler, result=result)\n"
     ]
    }
   ],
   "source": [
    "df=pd.read_csv('portal-offers-05.06.2020.csv')"
   ]
  },
  {
   "cell_type": "code",
   "execution_count": 3,
   "metadata": {},
   "outputs": [],
   "source": [
    "df2=df[(df.main_type_name == 'mieszkanie')]\n",
    "#df.loc[[df['main_type_name']=='dom' or df['main_type_name']== 'mieszkanie']]"
   ]
  },
  {
   "cell_type": "code",
   "execution_count": 4,
   "metadata": {},
   "outputs": [],
   "source": [
    "df3=df2[(df2.transaction_name == 'sprzedaż')]"
   ]
  },
  {
   "cell_type": "code",
   "execution_count": 5,
   "metadata": {},
   "outputs": [
    {
     "name": "stderr",
     "output_type": "stream",
     "text": [
      "C:\\Users\\48500\\Anaconda3\\lib\\site-packages\\pandas\\core\\frame.py:4102: SettingWithCopyWarning: \n",
      "A value is trying to be set on a copy of a slice from a DataFrame\n",
      "\n",
      "See the caveats in the documentation: http://pandas.pydata.org/pandas-docs/stable/user_guide/indexing.html#returning-a-view-versus-a-copy\n",
      "  errors=errors,\n"
     ]
    }
   ],
   "source": [
    "df3.drop(columns=['portal_id','main_type_id','transaction','transaction_name','id','description','location_district_name','raw_data'],inplace=True)"
   ]
  },
  {
   "cell_type": "code",
   "execution_count": 6,
   "metadata": {},
   "outputs": [
    {
     "name": "stderr",
     "output_type": "stream",
     "text": [
      "C:\\Users\\48500\\Anaconda3\\lib\\site-packages\\ipykernel_launcher.py:1: SettingWithCopyWarning: \n",
      "A value is trying to be set on a copy of a slice from a DataFrame.\n",
      "Try using .loc[row_indexer,col_indexer] = value instead\n",
      "\n",
      "See the caveats in the documentation: http://pandas.pydata.org/pandas-docs/stable/user_guide/indexing.html#returning-a-view-versus-a-copy\n",
      "  \"\"\"Entry point for launching an IPython kernel.\n"
     ]
    }
   ],
   "source": [
    "df3['location_latitude'] = pd.to_numeric(df3.location_latitude, errors='coerce')"
   ]
  },
  {
   "cell_type": "code",
   "execution_count": 7,
   "metadata": {},
   "outputs": [
    {
     "name": "stderr",
     "output_type": "stream",
     "text": [
      "C:\\Users\\48500\\Anaconda3\\lib\\site-packages\\ipykernel_launcher.py:1: SettingWithCopyWarning: \n",
      "A value is trying to be set on a copy of a slice from a DataFrame.\n",
      "Try using .loc[row_indexer,col_indexer] = value instead\n",
      "\n",
      "See the caveats in the documentation: http://pandas.pydata.org/pandas-docs/stable/user_guide/indexing.html#returning-a-view-versus-a-copy\n",
      "  \"\"\"Entry point for launching an IPython kernel.\n"
     ]
    }
   ],
   "source": [
    "df3['location_longitude'] = pd.to_numeric(df3.location_longitude, errors='coerce')"
   ]
  },
  {
   "cell_type": "code",
   "execution_count": 8,
   "metadata": {},
   "outputs": [
    {
     "name": "stderr",
     "output_type": "stream",
     "text": [
      "C:\\Users\\48500\\Anaconda3\\lib\\site-packages\\pandas\\core\\frame.py:3494: SettingWithCopyWarning: \n",
      "A value is trying to be set on a copy of a slice from a DataFrame.\n",
      "Try using .loc[row_indexer,col_indexer] = value instead\n",
      "\n",
      "See the caveats in the documentation: http://pandas.pydata.org/pandas-docs/stable/user_guide/indexing.html#returning-a-view-versus-a-copy\n",
      "  self[k1] = value[k2]\n"
     ]
    }
   ],
   "source": [
    "df3[['location_latitude','location_longitude']] = df3[['location_latitude','location_longitude']].replace(',','.')"
   ]
  },
  {
   "cell_type": "code",
   "execution_count": 9,
   "metadata": {},
   "outputs": [],
   "source": [
    "df4=df3[(df3['location_latitude'].notnull()) & (df3['location_longitude'].notnull())]"
   ]
  },
  {
   "cell_type": "code",
   "execution_count": 10,
   "metadata": {},
   "outputs": [],
   "source": [
    "var_house=df4[['price', 'area_total', 'price_permeter']].apply(pd.to_numeric, errors='coerce')"
   ]
  },
  {
   "cell_type": "code",
   "execution_count": 11,
   "metadata": {},
   "outputs": [],
   "source": [
    "\n",
    "df5=df4.merge(var_house, left_index=True, right_index=True)"
   ]
  },
  {
   "cell_type": "code",
   "execution_count": 12,
   "metadata": {},
   "outputs": [],
   "source": [
    "df6=df5.drop(columns=['price_x','area_total_x','price_permeter_x'])"
   ]
  },
  {
   "cell_type": "code",
   "execution_count": 13,
   "metadata": {},
   "outputs": [],
   "source": [
    "df6.area_total_y=np.where(df6.area_total_y.isnull(),df6.price_y/df6.price_permeter_y,df6.area_total_y)"
   ]
  },
  {
   "cell_type": "code",
   "execution_count": 14,
   "metadata": {},
   "outputs": [],
   "source": [
    "df6.price_permeter_y=np.where(df6.price_permeter_y.isnull(),df6.price_y/df6.area_total_y,df6.price_permeter_y)"
   ]
  },
  {
   "cell_type": "code",
   "execution_count": 15,
   "metadata": {},
   "outputs": [],
   "source": [
    "df6.apartment_floor.fillna(0,inplace=True)\n",
    "#jeżeli 'apartment_room' to liczba pokoi a nie wszystkich pomieszczeń\n",
    "df6.apartment_room_number.fillna(1,inplace=True)"
   ]
  },
  {
   "cell_type": "code",
   "execution_count": 16,
   "metadata": {},
   "outputs": [],
   "source": [
    "convert_dict = {'apartment_room_number': int,\n",
    "                'apartment_floor': int\n",
    "               }"
   ]
  },
  {
   "cell_type": "code",
   "execution_count": 17,
   "metadata": {},
   "outputs": [],
   "source": [
    "df7=df6.astype(convert_dict)"
   ]
  },
  {
   "cell_type": "code",
   "execution_count": 18,
   "metadata": {},
   "outputs": [],
   "source": [
    "ilo=df7.building_year.isnull().sum()/df7.building_year.sum()\n",
    "ilo\n",
    "#stanowi to 0.5% więc można usunąc te wyniki bądź spróbować znaleźć, poprzez kmean albo inny model jaki powinen być wiek budynku\n",
    "#na ten moment ja wyrzucam\n",
    "df8 = df7[df7.building_year.notnull()]\n",
    "# analiza tylko tych obiektów, które posiadają cene\n",
    "df9 = df8[df8.price_y.notnull()]"
   ]
  },
  {
   "cell_type": "code",
   "execution_count": 19,
   "metadata": {},
   "outputs": [],
   "source": [
    "#df9"
   ]
  },
  {
   "cell_type": "code",
   "execution_count": 20,
   "metadata": {},
   "outputs": [],
   "source": [
    "df9.columns = ['portal',  'typ', 'liczba_pokoi', 'pietro', 'building_floornumber',  'rok_budowy',  'szerokosc_geo',\n",
    "                   'dlugosc_geo', 'wojewodztwo',  'miasto', 'dzielnica',  'ulica', 'add_date', 'update_date', 'last_scan_date',  'source_add_date',  'source_update_date', 'private_offer', 'cena',  'powierzchnia',  'cena_m2']"
   ]
  },
  {
   "cell_type": "code",
   "execution_count": 21,
   "metadata": {
    "scrolled": true
   },
   "outputs": [],
   "source": [
    "# df9"
   ]
  },
  {
   "cell_type": "code",
   "execution_count": 22,
   "metadata": {
    "scrolled": true
   },
   "outputs": [],
   "source": [
    "spr = df9[['typ', 'cena', 'cena_m2', 'liczba_pokoi',  'pietro',  'rok_budowy',\n",
    "                   'wojewodztwo',  'miasto', 'powierzchnia']]"
   ]
  },
  {
   "cell_type": "code",
   "execution_count": 23,
   "metadata": {},
   "outputs": [],
   "source": [
    "pd.set_option('display.max_columns', None)\n",
    "pd.set_option('display.max_rows', None)"
   ]
  },
  {
   "cell_type": "code",
   "execution_count": 24,
   "metadata": {},
   "outputs": [
    {
     "name": "stderr",
     "output_type": "stream",
     "text": [
      "C:\\Users\\48500\\Anaconda3\\lib\\site-packages\\pandas\\core\\indexing.py:205: SettingWithCopyWarning: \n",
      "A value is trying to be set on a copy of a slice from a DataFrame\n",
      "\n",
      "See the caveats in the documentation: http://pandas.pydata.org/pandas-docs/stable/user_guide/indexing.html#returning-a-view-versus-a-copy\n",
      "  self._setitem_with_indexer(indexer, value)\n",
      "C:\\Users\\48500\\Anaconda3\\lib\\site-packages\\ipykernel_launcher.py:1: SettingWithCopyWarning: \n",
      "A value is trying to be set on a copy of a slice from a DataFrame\n",
      "\n",
      "See the caveats in the documentation: http://pandas.pydata.org/pandas-docs/stable/user_guide/indexing.html#returning-a-view-versus-a-copy\n",
      "  \"\"\"Entry point for launching an IPython kernel.\n",
      "C:\\Users\\48500\\Anaconda3\\lib\\site-packages\\ipykernel_launcher.py:2: SettingWithCopyWarning: \n",
      "A value is trying to be set on a copy of a slice from a DataFrame\n",
      "\n",
      "See the caveats in the documentation: http://pandas.pydata.org/pandas-docs/stable/user_guide/indexing.html#returning-a-view-versus-a-copy\n",
      "  \n",
      "C:\\Users\\48500\\Anaconda3\\lib\\site-packages\\ipykernel_launcher.py:3: SettingWithCopyWarning: \n",
      "A value is trying to be set on a copy of a slice from a DataFrame\n",
      "\n",
      "See the caveats in the documentation: http://pandas.pydata.org/pandas-docs/stable/user_guide/indexing.html#returning-a-view-versus-a-copy\n",
      "  This is separate from the ipykernel package so we can avoid doing imports until\n",
      "C:\\Users\\48500\\Anaconda3\\lib\\site-packages\\ipykernel_launcher.py:4: SettingWithCopyWarning: \n",
      "A value is trying to be set on a copy of a slice from a DataFrame\n",
      "\n",
      "See the caveats in the documentation: http://pandas.pydata.org/pandas-docs/stable/user_guide/indexing.html#returning-a-view-versus-a-copy\n",
      "  after removing the cwd from sys.path.\n",
      "C:\\Users\\48500\\Anaconda3\\lib\\site-packages\\ipykernel_launcher.py:5: SettingWithCopyWarning: \n",
      "A value is trying to be set on a copy of a slice from a DataFrame\n",
      "\n",
      "See the caveats in the documentation: http://pandas.pydata.org/pandas-docs/stable/user_guide/indexing.html#returning-a-view-versus-a-copy\n",
      "  \"\"\"\n",
      "C:\\Users\\48500\\Anaconda3\\lib\\site-packages\\ipykernel_launcher.py:6: SettingWithCopyWarning: \n",
      "A value is trying to be set on a copy of a slice from a DataFrame\n",
      "\n",
      "See the caveats in the documentation: http://pandas.pydata.org/pandas-docs/stable/user_guide/indexing.html#returning-a-view-versus-a-copy\n",
      "  \n",
      "C:\\Users\\48500\\Anaconda3\\lib\\site-packages\\ipykernel_launcher.py:7: SettingWithCopyWarning: \n",
      "A value is trying to be set on a copy of a slice from a DataFrame\n",
      "\n",
      "See the caveats in the documentation: http://pandas.pydata.org/pandas-docs/stable/user_guide/indexing.html#returning-a-view-versus-a-copy\n",
      "  import sys\n",
      "C:\\Users\\48500\\Anaconda3\\lib\\site-packages\\ipykernel_launcher.py:8: SettingWithCopyWarning: \n",
      "A value is trying to be set on a copy of a slice from a DataFrame\n",
      "\n",
      "See the caveats in the documentation: http://pandas.pydata.org/pandas-docs/stable/user_guide/indexing.html#returning-a-view-versus-a-copy\n",
      "  \n",
      "C:\\Users\\48500\\Anaconda3\\lib\\site-packages\\ipykernel_launcher.py:9: SettingWithCopyWarning: \n",
      "A value is trying to be set on a copy of a slice from a DataFrame\n",
      "\n",
      "See the caveats in the documentation: http://pandas.pydata.org/pandas-docs/stable/user_guide/indexing.html#returning-a-view-versus-a-copy\n",
      "  if __name__ == '__main__':\n",
      "C:\\Users\\48500\\Anaconda3\\lib\\site-packages\\ipykernel_launcher.py:10: SettingWithCopyWarning: \n",
      "A value is trying to be set on a copy of a slice from a DataFrame\n",
      "\n",
      "See the caveats in the documentation: http://pandas.pydata.org/pandas-docs/stable/user_guide/indexing.html#returning-a-view-versus-a-copy\n",
      "  # Remove the CWD from sys.path while we load stuff.\n",
      "C:\\Users\\48500\\Anaconda3\\lib\\site-packages\\ipykernel_launcher.py:11: SettingWithCopyWarning: \n",
      "A value is trying to be set on a copy of a slice from a DataFrame\n",
      "\n",
      "See the caveats in the documentation: http://pandas.pydata.org/pandas-docs/stable/user_guide/indexing.html#returning-a-view-versus-a-copy\n",
      "  # This is added back by InteractiveShellApp.init_path()\n",
      "C:\\Users\\48500\\Anaconda3\\lib\\site-packages\\ipykernel_launcher.py:12: SettingWithCopyWarning: \n",
      "A value is trying to be set on a copy of a slice from a DataFrame\n",
      "\n",
      "See the caveats in the documentation: http://pandas.pydata.org/pandas-docs/stable/user_guide/indexing.html#returning-a-view-versus-a-copy\n",
      "  if sys.path[0] == '':\n",
      "C:\\Users\\48500\\Anaconda3\\lib\\site-packages\\ipykernel_launcher.py:13: SettingWithCopyWarning: \n",
      "A value is trying to be set on a copy of a slice from a DataFrame\n",
      "\n",
      "See the caveats in the documentation: http://pandas.pydata.org/pandas-docs/stable/user_guide/indexing.html#returning-a-view-versus-a-copy\n",
      "  del sys.path[0]\n",
      "C:\\Users\\48500\\Anaconda3\\lib\\site-packages\\ipykernel_launcher.py:14: SettingWithCopyWarning: \n",
      "A value is trying to be set on a copy of a slice from a DataFrame\n",
      "\n",
      "See the caveats in the documentation: http://pandas.pydata.org/pandas-docs/stable/user_guide/indexing.html#returning-a-view-versus-a-copy\n",
      "  \n",
      "C:\\Users\\48500\\Anaconda3\\lib\\site-packages\\ipykernel_launcher.py:15: SettingWithCopyWarning: \n",
      "A value is trying to be set on a copy of a slice from a DataFrame\n",
      "\n",
      "See the caveats in the documentation: http://pandas.pydata.org/pandas-docs/stable/user_guide/indexing.html#returning-a-view-versus-a-copy\n",
      "  from ipykernel import kernelapp as app\n",
      "C:\\Users\\48500\\Anaconda3\\lib\\site-packages\\ipykernel_launcher.py:16: SettingWithCopyWarning: \n",
      "A value is trying to be set on a copy of a slice from a DataFrame\n",
      "\n",
      "See the caveats in the documentation: http://pandas.pydata.org/pandas-docs/stable/user_guide/indexing.html#returning-a-view-versus-a-copy\n",
      "  app.launch_new_instance()\n",
      "C:\\Users\\48500\\Anaconda3\\lib\\site-packages\\ipykernel_launcher.py:17: SettingWithCopyWarning: \n",
      "A value is trying to be set on a copy of a slice from a DataFrame\n",
      "\n",
      "See the caveats in the documentation: http://pandas.pydata.org/pandas-docs/stable/user_guide/indexing.html#returning-a-view-versus-a-copy\n",
      "C:\\Users\\48500\\Anaconda3\\lib\\site-packages\\ipykernel_launcher.py:18: SettingWithCopyWarning: \n",
      "A value is trying to be set on a copy of a slice from a DataFrame\n",
      "\n",
      "See the caveats in the documentation: http://pandas.pydata.org/pandas-docs/stable/user_guide/indexing.html#returning-a-view-versus-a-copy\n",
      "C:\\Users\\48500\\Anaconda3\\lib\\site-packages\\ipykernel_launcher.py:19: SettingWithCopyWarning: \n",
      "A value is trying to be set on a copy of a slice from a DataFrame\n",
      "\n",
      "See the caveats in the documentation: http://pandas.pydata.org/pandas-docs/stable/user_guide/indexing.html#returning-a-view-versus-a-copy\n",
      "C:\\Users\\48500\\Anaconda3\\lib\\site-packages\\ipykernel_launcher.py:20: SettingWithCopyWarning: \n",
      "A value is trying to be set on a copy of a slice from a DataFrame\n",
      "\n",
      "See the caveats in the documentation: http://pandas.pydata.org/pandas-docs/stable/user_guide/indexing.html#returning-a-view-versus-a-copy\n",
      "C:\\Users\\48500\\Anaconda3\\lib\\site-packages\\ipykernel_launcher.py:21: SettingWithCopyWarning: \n",
      "A value is trying to be set on a copy of a slice from a DataFrame\n",
      "\n",
      "See the caveats in the documentation: http://pandas.pydata.org/pandas-docs/stable/user_guide/indexing.html#returning-a-view-versus-a-copy\n",
      "C:\\Users\\48500\\Anaconda3\\lib\\site-packages\\ipykernel_launcher.py:22: SettingWithCopyWarning: \n",
      "A value is trying to be set on a copy of a slice from a DataFrame\n",
      "\n",
      "See the caveats in the documentation: http://pandas.pydata.org/pandas-docs/stable/user_guide/indexing.html#returning-a-view-versus-a-copy\n"
     ]
    }
   ],
   "source": [
    "spr.wojewodztwo.loc[spr.wojewodztwo.str.startswith('Dolnośląskie')] = 'dolnoslaskie'\n",
    "spr.wojewodztwo.loc[spr.wojewodztwo.str.startswith('Dolnoslaskie')] = 'dolnoslaskie'\n",
    "spr.wojewodztwo.loc[spr.wojewodztwo.str.startswith('Zachodniopomorskie')] = 'zachodniopomorskie'\n",
    "spr.wojewodztwo.loc[spr.wojewodztwo.str.startswith('Mazowieckie')] = 'mazowieckie'\n",
    "spr.wojewodztwo.loc[spr.wojewodztwo.str.startswith('Małopolskie')] = 'malopolskie'\n",
    "spr.wojewodztwo.loc[spr.wojewodztwo.str.startswith('Malopolskie')] = 'malopolskie'\n",
    "spr.wojewodztwo.loc[spr.wojewodztwo.str.startswith('Podlaskie')] = 'podlaskie'\n",
    "spr.wojewodztwo.loc[spr.wojewodztwo.str.startswith('Pomorskie')] = 'pomorskie'\n",
    "spr.wojewodztwo.loc[spr.wojewodztwo.str.startswith('Podkarpackie')] = 'podkarpackie'\n",
    "spr.wojewodztwo.loc[spr.wojewodztwo.str.startswith('Kujawsko-Pomorskie')] = 'kujawsko-pomorskie'\n",
    "spr.wojewodztwo.loc[spr.wojewodztwo.str.startswith('Lubelskie')] = 'lubelskie'\n",
    "spr.wojewodztwo.loc[spr.wojewodztwo.str.startswith('Lubuskie')] = 'lubuskie'\n",
    "spr.wojewodztwo.loc[spr.wojewodztwo.str.startswith('Lódzkie')] = 'lodzkie'\n",
    "spr.wojewodztwo.loc[spr.wojewodztwo.str.startswith('Łódzkie')] = 'lodzkie'\n",
    "spr.wojewodztwo.loc[spr.wojewodztwo.str.startswith('Śląskie')] = 'slaskie'\n",
    "spr.wojewodztwo.loc[spr.wojewodztwo.str.startswith('Slaskie')] = 'slaskie'\n",
    "spr.wojewodztwo.loc[spr.wojewodztwo.str.startswith('Swietokrzyskie')] = 'swietokrzyskie'\n",
    "spr.wojewodztwo.loc[spr.wojewodztwo.str.startswith('Świętokrzyskie')] = 'swietokrzyskie'\n",
    "spr.wojewodztwo.loc[spr.wojewodztwo.str.startswith('Wielkopolskie')] = 'wielkopolskie'\n",
    "spr.wojewodztwo.loc[spr.wojewodztwo.str.startswith('Warmińsko-Mazurskie')] = 'warminsko-mazurskie'\n",
    "spr.wojewodztwo.loc[spr.wojewodztwo.str.startswith('Warminsko-Mazurskie')] = 'warminsko-mazurskie'\n",
    "spr.wojewodztwo.loc[spr.wojewodztwo.str.startswith('Opolskie')] = 'opolskie'"
   ]
  },
  {
   "cell_type": "code",
   "execution_count": 25,
   "metadata": {},
   "outputs": [
    {
     "name": "stderr",
     "output_type": "stream",
     "text": [
      "C:\\Users\\48500\\Anaconda3\\lib\\site-packages\\ipykernel_launcher.py:1: SettingWithCopyWarning: \n",
      "A value is trying to be set on a copy of a slice from a DataFrame\n",
      "\n",
      "See the caveats in the documentation: http://pandas.pydata.org/pandas-docs/stable/user_guide/indexing.html#returning-a-view-versus-a-copy\n",
      "  \"\"\"Entry point for launching an IPython kernel.\n"
     ]
    }
   ],
   "source": [
    "spr1 = spr.dropna(inplace=True)"
   ]
  },
  {
   "cell_type": "code",
   "execution_count": 26,
   "metadata": {},
   "outputs": [],
   "source": [
    "# pomorskie = spr.where(spr.wojewodztwo == 'pomorskie').dropna()\n",
    "# pomorskie"
   ]
  },
  {
   "cell_type": "code",
   "execution_count": 27,
   "metadata": {},
   "outputs": [],
   "source": [
    "def rm_out(spr,columns=None):\n",
    "    if columns:\n",
    "        columns = columns\n",
    "    else:\n",
    "        columns = df.columns\n",
    "        \n",
    "    df_out = spr.copy()\n",
    "    for c in columns:\n",
    "        q1 = spr[c].quantile(0.25)\n",
    "        q3 = spr[c].quantile(0.75)\n",
    "        IRQ = q3 - q1\n",
    "        df_out = df_out.loc[ (df[c] <= q3 + 1.5 * IRQ) & (df[c] >= q1 - 1.5 * IRQ) ]\n",
    "        \n",
    "    df_out.index = range(len(df_out))\n",
    "    return df_out"
   ]
  },
  {
   "cell_type": "code",
   "execution_count": null,
   "metadata": {
    "scrolled": false
   },
   "outputs": [],
   "source": []
  },
  {
   "cell_type": "code",
   "execution_count": 50,
   "metadata": {
    "scrolled": true
   },
   "outputs": [
    {
     "data": {
      "text/html": [
       "<div>\n",
       "<style scoped>\n",
       "    .dataframe tbody tr th:only-of-type {\n",
       "        vertical-align: middle;\n",
       "    }\n",
       "\n",
       "    .dataframe tbody tr th {\n",
       "        vertical-align: top;\n",
       "    }\n",
       "\n",
       "    .dataframe thead th {\n",
       "        text-align: right;\n",
       "    }\n",
       "</style>\n",
       "<table border=\"1\" class=\"dataframe\">\n",
       "  <thead>\n",
       "    <tr style=\"text-align: right;\">\n",
       "      <th></th>\n",
       "      <th>cena</th>\n",
       "      <th>cena_m2</th>\n",
       "      <th>liczba_pokoi</th>\n",
       "      <th>pietro</th>\n",
       "      <th>rok_budowy</th>\n",
       "      <th>powierzchnia</th>\n",
       "    </tr>\n",
       "  </thead>\n",
       "  <tbody>\n",
       "    <tr>\n",
       "      <td>count</td>\n",
       "      <td>4.952400e+04</td>\n",
       "      <td>49524.000000</td>\n",
       "      <td>49524.000000</td>\n",
       "      <td>49524.000000</td>\n",
       "      <td>49524.000000</td>\n",
       "      <td>49524.000000</td>\n",
       "    </tr>\n",
       "    <tr>\n",
       "      <td>mean</td>\n",
       "      <td>4.643442e+05</td>\n",
       "      <td>8209.857365</td>\n",
       "      <td>2.665314</td>\n",
       "      <td>0.178701</td>\n",
       "      <td>2002.326953</td>\n",
       "      <td>75.818882</td>\n",
       "    </tr>\n",
       "    <tr>\n",
       "      <td>std</td>\n",
       "      <td>3.694411e+05</td>\n",
       "      <td>3521.259497</td>\n",
       "      <td>0.937301</td>\n",
       "      <td>0.942531</td>\n",
       "      <td>257.593088</td>\n",
       "      <td>1927.625175</td>\n",
       "    </tr>\n",
       "    <tr>\n",
       "      <td>min</td>\n",
       "      <td>2.800000e+01</td>\n",
       "      <td>0.287356</td>\n",
       "      <td>1.000000</td>\n",
       "      <td>0.000000</td>\n",
       "      <td>1.000000</td>\n",
       "      <td>1.000000</td>\n",
       "    </tr>\n",
       "    <tr>\n",
       "      <td>25%</td>\n",
       "      <td>2.990000e+05</td>\n",
       "      <td>6100.000000</td>\n",
       "      <td>2.000000</td>\n",
       "      <td>0.000000</td>\n",
       "      <td>1988.000000</td>\n",
       "      <td>42.100037</td>\n",
       "    </tr>\n",
       "    <tr>\n",
       "      <td>50%</td>\n",
       "      <td>3.944805e+05</td>\n",
       "      <td>7609.000000</td>\n",
       "      <td>3.000000</td>\n",
       "      <td>0.000000</td>\n",
       "      <td>2018.000000</td>\n",
       "      <td>53.800389</td>\n",
       "    </tr>\n",
       "    <tr>\n",
       "      <td>75%</td>\n",
       "      <td>5.289750e+05</td>\n",
       "      <td>9691.000000</td>\n",
       "      <td>3.000000</td>\n",
       "      <td>0.000000</td>\n",
       "      <td>2020.000000</td>\n",
       "      <td>67.610422</td>\n",
       "    </tr>\n",
       "    <tr>\n",
       "      <td>max</td>\n",
       "      <td>2.000000e+07</td>\n",
       "      <td>135803.000000</td>\n",
       "      <td>11.000000</td>\n",
       "      <td>25.000000</td>\n",
       "      <td>32767.000000</td>\n",
       "      <td>428037.000000</td>\n",
       "    </tr>\n",
       "  </tbody>\n",
       "</table>\n",
       "</div>"
      ],
      "text/plain": [
       "               cena        cena_m2  liczba_pokoi        pietro    rok_budowy  \\\n",
       "count  4.952400e+04   49524.000000  49524.000000  49524.000000  49524.000000   \n",
       "mean   4.643442e+05    8209.857365      2.665314      0.178701   2002.326953   \n",
       "std    3.694411e+05    3521.259497      0.937301      0.942531    257.593088   \n",
       "min    2.800000e+01       0.287356      1.000000      0.000000      1.000000   \n",
       "25%    2.990000e+05    6100.000000      2.000000      0.000000   1988.000000   \n",
       "50%    3.944805e+05    7609.000000      3.000000      0.000000   2018.000000   \n",
       "75%    5.289750e+05    9691.000000      3.000000      0.000000   2020.000000   \n",
       "max    2.000000e+07  135803.000000     11.000000     25.000000  32767.000000   \n",
       "\n",
       "        powierzchnia  \n",
       "count   49524.000000  \n",
       "mean       75.818882  \n",
       "std      1927.625175  \n",
       "min         1.000000  \n",
       "25%        42.100037  \n",
       "50%        53.800389  \n",
       "75%        67.610422  \n",
       "max    428037.000000  "
      ]
     },
     "execution_count": 50,
     "metadata": {},
     "output_type": "execute_result"
    }
   ],
   "source": [
    "spr.describe()"
   ]
  },
  {
   "cell_type": "code",
   "execution_count": 29,
   "metadata": {
    "scrolled": false
   },
   "outputs": [
    {
     "data": {
      "text/html": [
       "<div>\n",
       "<style scoped>\n",
       "    .dataframe tbody tr th:only-of-type {\n",
       "        vertical-align: middle;\n",
       "    }\n",
       "\n",
       "    .dataframe tbody tr th {\n",
       "        vertical-align: top;\n",
       "    }\n",
       "\n",
       "    .dataframe thead th {\n",
       "        text-align: right;\n",
       "    }\n",
       "</style>\n",
       "<table border=\"1\" class=\"dataframe\">\n",
       "  <thead>\n",
       "    <tr style=\"text-align: right;\">\n",
       "      <th></th>\n",
       "      <th>cena</th>\n",
       "      <th>cena_m2</th>\n",
       "      <th>liczba_pokoi</th>\n",
       "      <th>pietro</th>\n",
       "      <th>rok_budowy</th>\n",
       "      <th>powierzchnia</th>\n",
       "    </tr>\n",
       "    <tr>\n",
       "      <th>wojewodztwo</th>\n",
       "      <th></th>\n",
       "      <th></th>\n",
       "      <th></th>\n",
       "      <th></th>\n",
       "      <th></th>\n",
       "      <th></th>\n",
       "    </tr>\n",
       "  </thead>\n",
       "  <tbody>\n",
       "    <tr>\n",
       "      <td>dolnoslaskie</td>\n",
       "      <td>4600000.0</td>\n",
       "      <td>82064.0</td>\n",
       "      <td>8</td>\n",
       "      <td>6</td>\n",
       "      <td>2100.0</td>\n",
       "      <td>17173.576923</td>\n",
       "    </tr>\n",
       "    <tr>\n",
       "      <td>kujawsko-pomorskie</td>\n",
       "      <td>1500000.0</td>\n",
       "      <td>22447.0</td>\n",
       "      <td>10</td>\n",
       "      <td>10</td>\n",
       "      <td>2023.0</td>\n",
       "      <td>223.000000</td>\n",
       "    </tr>\n",
       "    <tr>\n",
       "      <td>lodzkie</td>\n",
       "      <td>1693788.0</td>\n",
       "      <td>67778.0</td>\n",
       "      <td>10</td>\n",
       "      <td>10</td>\n",
       "      <td>2029.0</td>\n",
       "      <td>5164.000000</td>\n",
       "    </tr>\n",
       "    <tr>\n",
       "      <td>lubelskie</td>\n",
       "      <td>2000000.0</td>\n",
       "      <td>15442.0</td>\n",
       "      <td>7</td>\n",
       "      <td>13</td>\n",
       "      <td>2021.0</td>\n",
       "      <td>180.000000</td>\n",
       "    </tr>\n",
       "    <tr>\n",
       "      <td>lubuskie</td>\n",
       "      <td>1050000.0</td>\n",
       "      <td>8850.0</td>\n",
       "      <td>5</td>\n",
       "      <td>9</td>\n",
       "      <td>2022.0</td>\n",
       "      <td>157.352478</td>\n",
       "    </tr>\n",
       "    <tr>\n",
       "      <td>malopolskie</td>\n",
       "      <td>6900000.0</td>\n",
       "      <td>78530.0</td>\n",
       "      <td>8</td>\n",
       "      <td>10</td>\n",
       "      <td>2920.0</td>\n",
       "      <td>495.013990</td>\n",
       "    </tr>\n",
       "    <tr>\n",
       "      <td>mazowieckie</td>\n",
       "      <td>20000000.0</td>\n",
       "      <td>135803.0</td>\n",
       "      <td>11</td>\n",
       "      <td>14</td>\n",
       "      <td>20202.0</td>\n",
       "      <td>428037.000000</td>\n",
       "    </tr>\n",
       "    <tr>\n",
       "      <td>opolskie</td>\n",
       "      <td>859000.0</td>\n",
       "      <td>11369.0</td>\n",
       "      <td>6</td>\n",
       "      <td>4</td>\n",
       "      <td>2021.0</td>\n",
       "      <td>208.596406</td>\n",
       "    </tr>\n",
       "    <tr>\n",
       "      <td>podkarpackie</td>\n",
       "      <td>769000.0</td>\n",
       "      <td>11393.0</td>\n",
       "      <td>9</td>\n",
       "      <td>4</td>\n",
       "      <td>20201.0</td>\n",
       "      <td>200.000000</td>\n",
       "    </tr>\n",
       "    <tr>\n",
       "      <td>podlaskie</td>\n",
       "      <td>1200000.0</td>\n",
       "      <td>13267.0</td>\n",
       "      <td>6</td>\n",
       "      <td>6</td>\n",
       "      <td>2022.0</td>\n",
       "      <td>2724.000000</td>\n",
       "    </tr>\n",
       "    <tr>\n",
       "      <td>pomorskie</td>\n",
       "      <td>6800000.0</td>\n",
       "      <td>95994.0</td>\n",
       "      <td>11</td>\n",
       "      <td>25</td>\n",
       "      <td>2029.0</td>\n",
       "      <td>5002.000000</td>\n",
       "    </tr>\n",
       "    <tr>\n",
       "      <td>slaskie</td>\n",
       "      <td>6900000.0</td>\n",
       "      <td>15582.0</td>\n",
       "      <td>8</td>\n",
       "      <td>9</td>\n",
       "      <td>32767.0</td>\n",
       "      <td>5373.000000</td>\n",
       "    </tr>\n",
       "    <tr>\n",
       "      <td>swietokrzyskie</td>\n",
       "      <td>1193838.0</td>\n",
       "      <td>11474.0</td>\n",
       "      <td>8</td>\n",
       "      <td>10</td>\n",
       "      <td>2022.0</td>\n",
       "      <td>183.339267</td>\n",
       "    </tr>\n",
       "    <tr>\n",
       "      <td>warminsko-mazurskie</td>\n",
       "      <td>3900000.0</td>\n",
       "      <td>16957.0</td>\n",
       "      <td>7</td>\n",
       "      <td>8</td>\n",
       "      <td>2021.0</td>\n",
       "      <td>5409.000000</td>\n",
       "    </tr>\n",
       "    <tr>\n",
       "      <td>wielkopolskie</td>\n",
       "      <td>3490000.0</td>\n",
       "      <td>16927.0</td>\n",
       "      <td>10</td>\n",
       "      <td>5</td>\n",
       "      <td>22022.0</td>\n",
       "      <td>631.000000</td>\n",
       "    </tr>\n",
       "    <tr>\n",
       "      <td>zachodniopomorskie</td>\n",
       "      <td>2080000.0</td>\n",
       "      <td>34482.0</td>\n",
       "      <td>7</td>\n",
       "      <td>13</td>\n",
       "      <td>2022.0</td>\n",
       "      <td>499.000000</td>\n",
       "    </tr>\n",
       "  </tbody>\n",
       "</table>\n",
       "</div>"
      ],
      "text/plain": [
       "                           cena   cena_m2  liczba_pokoi  pietro  rok_budowy  \\\n",
       "wojewodztwo                                                                   \n",
       "dolnoslaskie          4600000.0   82064.0             8       6      2100.0   \n",
       "kujawsko-pomorskie    1500000.0   22447.0            10      10      2023.0   \n",
       "lodzkie               1693788.0   67778.0            10      10      2029.0   \n",
       "lubelskie             2000000.0   15442.0             7      13      2021.0   \n",
       "lubuskie              1050000.0    8850.0             5       9      2022.0   \n",
       "malopolskie           6900000.0   78530.0             8      10      2920.0   \n",
       "mazowieckie          20000000.0  135803.0            11      14     20202.0   \n",
       "opolskie               859000.0   11369.0             6       4      2021.0   \n",
       "podkarpackie           769000.0   11393.0             9       4     20201.0   \n",
       "podlaskie             1200000.0   13267.0             6       6      2022.0   \n",
       "pomorskie             6800000.0   95994.0            11      25      2029.0   \n",
       "slaskie               6900000.0   15582.0             8       9     32767.0   \n",
       "swietokrzyskie        1193838.0   11474.0             8      10      2022.0   \n",
       "warminsko-mazurskie   3900000.0   16957.0             7       8      2021.0   \n",
       "wielkopolskie         3490000.0   16927.0            10       5     22022.0   \n",
       "zachodniopomorskie    2080000.0   34482.0             7      13      2022.0   \n",
       "\n",
       "                      powierzchnia  \n",
       "wojewodztwo                         \n",
       "dolnoslaskie          17173.576923  \n",
       "kujawsko-pomorskie      223.000000  \n",
       "lodzkie                5164.000000  \n",
       "lubelskie               180.000000  \n",
       "lubuskie                157.352478  \n",
       "malopolskie             495.013990  \n",
       "mazowieckie          428037.000000  \n",
       "opolskie                208.596406  \n",
       "podkarpackie            200.000000  \n",
       "podlaskie              2724.000000  \n",
       "pomorskie              5002.000000  \n",
       "slaskie                5373.000000  \n",
       "swietokrzyskie          183.339267  \n",
       "warminsko-mazurskie    5409.000000  \n",
       "wielkopolskie           631.000000  \n",
       "zachodniopomorskie      499.000000  "
      ]
     },
     "execution_count": 29,
     "metadata": {},
     "output_type": "execute_result"
    }
   ],
   "source": [
    "spr[['cena', 'cena_m2', 'liczba_pokoi', 'pietro', 'rok_budowy', 'powierzchnia']].groupby(spr.wojewodztwo).max()"
   ]
  },
  {
   "cell_type": "code",
   "execution_count": 30,
   "metadata": {
    "scrolled": true
   },
   "outputs": [
    {
     "data": {
      "text/html": [
       "<div>\n",
       "<style scoped>\n",
       "    .dataframe tbody tr th:only-of-type {\n",
       "        vertical-align: middle;\n",
       "    }\n",
       "\n",
       "    .dataframe tbody tr th {\n",
       "        vertical-align: top;\n",
       "    }\n",
       "\n",
       "    .dataframe thead th {\n",
       "        text-align: right;\n",
       "    }\n",
       "</style>\n",
       "<table border=\"1\" class=\"dataframe\">\n",
       "  <thead>\n",
       "    <tr style=\"text-align: right;\">\n",
       "      <th></th>\n",
       "      <th>cena</th>\n",
       "      <th>cena_m2</th>\n",
       "      <th>liczba_pokoi</th>\n",
       "      <th>pietro</th>\n",
       "      <th>rok_budowy</th>\n",
       "      <th>powierzchnia</th>\n",
       "    </tr>\n",
       "    <tr>\n",
       "      <th>wojewodztwo</th>\n",
       "      <th></th>\n",
       "      <th></th>\n",
       "      <th></th>\n",
       "      <th></th>\n",
       "      <th></th>\n",
       "      <th></th>\n",
       "    </tr>\n",
       "  </thead>\n",
       "  <tbody>\n",
       "    <tr>\n",
       "      <td>dolnoslaskie</td>\n",
       "      <td>19550.0</td>\n",
       "      <td>52.000000</td>\n",
       "      <td>1</td>\n",
       "      <td>0</td>\n",
       "      <td>1.0</td>\n",
       "      <td>11.000000</td>\n",
       "    </tr>\n",
       "    <tr>\n",
       "      <td>kujawsko-pomorskie</td>\n",
       "      <td>6800.0</td>\n",
       "      <td>1211.000000</td>\n",
       "      <td>1</td>\n",
       "      <td>0</td>\n",
       "      <td>1.0</td>\n",
       "      <td>1.000000</td>\n",
       "    </tr>\n",
       "    <tr>\n",
       "      <td>lodzkie</td>\n",
       "      <td>95000.0</td>\n",
       "      <td>1585.000000</td>\n",
       "      <td>1</td>\n",
       "      <td>0</td>\n",
       "      <td>70.0</td>\n",
       "      <td>8.999970</td>\n",
       "    </tr>\n",
       "    <tr>\n",
       "      <td>lubelskie</td>\n",
       "      <td>75000.0</td>\n",
       "      <td>1831.000000</td>\n",
       "      <td>1</td>\n",
       "      <td>0</td>\n",
       "      <td>1.0</td>\n",
       "      <td>20.020020</td>\n",
       "    </tr>\n",
       "    <tr>\n",
       "      <td>lubuskie</td>\n",
       "      <td>60000.0</td>\n",
       "      <td>1352.000000</td>\n",
       "      <td>1</td>\n",
       "      <td>0</td>\n",
       "      <td>219.0</td>\n",
       "      <td>23.000898</td>\n",
       "    </tr>\n",
       "    <tr>\n",
       "      <td>malopolskie</td>\n",
       "      <td>7200.0</td>\n",
       "      <td>47.000000</td>\n",
       "      <td>1</td>\n",
       "      <td>0</td>\n",
       "      <td>2.0</td>\n",
       "      <td>12.000274</td>\n",
       "    </tr>\n",
       "    <tr>\n",
       "      <td>mazowieckie</td>\n",
       "      <td>6000.0</td>\n",
       "      <td>1.000000</td>\n",
       "      <td>1</td>\n",
       "      <td>0</td>\n",
       "      <td>1.0</td>\n",
       "      <td>4.000000</td>\n",
       "    </tr>\n",
       "    <tr>\n",
       "      <td>opolskie</td>\n",
       "      <td>27000.0</td>\n",
       "      <td>1385.000000</td>\n",
       "      <td>1</td>\n",
       "      <td>0</td>\n",
       "      <td>9.0</td>\n",
       "      <td>19.494585</td>\n",
       "    </tr>\n",
       "    <tr>\n",
       "      <td>podkarpackie</td>\n",
       "      <td>55000.0</td>\n",
       "      <td>1082.000000</td>\n",
       "      <td>1</td>\n",
       "      <td>0</td>\n",
       "      <td>20.0</td>\n",
       "      <td>21.000000</td>\n",
       "    </tr>\n",
       "    <tr>\n",
       "      <td>podlaskie</td>\n",
       "      <td>44000.0</td>\n",
       "      <td>744.000000</td>\n",
       "      <td>1</td>\n",
       "      <td>0</td>\n",
       "      <td>1880.0</td>\n",
       "      <td>14.999623</td>\n",
       "    </tr>\n",
       "    <tr>\n",
       "      <td>pomorskie</td>\n",
       "      <td>28.0</td>\n",
       "      <td>0.287356</td>\n",
       "      <td>1</td>\n",
       "      <td>0</td>\n",
       "      <td>1.0</td>\n",
       "      <td>3.000600</td>\n",
       "    </tr>\n",
       "    <tr>\n",
       "      <td>slaskie</td>\n",
       "      <td>70000.0</td>\n",
       "      <td>56.000000</td>\n",
       "      <td>1</td>\n",
       "      <td>0</td>\n",
       "      <td>6.0</td>\n",
       "      <td>14.999769</td>\n",
       "    </tr>\n",
       "    <tr>\n",
       "      <td>swietokrzyskie</td>\n",
       "      <td>92794.0</td>\n",
       "      <td>2348.000000</td>\n",
       "      <td>1</td>\n",
       "      <td>0</td>\n",
       "      <td>1920.0</td>\n",
       "      <td>20.170548</td>\n",
       "    </tr>\n",
       "    <tr>\n",
       "      <td>warminsko-mazurskie</td>\n",
       "      <td>70000.0</td>\n",
       "      <td>1157.000000</td>\n",
       "      <td>1</td>\n",
       "      <td>0</td>\n",
       "      <td>70.0</td>\n",
       "      <td>22.499154</td>\n",
       "    </tr>\n",
       "    <tr>\n",
       "      <td>wielkopolskie</td>\n",
       "      <td>69000.0</td>\n",
       "      <td>1226.000000</td>\n",
       "      <td>1</td>\n",
       "      <td>0</td>\n",
       "      <td>10.0</td>\n",
       "      <td>18.200000</td>\n",
       "    </tr>\n",
       "    <tr>\n",
       "      <td>zachodniopomorskie</td>\n",
       "      <td>45000.0</td>\n",
       "      <td>695.000000</td>\n",
       "      <td>1</td>\n",
       "      <td>0</td>\n",
       "      <td>1.0</td>\n",
       "      <td>9.399793</td>\n",
       "    </tr>\n",
       "  </tbody>\n",
       "</table>\n",
       "</div>"
      ],
      "text/plain": [
       "                        cena      cena_m2  liczba_pokoi  pietro  rok_budowy  \\\n",
       "wojewodztwo                                                                   \n",
       "dolnoslaskie         19550.0    52.000000             1       0         1.0   \n",
       "kujawsko-pomorskie    6800.0  1211.000000             1       0         1.0   \n",
       "lodzkie              95000.0  1585.000000             1       0        70.0   \n",
       "lubelskie            75000.0  1831.000000             1       0         1.0   \n",
       "lubuskie             60000.0  1352.000000             1       0       219.0   \n",
       "malopolskie           7200.0    47.000000             1       0         2.0   \n",
       "mazowieckie           6000.0     1.000000             1       0         1.0   \n",
       "opolskie             27000.0  1385.000000             1       0         9.0   \n",
       "podkarpackie         55000.0  1082.000000             1       0        20.0   \n",
       "podlaskie            44000.0   744.000000             1       0      1880.0   \n",
       "pomorskie               28.0     0.287356             1       0         1.0   \n",
       "slaskie              70000.0    56.000000             1       0         6.0   \n",
       "swietokrzyskie       92794.0  2348.000000             1       0      1920.0   \n",
       "warminsko-mazurskie  70000.0  1157.000000             1       0        70.0   \n",
       "wielkopolskie        69000.0  1226.000000             1       0        10.0   \n",
       "zachodniopomorskie   45000.0   695.000000             1       0         1.0   \n",
       "\n",
       "                     powierzchnia  \n",
       "wojewodztwo                        \n",
       "dolnoslaskie            11.000000  \n",
       "kujawsko-pomorskie       1.000000  \n",
       "lodzkie                  8.999970  \n",
       "lubelskie               20.020020  \n",
       "lubuskie                23.000898  \n",
       "malopolskie             12.000274  \n",
       "mazowieckie              4.000000  \n",
       "opolskie                19.494585  \n",
       "podkarpackie            21.000000  \n",
       "podlaskie               14.999623  \n",
       "pomorskie                3.000600  \n",
       "slaskie                 14.999769  \n",
       "swietokrzyskie          20.170548  \n",
       "warminsko-mazurskie     22.499154  \n",
       "wielkopolskie           18.200000  \n",
       "zachodniopomorskie       9.399793  "
      ]
     },
     "execution_count": 30,
     "metadata": {},
     "output_type": "execute_result"
    }
   ],
   "source": [
    "spr[['cena', 'cena_m2', 'liczba_pokoi', 'pietro', 'rok_budowy', 'powierzchnia']].groupby(spr.wojewodztwo).min()"
   ]
  },
  {
   "cell_type": "code",
   "execution_count": 31,
   "metadata": {},
   "outputs": [
    {
     "data": {
      "text/html": [
       "<div>\n",
       "<style scoped>\n",
       "    .dataframe tbody tr th:only-of-type {\n",
       "        vertical-align: middle;\n",
       "    }\n",
       "\n",
       "    .dataframe tbody tr th {\n",
       "        vertical-align: top;\n",
       "    }\n",
       "\n",
       "    .dataframe thead th {\n",
       "        text-align: right;\n",
       "    }\n",
       "</style>\n",
       "<table border=\"1\" class=\"dataframe\">\n",
       "  <thead>\n",
       "    <tr style=\"text-align: right;\">\n",
       "      <th></th>\n",
       "      <th>cena</th>\n",
       "      <th>cena_m2</th>\n",
       "      <th>liczba_pokoi</th>\n",
       "      <th>pietro</th>\n",
       "      <th>rok_budowy</th>\n",
       "      <th>powierzchnia</th>\n",
       "    </tr>\n",
       "    <tr>\n",
       "      <th>wojewodztwo</th>\n",
       "      <th></th>\n",
       "      <th></th>\n",
       "      <th></th>\n",
       "      <th></th>\n",
       "      <th></th>\n",
       "      <th></th>\n",
       "    </tr>\n",
       "  </thead>\n",
       "  <tbody>\n",
       "    <tr>\n",
       "      <td>dolnoslaskie</td>\n",
       "      <td>437340.406055</td>\n",
       "      <td>7853.869836</td>\n",
       "      <td>2.640775</td>\n",
       "      <td>0.016695</td>\n",
       "      <td>2000.249717</td>\n",
       "      <td>60.893126</td>\n",
       "    </tr>\n",
       "    <tr>\n",
       "      <td>kujawsko-pomorskie</td>\n",
       "      <td>345351.732114</td>\n",
       "      <td>6172.187197</td>\n",
       "      <td>2.691770</td>\n",
       "      <td>0.102205</td>\n",
       "      <td>1991.003228</td>\n",
       "      <td>56.820407</td>\n",
       "    </tr>\n",
       "    <tr>\n",
       "      <td>lodzkie</td>\n",
       "      <td>328036.836413</td>\n",
       "      <td>6161.488022</td>\n",
       "      <td>2.511978</td>\n",
       "      <td>0.082136</td>\n",
       "      <td>1989.410678</td>\n",
       "      <td>61.395539</td>\n",
       "    </tr>\n",
       "    <tr>\n",
       "      <td>lubelskie</td>\n",
       "      <td>372947.109316</td>\n",
       "      <td>6710.686312</td>\n",
       "      <td>2.683460</td>\n",
       "      <td>0.146388</td>\n",
       "      <td>1995.975285</td>\n",
       "      <td>56.467224</td>\n",
       "    </tr>\n",
       "    <tr>\n",
       "      <td>lubuskie</td>\n",
       "      <td>293519.499037</td>\n",
       "      <td>5058.077071</td>\n",
       "      <td>2.732177</td>\n",
       "      <td>0.138728</td>\n",
       "      <td>1995.314066</td>\n",
       "      <td>59.563130</td>\n",
       "    </tr>\n",
       "    <tr>\n",
       "      <td>malopolskie</td>\n",
       "      <td>528600.985922</td>\n",
       "      <td>9539.619103</td>\n",
       "      <td>2.585045</td>\n",
       "      <td>0.108239</td>\n",
       "      <td>1996.684976</td>\n",
       "      <td>56.282804</td>\n",
       "    </tr>\n",
       "    <tr>\n",
       "      <td>mazowieckie</td>\n",
       "      <td>639050.986999</td>\n",
       "      <td>10264.258352</td>\n",
       "      <td>2.703326</td>\n",
       "      <td>0.105367</td>\n",
       "      <td>2003.712623</td>\n",
       "      <td>95.135121</td>\n",
       "    </tr>\n",
       "    <tr>\n",
       "      <td>opolskie</td>\n",
       "      <td>321822.205882</td>\n",
       "      <td>5415.111765</td>\n",
       "      <td>2.770588</td>\n",
       "      <td>0.058824</td>\n",
       "      <td>1977.517647</td>\n",
       "      <td>61.115492</td>\n",
       "    </tr>\n",
       "    <tr>\n",
       "      <td>podkarpackie</td>\n",
       "      <td>354257.215569</td>\n",
       "      <td>5867.311377</td>\n",
       "      <td>3.036784</td>\n",
       "      <td>0.038494</td>\n",
       "      <td>2021.033362</td>\n",
       "      <td>63.336927</td>\n",
       "    </tr>\n",
       "    <tr>\n",
       "      <td>podlaskie</td>\n",
       "      <td>342888.614943</td>\n",
       "      <td>6392.693966</td>\n",
       "      <td>2.669540</td>\n",
       "      <td>0.084770</td>\n",
       "      <td>1996.804598</td>\n",
       "      <td>58.830483</td>\n",
       "    </tr>\n",
       "    <tr>\n",
       "      <td>pomorskie</td>\n",
       "      <td>404311.564153</td>\n",
       "      <td>8531.528704</td>\n",
       "      <td>2.689995</td>\n",
       "      <td>0.856251</td>\n",
       "      <td>1998.422704</td>\n",
       "      <td>120.206863</td>\n",
       "    </tr>\n",
       "    <tr>\n",
       "      <td>slaskie</td>\n",
       "      <td>334506.787097</td>\n",
       "      <td>6226.869176</td>\n",
       "      <td>2.664695</td>\n",
       "      <td>0.025986</td>\n",
       "      <td>2014.808423</td>\n",
       "      <td>55.823612</td>\n",
       "    </tr>\n",
       "    <tr>\n",
       "      <td>swietokrzyskie</td>\n",
       "      <td>365042.789227</td>\n",
       "      <td>5960.852459</td>\n",
       "      <td>2.807963</td>\n",
       "      <td>0.084309</td>\n",
       "      <td>2003.749415</td>\n",
       "      <td>61.019282</td>\n",
       "    </tr>\n",
       "    <tr>\n",
       "      <td>warminsko-mazurskie</td>\n",
       "      <td>343175.626087</td>\n",
       "      <td>5742.452174</td>\n",
       "      <td>2.689855</td>\n",
       "      <td>0.150725</td>\n",
       "      <td>1978.605797</td>\n",
       "      <td>76.467720</td>\n",
       "    </tr>\n",
       "    <tr>\n",
       "      <td>wielkopolskie</td>\n",
       "      <td>392177.005640</td>\n",
       "      <td>7160.209069</td>\n",
       "      <td>2.618725</td>\n",
       "      <td>0.028765</td>\n",
       "      <td>2012.714326</td>\n",
       "      <td>56.750248</td>\n",
       "    </tr>\n",
       "    <tr>\n",
       "      <td>zachodniopomorskie</td>\n",
       "      <td>400622.128658</td>\n",
       "      <td>7547.454591</td>\n",
       "      <td>2.480323</td>\n",
       "      <td>0.339051</td>\n",
       "      <td>1993.292634</td>\n",
       "      <td>57.548655</td>\n",
       "    </tr>\n",
       "  </tbody>\n",
       "</table>\n",
       "</div>"
      ],
      "text/plain": [
       "                              cena       cena_m2  liczba_pokoi    pietro  \\\n",
       "wojewodztwo                                                                \n",
       "dolnoslaskie         437340.406055   7853.869836      2.640775  0.016695   \n",
       "kujawsko-pomorskie   345351.732114   6172.187197      2.691770  0.102205   \n",
       "lodzkie              328036.836413   6161.488022      2.511978  0.082136   \n",
       "lubelskie            372947.109316   6710.686312      2.683460  0.146388   \n",
       "lubuskie             293519.499037   5058.077071      2.732177  0.138728   \n",
       "malopolskie          528600.985922   9539.619103      2.585045  0.108239   \n",
       "mazowieckie          639050.986999  10264.258352      2.703326  0.105367   \n",
       "opolskie             321822.205882   5415.111765      2.770588  0.058824   \n",
       "podkarpackie         354257.215569   5867.311377      3.036784  0.038494   \n",
       "podlaskie            342888.614943   6392.693966      2.669540  0.084770   \n",
       "pomorskie            404311.564153   8531.528704      2.689995  0.856251   \n",
       "slaskie              334506.787097   6226.869176      2.664695  0.025986   \n",
       "swietokrzyskie       365042.789227   5960.852459      2.807963  0.084309   \n",
       "warminsko-mazurskie  343175.626087   5742.452174      2.689855  0.150725   \n",
       "wielkopolskie        392177.005640   7160.209069      2.618725  0.028765   \n",
       "zachodniopomorskie   400622.128658   7547.454591      2.480323  0.339051   \n",
       "\n",
       "                      rok_budowy  powierzchnia  \n",
       "wojewodztwo                                     \n",
       "dolnoslaskie         2000.249717     60.893126  \n",
       "kujawsko-pomorskie   1991.003228     56.820407  \n",
       "lodzkie              1989.410678     61.395539  \n",
       "lubelskie            1995.975285     56.467224  \n",
       "lubuskie             1995.314066     59.563130  \n",
       "malopolskie          1996.684976     56.282804  \n",
       "mazowieckie          2003.712623     95.135121  \n",
       "opolskie             1977.517647     61.115492  \n",
       "podkarpackie         2021.033362     63.336927  \n",
       "podlaskie            1996.804598     58.830483  \n",
       "pomorskie            1998.422704    120.206863  \n",
       "slaskie              2014.808423     55.823612  \n",
       "swietokrzyskie       2003.749415     61.019282  \n",
       "warminsko-mazurskie  1978.605797     76.467720  \n",
       "wielkopolskie        2012.714326     56.750248  \n",
       "zachodniopomorskie   1993.292634     57.548655  "
      ]
     },
     "execution_count": 31,
     "metadata": {},
     "output_type": "execute_result"
    }
   ],
   "source": [
    "spr[['cena', 'cena_m2', 'liczba_pokoi', 'pietro', 'rok_budowy', 'powierzchnia']].groupby(spr.wojewodztwo).mean()"
   ]
  },
  {
   "cell_type": "code",
   "execution_count": 32,
   "metadata": {},
   "outputs": [
    {
     "data": {
      "text/plain": [
       "Text(0.5, 1.0, 'ilość ofert sprzedaży mieszkań w poszczególnych województwach')"
      ]
     },
     "execution_count": 32,
     "metadata": {},
     "output_type": "execute_result"
    },
    {
     "data": {
      "image/png": "[encoded data removed]",
      "text/plain": [
       "<Figure size 1440x720 with 1 Axes>"
      ]
     },
     "metadata": {
      "needs_background": "light"
     },
     "output_type": "display_data"
    }
   ],
   "source": [
    "fig, ax = plt.subplots(figsize = (20,10))\n",
    "\n",
    "sns.countplot(spr.wojewodztwo, ax = ax)\n",
    "plt.xticks(rotation = 90, size = 15)\n",
    "plt.title('ilość ofert sprzedaży mieszkań w poszczególnych województwach')"
   ]
  },
  {
   "cell_type": "code",
   "execution_count": 35,
   "metadata": {},
   "outputs": [
    {
     "data": {
      "text/plain": [
       "Index(['typ', 'cena', 'cena_m2', 'liczba_pokoi', 'pietro', 'rok_budowy',\n",
       "       'wojewodztwo', 'miasto', 'powierzchnia'],\n",
       "      dtype='object')"
      ]
     },
     "execution_count": 35,
     "metadata": {},
     "output_type": "execute_result"
    }
   ],
   "source": [
    "spr.columns"
   ]
  },
  {
   "cell_type": "code",
   "execution_count": 36,
   "metadata": {},
   "outputs": [],
   "source": [
    "category=[('liczba_pokoi'), ('pietro'), ('rok_budowy'),('powierzchnia')]"
   ]
  },
  {
   "cell_type": "code",
   "execution_count": 38,
   "metadata": {},
   "outputs": [
    {
     "name": "stdout",
     "output_type": "stream",
     "text": [
      "Podaj liczbę pokoi\n"
     ]
    },
    {
     "data": {
      "application/vnd.jupyter.widget-view+json": {
       "model_id": "3ecd7e7d40bc49c0a39af0c5f0ad2e4a",
       "version_major": 2,
       "version_minor": 0
      },
      "text/plain": [
       "IntSlider(value=2, max=20, min=1)"
      ]
     },
     "metadata": {},
     "output_type": "display_data"
    }
   ],
   "source": [
    "print('Podaj liczbę pokoi')\n",
    "liczba_pokoi = widgets.IntSlider(value = 2, min = 1, max = 20)\n",
    "display(liczba_pokoi)"
   ]
  },
  {
   "cell_type": "code",
   "execution_count": 39,
   "metadata": {},
   "outputs": [
    {
     "name": "stdout",
     "output_type": "stream",
     "text": [
      "Podaj powierzchnię\n"
     ]
    },
    {
     "data": {
      "application/vnd.jupyter.widget-view+json": {
       "model_id": "bf1c7d3521984252ae22619c3293d3c7",
       "version_major": 2,
       "version_minor": 0
      },
      "text/plain": [
       "IntRangeSlider(value=(50, 100), max=500, min=1)"
      ]
     },
     "metadata": {},
     "output_type": "display_data"
    }
   ],
   "source": [
    "print('Podaj powierzchnię')\n",
    "powierzchnia = widgets.IntRangeSlider(value= [50, 100], min = 1, max = 500)\n",
    "display(powierzchnia)"
   ]
  },
  {
   "cell_type": "code",
   "execution_count": 40,
   "metadata": {
    "scrolled": true
   },
   "outputs": [
    {
     "name": "stdout",
     "output_type": "stream",
     "text": [
      "Podaj przedział cenowy\n"
     ]
    },
    {
     "data": {
      "application/vnd.jupyter.widget-view+json": {
       "model_id": "1658e66f31ac45629c0b3daa4aad38d5",
       "version_major": 2,
       "version_minor": 0
      },
      "text/plain": [
       "IntRangeSlider(value=(1000000, 5000000), max=20000000, min=1)"
      ]
     },
     "metadata": {},
     "output_type": "display_data"
    }
   ],
   "source": [
    "print('Podaj przedział cenowy')\n",
    "cena = widgets.IntRangeSlider(value= [1000000, 5000000], min = 1, max = 20000000)\n",
    "display(cena)"
   ]
  },
  {
   "cell_type": "code",
   "execution_count": 41,
   "metadata": {},
   "outputs": [
    {
     "data": {
      "text/plain": [
       "32767.0"
      ]
     },
     "execution_count": 41,
     "metadata": {},
     "output_type": "execute_result"
    }
   ],
   "source": [
    "spr.rok_budowy.max()"
   ]
  },
  {
   "cell_type": "code",
   "execution_count": 42,
   "metadata": {},
   "outputs": [
    {
     "name": "stdout",
     "output_type": "stream",
     "text": [
      "Podaj piętro\n"
     ]
    },
    {
     "data": {
      "application/vnd.jupyter.widget-view+json": {
       "model_id": "f77f3d50347d4dc49e33242509b98720",
       "version_major": 2,
       "version_minor": 0
      },
      "text/plain": [
       "IntSlider(value=2, max=25)"
      ]
     },
     "metadata": {},
     "output_type": "display_data"
    }
   ],
   "source": [
    "print('Podaj piętro')\n",
    "pietro = widgets.IntSlider(value = 2, min = 0, max = 25)\n",
    "display(pietro)"
   ]
  },
  {
   "cell_type": "code",
   "execution_count": 43,
   "metadata": {},
   "outputs": [
    {
     "data": {
      "application/vnd.jupyter.widget-view+json": {
       "model_id": "47453eb99d4b488085c2aded03d45fc1",
       "version_major": 2,
       "version_minor": 0
      },
      "text/plain": [
       "interactive(children=(Dropdown(description='category', options=(('powierzchnia', 'powierzchnia'), ('piętro', '…"
      ]
     },
     "metadata": {},
     "output_type": "display_data"
    },
    {
     "data": {
      "image/png": "[encoded data removed]",
      "text/plain": [
       "<Figure size 576x432 with 1 Axes>"
      ]
     },
     "metadata": {
      "needs_background": "light"
     },
     "output_type": "display_data"
    }
   ],
   "source": [
    "@widgets.interact_manual(category = [('powierzchnia', 'powierzchnia'), ('piętro', 'pietro')], \n",
    "          region = ['dolnoslaskie', 'kujawsko-pomorskie', 'lodzkie', 'lubelskie', 'lubuskie', \n",
    "                                        'malopolskie', 'mazowieckie', 'opolskie', 'podkarpackie', 'podlaskie', \n",
    "                                        'pomorskie', 'slaskie', 'swietokrzyskie', 'warminsko-mazurskie', 'wielkopolskie', \n",
    "                                        'zachodniopomorskie'])\n",
    "def plot (category = 'powierzchnia', region = 'pomorskie'):\n",
    "    fig, ax = plt.subplots(1,1, figsize = (8,6))\n",
    "    plt.cla()\n",
    "    plt.xticks(rotation=90)\n",
    "    uniq, vals = spr(region, category)\n",
    "    plt.bar(uniq, height=vals)\n",
    "    ax.grid(grid)"
   ]
  },
  {
   "cell_type": "code",
   "execution_count": 44,
   "metadata": {},
   "outputs": [
    {
     "data": {
      "image/png": "[encoded data removed]",
      "text/plain": [
       "<Figure size 720x576 with 1 Axes>"
      ]
     },
     "metadata": {
      "needs_background": "light"
     },
     "output_type": "display_data"
    }
   ],
   "source": [
    "plt.figure(figsize=(10,8))\n",
    "bar = sns.distplot(spr['cena'])\n",
    "bar.legend([\"Skewness: {:.2f}\".format(spr['cena'].skew())]);"
   ]
  },
  {
   "cell_type": "code",
   "execution_count": 52,
   "metadata": {},
   "outputs": [
    {
     "data": {
      "image/png": "[encoded data removed]",
      "text/plain": [
       "<Figure size 2160x2160 with 2 Axes>"
      ]
     },
     "metadata": {
      "needs_background": "light"
     },
     "output_type": "display_data"
    }
   ],
   "source": [
    "plt.figure(figsize=(30,30))\n",
    "ax = sns.heatmap(spr.corr(), cmap = \"coolwarm\", annot=True, linewidth=2)"
   ]
  },
  {
   "cell_type": "code",
   "execution_count": 47,
   "metadata": {},
   "outputs": [
    {
     "data": {
      "text/plain": [
       "Index(['cena', 'cena_m2'], dtype='object')"
      ]
     },
     "execution_count": 47,
     "metadata": {},
     "output_type": "execute_result"
    }
   ],
   "source": [
    "high_corr = spr.corr()\n",
    "high_corr_features = high_corr.index[abs(high_corr[\"cena\"]) >= 0.5]\n",
    "high_corr_features"
   ]
  },
  {
   "cell_type": "code",
   "execution_count": 48,
   "metadata": {},
   "outputs": [
    {
     "data": {
      "image/png": "[encoded data removed]",
      "text/plain": [
       "<Figure size 1152x648 with 2 Axes>"
      ]
     },
     "metadata": {
      "needs_background": "light"
     },
     "output_type": "display_data"
    }
   ],
   "source": [
    "plt.figure(figsize=(16,9))\n",
    "for i in range(len(high_corr_features)):\n",
    "    if i <= 9:\n",
    "        plt.subplot(3,4,i+1)\n",
    "        plt.subplots_adjust(hspace = 0.5,wspace = 0.5)\n",
    "        sns.regplot(data=spr, x = high_corr_features[i], y = 'cena')"
   ]
  },
  {
   "cell_type": "code",
   "execution_count": null,
   "metadata": {},
   "outputs": [],
   "source": []
  },
  {
   "cell_type": "code",
   "execution_count": null,
   "metadata": {},
   "outputs": [],
   "source": []
  },
  {
   "cell_type": "code",
   "execution_count": null,
   "metadata": {},
   "outputs": [],
   "source": []
  },
  {
   "cell_type": "code",
   "execution_count": 33,
   "metadata": {
    "scrolled": true
   },
   "outputs": [
    {
     "name": "stdout",
     "output_type": "stream",
     "text": [
      "Wybierz województwo\n"
     ]
    },
    {
     "data": {
      "application/vnd.jupyter.widget-view+json": {
       "model_id": "c16526dc8d1f4bbea2913161deb029e8",
       "version_major": 2,
       "version_minor": 0
      },
      "text/plain": [
       "Dropdown(options=('dolnoslaskie', 'kujawsko-pomorskie', 'lodzkie', 'lubelskie', 'lubuskie', 'malopolskie', 'ma…"
      ]
     },
     "metadata": {},
     "output_type": "display_data"
    }
   ],
   "source": [
    "print('Wybierz województwo')\n",
    "\n",
    "wojewodztwo = widgets.Dropdown(options=['dolnoslaskie', 'kujawsko-pomorskie', 'lodzkie', 'lubelskie', 'lubuskie', \n",
    "                                        'malopolskie', 'mazowieckie', 'opolskie', 'podkarpackie', 'podlaskie', 'pomorskie', \n",
    "                                        'slaskie', 'swietokrzyskie', 'warminsko-mazurskie', 'wielkopolskie', \n",
    "                                        'zachodniopomorskie'])\n",
    "\n",
    "display(wojewodztwo)"
   ]
  },
  {
   "cell_type": "code",
   "execution_count": 37,
   "metadata": {},
   "outputs": [
    {
     "name": "stdout",
     "output_type": "stream",
     "text": [
      "Podaj wojewodztwo\n"
     ]
    },
    {
     "data": {
      "application/vnd.jupyter.widget-view+json": {
       "model_id": "98246585a9f549208f860ae76850ebf0",
       "version_major": 2,
       "version_minor": 0
      },
      "text/plain": [
       "Dropdown(options=('dolnoslaskie', 'kujawsko-pomorskie', 'lodzkie', 'lubelskie', 'lubuskie', 'malopolskie', 'ma…"
      ]
     },
     "metadata": {},
     "output_type": "display_data"
    }
   ],
   "source": [
    "### moje\n",
    "print('Podaj wojewodztwo')\n",
    "wojewodztwo = widgets.Dropdown(options=['dolnoslaskie', 'kujawsko-pomorskie', 'lodzkie', 'lubelskie', 'lubuskie', \n",
    "                                        'malopolskie', 'mazowieckie', 'opolskie', 'podkarpackie', 'podlaskie', \n",
    "                                        'pomorskie', 'slaskie', 'swietokrzyskie', 'warminsko-mazurskie', 'wielkopolskie', \n",
    "                                        'zachodniopomorskie'])\n",
    "display(wojewodztwo)"
   ]
  },
  {
   "cell_type": "code",
   "execution_count": null,
   "metadata": {},
   "outputs": [],
   "source": [
    "class GeneralInfo:\n",
    "\n",
    "    def __init__(self):\n",
    "        self.st = StatisticTests()\n",
    "        self.df = self.st.df\n",
    "        self.plot = Plots()\n",
    "\n",
    "    def distribution_data(self, region):\n",
    "        x = self.region_data(region)['cena']\n",
    "        self.plot.plot_distribution(x, region)\n",
    "        \n",
    "    def region_data(self, region, columns=None):\n",
    "        if columns is None:\n",
    "            columns = [\"rok_budowy\"]\n",
    "        df = self.spr.loc[self.df[\"wojewodztwo\"].str.contains(region, case=False)]\n",
    "        t = spr.groupby(columns).count()\n",
    "        targets = spr.groupby(columns)[\"cena\"].sum().reset_index()\n",
    "        targets['pokoje'] = t['cena'].values\n",
    "        t = targets['cena'] / targets['pokoje']\n",
    "        targets['stopa_pokoi'] = t\n",
    "        return targets\n",
    "    \n",
    "    def select_data_year(self, rok_bud, region, col_type):\n",
    "        targets = self.region_data(region, [\"rok_budowy\", col_type])\n",
    "        uniques = targets[col_type].unique()\n",
    "        max_height = self.spr.loc[self.spr['cena'].idxmax()]\n",
    "        x = targets.loc[targets[\"rok_budowy\"] == rok_bud]\n",
    "        l = [0.0] * len(uniques)\n",
    "        di = dict(zip(uniques, l))\n",
    "        for i, k in x.iterrows():\n",
    "            w = k[col_type]\n",
    "            ki = k['cena']\n",
    "            di[w] = ki\n",
    "        uniq = list(di.keys())\n",
    "        vals = list(di.values())\n",
    "        return uniq, vals\n",
    "    \n",
    "    def region_plots(self):\n",
    "        fig, ax = plt.subplots(figsize=(20, 10))\n",
    "        sns.countplot(self.spr.wojewodztwo, ax=ax)\n",
    "        plt.xticks(rotation=90, size=15)\n",
    "        plt.title('ilość mieszkań')\n",
    "        \n",
    "    def groupby_attack_type(self, il_pokoi):\n",
    "        grouped_count = self.spr[['cena']].where(self.spr.liczba_pokoi == l_pokoi).groupby(\n",
    "            self.spr.wojewodztwo).count()\n",
    "        return grouped_count\n",
    "    \n",
    "    def box_plots(self):\n",
    "        il_pokoi = self.st.get_uniques([\"liczba_pokoi\"])\n",
    "        sum_cena = self.spr[['cena']].groupby(self.spr.wojewodztwo).count()\n",
    "        pokoje = list()\n",
    "        for pokoj in il_pokoi[0]:\n",
    "            at = self.spr['cena'].where(self.spr.liczba_pokoi == pokoj).groupby(self.spr.wojewodztwo).count()\n",
    "            pokoje.append(at)\n",
    "            \n",
    "        r = None\n",
    "            for i, pokoj in enumerate(pokoje):\n",
    "                if i == 0:\n",
    "                    r = pd.merge(pokoje[i], pokoje[i + 1], how='left', left_on=['wojewodztwo'], right_on=['wojewodztwo'])\n",
    "                elif i == len(pokoje):\n",
    "                    r = pd.merge(r, sum_cena, how='left', left_on=['wojewodztwo'], right_on=['wojewodztwo'])\n",
    "                else:\n",
    "                    r = pd.merge(r, pokoje[i], how='left', left_on=['wojewodztwo'], right_on=['wojewodztwo'])\n",
    "#             r.columns = [1,2,3,4,5,6,7,8,9,10,11]\n",
    "            plot = r.boxplot(rot=90, figsize=(20, 10), fontsize=15)\n",
    "            return plot\n"
   ]
  }
 ],
 "metadata": {
  "kernelspec": {
   "display_name": "Python 3",
   "language": "python",
   "name": "python3"
  },
  "language_info": {
   "codemirror_mode": {
    "name": "ipython",
    "version": 3
   },
   "file_extension": ".py",
   "mimetype": "text/x-python",
   "name": "python",
   "nbconvert_exporter": "python",
   "pygments_lexer": "ipython3",
   "version": "3.7.4"
  }
 },
 "nbformat": 4,
 "nbformat_minor": 2
}
