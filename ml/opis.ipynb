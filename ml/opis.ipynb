{
 "cells": [
  {
   "cell_type": "markdown",
   "metadata": {},
   "source": [
    "**1) Założenia i cel projektu**\n",
    "\n",
    "\n",
    "Model, który opracowaliśmy bazuje na rzeczywistej bazie nieruchomości z całej Polski z kilku popularnych stron internetowych dotyczących tej tematyki. Zgromadzone dane dotyczą danych z rynku wtórnego i pierwotnego.\n",
    "\n",
    "Celem jest opracowanie modelu, który ma szerokie zastosowanie w celu przewidywania cen sprzedaży mieszkań. Przy określeniu kilku parametrów np. liczba pokoi, piętro czy wielkość miejscowości jesteśmy w stanie określić cenę sprzedaży danego lokalu mieszkalnego.\n",
    "\n",
    "Jako metryki sukcesu modelu zastosowano MSE i statystykę R2.\n",
    "\n",
    "**2) Analiza danych**\n",
    "\n",
    "Zmienne zawarte w bazie są typu liczbowego i kategorycznego. Na potrzeby pracy nad modelem zostały poddane funkcji get.dummy w celu przekształceniu ich na liczbowe.\n",
    "Podstawowymy zmiennymi objaśniającymi są: \n",
    "współrzędne geograficzne\n",
    "powierzchnia\n",
    "liczba pokoi\n",
    "liczba pięter\n",
    "rok budowy\n",
    "miasto\n",
    "wojewodztwo\n",
    "\n",
    "**3) Data Cleaning i Feature Engineering**  \n",
    "W pierwszym etapie pracy nad bazą przeprowadzono zaawansowany data cleaning polegający na czyszczeniu danych NaN, usystematyzowaniu nazw poszczególnych danych kategorycznych w celu lepszej czytelności danych, zmiana typów danych oraz usunięciu outlajerów. \n",
    "Ostatecznie połączono tak oczyszczoną bazę danych z bazą dotyczącą populacji, w celu określenia przedziałów populacji w poszczególnych miejscowościach, w celu dokonania  bardziej precyzyjnej predykcji ceny. Narzędzie które poslużyło do dostania się do bazy danych populacji był scrapping, dla bardziej komfortowego użytkowania wytrenowanego modelu na rzeczywistych danych bez względu na miejsce użytkownika.  \n",
    "\n",
    "**4) Analiza Outleierów**  \n",
    "\n",
    "Wartości odstające zostały usunięte w celu lepszego dopasowania danych do modelu.  \n",
    "\n",
    "**5) Modelowane**  \n",
    "\n",
    "Jako modele zastosowano regresję liniową wieloraką, drzewa i lasy decyzyjne, KNN, SVM oraz XG boost. W każdym z zastosowanych modeli dobrano najbardziej optymalne hiperparametry.  \n",
    "Na podstawie wymienionych modeli przeprowadzono badania i przedstawiono wyniki poszczególnych metod.\n",
    "\n",
    "**6) Model ostateczny**  \n",
    "\n",
    "Wynikiem pracy jest porównanie modeli i wybranie najbardziej skutecznego i satysfakcjonującego, na którym została przeprowadzona  cross validation, w celu ocenienia jak wybrany model będzie się zachowywał w praktyce.\n",
    "\n",
    "Wnioski:  \n",
    "-- do uzupełnienia po wykonaniu modelu--\n"
   ]
  }
 ],
 "metadata": {
  "kernelspec": {
   "display_name": "Python 3",
   "language": "python",
   "name": "python3"
  },
  "language_info": {
   "codemirror_mode": {
    "name": "ipython",
    "version": 3
   },
   "file_extension": ".py",
   "mimetype": "text/x-python",
   "name": "python",
   "nbconvert_exporter": "python",
   "pygments_lexer": "ipython3",
   "version": "3.7.4"
  }
 },
 "nbformat": 4,
 "nbformat_minor": 2
}
