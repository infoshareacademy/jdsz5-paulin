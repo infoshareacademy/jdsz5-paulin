{
 "cells": [
  {
   "cell_type": "code",
   "execution_count": 2,
   "metadata": {},
   "outputs": [],
   "source": [
    "from packages.script import Datasets"
   ]
  },
  {
   "cell_type": "code",
   "execution_count": 3,
   "metadata": {
    "pycharm": {
     "name": "#%%\n"
    }
   },
   "outputs": [
    {
     "name": "stderr",
     "output_type": "stream",
     "text": [
      "/Library/Frameworks/Python.framework/Versions/3.6/lib/python3.6/site-packages/IPython/core/interactiveshell.py:3319: DtypeWarning: Columns (4,6,31,33,61,62,63,76,79,90,92,94,96,114,115,121) have mixed types. Specify dtype option on import or set low_memory=False.\n",
      "  exec(code_obj, self.user_global_ns, self.user_ns)\n"
     ]
    }
   ],
   "source": [
    "data = Datasets()\n",
    "df = data.df"
   ]
  },
  {
   "cell_type": "code",
   "execution_count": 4,
   "metadata": {
    "pycharm": {
     "name": "#%%\n"
    }
   },
   "outputs": [
    {
     "data": {
      "text/plain": "             eventid  iyear  imonth  iday approxdate  extended resolution  \\\n0       197000000001   1970       7     2        NaN         0        NaN   \n1       197000000002   1970       0     0        NaN         0        NaN   \n2       197001000001   1970       1     0        NaN         0        NaN   \n3       197001000002   1970       1     0        NaN         0        NaN   \n4       197001000003   1970       1     0        NaN         0        NaN   \n...              ...    ...     ...   ...        ...       ...        ...   \n181686  201712310022   2017      12    31        NaN         0        NaN   \n181687  201712310029   2017      12    31        NaN         0        NaN   \n181688  201712310030   2017      12    31        NaN         0        NaN   \n181689  201712310031   2017      12    31        NaN         0        NaN   \n181690  201712310032   2017      12    31        NaN         0        NaN   \n\n        country         country_txt  region  ... addnotes  \\\n0            58  Dominican Republic       2  ...      NaN   \n1           130              Mexico       1  ...      NaN   \n2           160         Philippines       5  ...      NaN   \n3            78              Greece       8  ...      NaN   \n4           101               Japan       4  ...      NaN   \n...         ...                 ...     ...  ...      ...   \n181686      182             Somalia      11  ...      NaN   \n181687      200               Syria      10  ...      NaN   \n181688      160         Philippines       5  ...      NaN   \n181689       92               India       6  ...      NaN   \n181690      160         Philippines       5  ...      NaN   \n\n                                                   scite1  \\\n0                                                     NaN   \n1                                                     NaN   \n2                                                     NaN   \n3                                                     NaN   \n4                                                     NaN   \n...                                                   ...   \n181686  \"Somalia: Al-Shabaab Militants Attack Army Che...   \n181687  \"Putin's 'victory' in Syria has turned into a ...   \n181688  \"Maguindanao clashes trap tribe members,\" Phil...   \n181689  \"Trader escapes grenade attack in Imphal,\" Bus...   \n181690  \"Security tightened in Cotabato following IED ...   \n\n                                                   scite2  \\\n0                                                     NaN   \n1                                                     NaN   \n2                                                     NaN   \n3                                                     NaN   \n4                                                     NaN   \n...                                                   ...   \n181686  \"Highlights: Somalia Daily Media Highlights 2 ...   \n181687  \"Two Russian soldiers killed at Hmeymim base i...   \n181688                                                NaN   \n181689                                                NaN   \n181690  \"Security tightened in Cotabato City,\" Manila ...   \n\n                                                   scite3  \\\n0                                                     NaN   \n1                                                     NaN   \n2                                                     NaN   \n3                                                     NaN   \n4                                                     NaN   \n...                                                   ...   \n181686  \"Highlights: Somalia Daily Media Highlights 1 ...   \n181687  \"Two Russian servicemen killed in Syria mortar...   \n181688                                                NaN   \n181689                                                NaN   \n181690                                                NaN   \n\n                        dbsource  INT_LOG  INT_IDEO INT_MISC INT_ANY  related  \n0                           PGIS        0         0        0       0      NaN  \n1                           PGIS        0         1        1       1      NaN  \n2                           PGIS       -9        -9        1       1      NaN  \n3                           PGIS       -9        -9        1       1      NaN  \n4                           PGIS       -9        -9        1       1      NaN  \n...                          ...      ...       ...      ...     ...      ...  \n181686  START Primary Collection        0         0        0       0      NaN  \n181687  START Primary Collection       -9        -9        1       1      NaN  \n181688  START Primary Collection        0         0        0       0      NaN  \n181689  START Primary Collection       -9        -9        0      -9      NaN  \n181690  START Primary Collection       -9        -9        0      -9      NaN  \n\n[181691 rows x 135 columns]",
      "text/html": "<div>\n<style scoped>\n    .dataframe tbody tr th:only-of-type {\n        vertical-align: middle;\n    }\n\n    .dataframe tbody tr th {\n        vertical-align: top;\n    }\n\n    .dataframe thead th {\n        text-align: right;\n    }\n</style>\n<table border=\"1\" class=\"dataframe\">\n  <thead>\n    <tr style=\"text-align: right;\">\n      <th></th>\n      <th>eventid</th>\n      <th>iyear</th>\n      <th>imonth</th>\n      <th>iday</th>\n      <th>approxdate</th>\n      <th>extended</th>\n      <th>resolution</th>\n      <th>country</th>\n      <th>country_txt</th>\n      <th>region</th>\n      <th>...</th>\n      <th>addnotes</th>\n      <th>scite1</th>\n      <th>scite2</th>\n      <th>scite3</th>\n      <th>dbsource</th>\n      <th>INT_LOG</th>\n      <th>INT_IDEO</th>\n      <th>INT_MISC</th>\n      <th>INT_ANY</th>\n      <th>related</th>\n    </tr>\n  </thead>\n  <tbody>\n    <tr>\n      <th>0</th>\n      <td>197000000001</td>\n      <td>1970</td>\n      <td>7</td>\n      <td>2</td>\n      <td>NaN</td>\n      <td>0</td>\n      <td>NaN</td>\n      <td>58</td>\n      <td>Dominican Republic</td>\n      <td>2</td>\n      <td>...</td>\n      <td>NaN</td>\n      <td>NaN</td>\n      <td>NaN</td>\n      <td>NaN</td>\n      <td>PGIS</td>\n      <td>0</td>\n      <td>0</td>\n      <td>0</td>\n      <td>0</td>\n      <td>NaN</td>\n    </tr>\n    <tr>\n      <th>1</th>\n      <td>197000000002</td>\n      <td>1970</td>\n      <td>0</td>\n      <td>0</td>\n      <td>NaN</td>\n      <td>0</td>\n      <td>NaN</td>\n      <td>130</td>\n      <td>Mexico</td>\n      <td>1</td>\n      <td>...</td>\n      <td>NaN</td>\n      <td>NaN</td>\n      <td>NaN</td>\n      <td>NaN</td>\n      <td>PGIS</td>\n      <td>0</td>\n      <td>1</td>\n      <td>1</td>\n      <td>1</td>\n      <td>NaN</td>\n    </tr>\n    <tr>\n      <th>2</th>\n      <td>197001000001</td>\n      <td>1970</td>\n      <td>1</td>\n      <td>0</td>\n      <td>NaN</td>\n      <td>0</td>\n      <td>NaN</td>\n      <td>160</td>\n      <td>Philippines</td>\n      <td>5</td>\n      <td>...</td>\n      <td>NaN</td>\n      <td>NaN</td>\n      <td>NaN</td>\n      <td>NaN</td>\n      <td>PGIS</td>\n      <td>-9</td>\n      <td>-9</td>\n      <td>1</td>\n      <td>1</td>\n      <td>NaN</td>\n    </tr>\n    <tr>\n      <th>3</th>\n      <td>197001000002</td>\n      <td>1970</td>\n      <td>1</td>\n      <td>0</td>\n      <td>NaN</td>\n      <td>0</td>\n      <td>NaN</td>\n      <td>78</td>\n      <td>Greece</td>\n      <td>8</td>\n      <td>...</td>\n      <td>NaN</td>\n      <td>NaN</td>\n      <td>NaN</td>\n      <td>NaN</td>\n      <td>PGIS</td>\n      <td>-9</td>\n      <td>-9</td>\n      <td>1</td>\n      <td>1</td>\n      <td>NaN</td>\n    </tr>\n    <tr>\n      <th>4</th>\n      <td>197001000003</td>\n      <td>1970</td>\n      <td>1</td>\n      <td>0</td>\n      <td>NaN</td>\n      <td>0</td>\n      <td>NaN</td>\n      <td>101</td>\n      <td>Japan</td>\n      <td>4</td>\n      <td>...</td>\n      <td>NaN</td>\n      <td>NaN</td>\n      <td>NaN</td>\n      <td>NaN</td>\n      <td>PGIS</td>\n      <td>-9</td>\n      <td>-9</td>\n      <td>1</td>\n      <td>1</td>\n      <td>NaN</td>\n    </tr>\n    <tr>\n      <th>...</th>\n      <td>...</td>\n      <td>...</td>\n      <td>...</td>\n      <td>...</td>\n      <td>...</td>\n      <td>...</td>\n      <td>...</td>\n      <td>...</td>\n      <td>...</td>\n      <td>...</td>\n      <td>...</td>\n      <td>...</td>\n      <td>...</td>\n      <td>...</td>\n      <td>...</td>\n      <td>...</td>\n      <td>...</td>\n      <td>...</td>\n      <td>...</td>\n      <td>...</td>\n      <td>...</td>\n    </tr>\n    <tr>\n      <th>181686</th>\n      <td>201712310022</td>\n      <td>2017</td>\n      <td>12</td>\n      <td>31</td>\n      <td>NaN</td>\n      <td>0</td>\n      <td>NaN</td>\n      <td>182</td>\n      <td>Somalia</td>\n      <td>11</td>\n      <td>...</td>\n      <td>NaN</td>\n      <td>\"Somalia: Al-Shabaab Militants Attack Army Che...</td>\n      <td>\"Highlights: Somalia Daily Media Highlights 2 ...</td>\n      <td>\"Highlights: Somalia Daily Media Highlights 1 ...</td>\n      <td>START Primary Collection</td>\n      <td>0</td>\n      <td>0</td>\n      <td>0</td>\n      <td>0</td>\n      <td>NaN</td>\n    </tr>\n    <tr>\n      <th>181687</th>\n      <td>201712310029</td>\n      <td>2017</td>\n      <td>12</td>\n      <td>31</td>\n      <td>NaN</td>\n      <td>0</td>\n      <td>NaN</td>\n      <td>200</td>\n      <td>Syria</td>\n      <td>10</td>\n      <td>...</td>\n      <td>NaN</td>\n      <td>\"Putin's 'victory' in Syria has turned into a ...</td>\n      <td>\"Two Russian soldiers killed at Hmeymim base i...</td>\n      <td>\"Two Russian servicemen killed in Syria mortar...</td>\n      <td>START Primary Collection</td>\n      <td>-9</td>\n      <td>-9</td>\n      <td>1</td>\n      <td>1</td>\n      <td>NaN</td>\n    </tr>\n    <tr>\n      <th>181688</th>\n      <td>201712310030</td>\n      <td>2017</td>\n      <td>12</td>\n      <td>31</td>\n      <td>NaN</td>\n      <td>0</td>\n      <td>NaN</td>\n      <td>160</td>\n      <td>Philippines</td>\n      <td>5</td>\n      <td>...</td>\n      <td>NaN</td>\n      <td>\"Maguindanao clashes trap tribe members,\" Phil...</td>\n      <td>NaN</td>\n      <td>NaN</td>\n      <td>START Primary Collection</td>\n      <td>0</td>\n      <td>0</td>\n      <td>0</td>\n      <td>0</td>\n      <td>NaN</td>\n    </tr>\n    <tr>\n      <th>181689</th>\n      <td>201712310031</td>\n      <td>2017</td>\n      <td>12</td>\n      <td>31</td>\n      <td>NaN</td>\n      <td>0</td>\n      <td>NaN</td>\n      <td>92</td>\n      <td>India</td>\n      <td>6</td>\n      <td>...</td>\n      <td>NaN</td>\n      <td>\"Trader escapes grenade attack in Imphal,\" Bus...</td>\n      <td>NaN</td>\n      <td>NaN</td>\n      <td>START Primary Collection</td>\n      <td>-9</td>\n      <td>-9</td>\n      <td>0</td>\n      <td>-9</td>\n      <td>NaN</td>\n    </tr>\n    <tr>\n      <th>181690</th>\n      <td>201712310032</td>\n      <td>2017</td>\n      <td>12</td>\n      <td>31</td>\n      <td>NaN</td>\n      <td>0</td>\n      <td>NaN</td>\n      <td>160</td>\n      <td>Philippines</td>\n      <td>5</td>\n      <td>...</td>\n      <td>NaN</td>\n      <td>\"Security tightened in Cotabato following IED ...</td>\n      <td>\"Security tightened in Cotabato City,\" Manila ...</td>\n      <td>NaN</td>\n      <td>START Primary Collection</td>\n      <td>-9</td>\n      <td>-9</td>\n      <td>0</td>\n      <td>-9</td>\n      <td>NaN</td>\n    </tr>\n  </tbody>\n</table>\n<p>181691 rows × 135 columns</p>\n</div>"
     },
     "execution_count": 4,
     "metadata": {},
     "output_type": "execute_result"
    }
   ],
   "source": [
    "df"
   ]
  }
 ],
 "metadata": {
  "kernelspec": {
   "display_name": "Python 3",
   "language": "python",
   "name": "python3"
  },
  "language_info": {
   "codemirror_mode": {
    "name": "ipython",
    "version": 3
   },
   "file_extension": ".py",
   "mimetype": "text/x-python",
   "name": "python",
   "nbconvert_exporter": "python",
   "pygments_lexer": "ipython3",
   "version": "3.6.5"
  }
 },
 "nbformat": 4,
 "nbformat_minor": 1
}