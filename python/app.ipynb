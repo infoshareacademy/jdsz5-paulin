{
 "cells": [
  {
   "cell_type": "code",
   "execution_count": 1,
   "metadata": {
    "pycharm": {
     "name": "#%%\n"
    }
   },
   "outputs": [],
   "source": [
    "from packages.script import *"
   ]
  },
  {
   "cell_type": "code",
   "execution_count": 2,
   "metadata": {
    "pycharm": {
     "name": "#%%\n"
    }
   },
   "outputs": [],
   "source": [
    "# tworzenie obiektów dla danych predykcji\n",
    "victims = Victims()\n",
    "general_info = GeneralInfo()\n",
    "probability = Probability()\n",
    "thesis = Thesis()"
   ]
  },
  {
   "cell_type": "code",
   "execution_count": 3,
   "metadata": {},
   "outputs": [],
   "source": [
    "# general_info.region_plots()"
   ]
  },
  {
   "cell_type": "code",
   "execution_count": 4,
   "metadata": {},
   "outputs": [],
   "source": [
    "# general_info.box_plots()"
   ]
  },
  {
   "cell_type": "code",
   "execution_count": 5,
   "metadata": {},
   "outputs": [
    {
     "name": "stdout",
     "output_type": "stream",
     "text": [
      "Prawdopodobieństwo ataku typu: Firearms w regionie: South America wynosi: 0.03664813306418293\n"
     ]
    }
   ],
   "source": [
    "dataset_probabilities = probability.dataset()\n",
    "filtred_probabilities, col_name, col_val = probability.filtr(dataset_probabilities)\n",
    "goal_probabilities = probability.goal(filtred_probabilities)\n",
    "whole_probabilities = probability.whole(dataset_probabilities)\n",
    "possibilities = probability.possibility(goal_probabilities, whole_probabilities)\n",
    "prob_count = possibilities['nkill']\n",
    "print(f\"Prawdopodobieństwo ataku typu: {col_val[1]} w regionie: {col_val[0]} wynosi: {prob_count}\")"
   ]
  },
  {
   "cell_type": "code",
   "execution_count": null,
   "metadata": {},
   "outputs": [],
   "source": [
    "dataset_thesis = thesis.dataset()\n",
    "filtred_thesis_x, filtred_thesis_y, col_name, col_val = thesis.filtr(dataset_probabilities)\n"
   ]
  }
 ],
 "metadata": {
  "kernelspec": {
   "display_name": "Python 3",
   "language": "python",
   "name": "python3"
  },
  "language_info": {
   "codemirror_mode": {
    "name": "ipython",
    "version": 3
   },
   "file_extension": ".py",
   "mimetype": "text/x-python",
   "name": "python",
   "nbconvert_exporter": "python",
   "pygments_lexer": "ipython3",
   "version": "3.6.5"
  }
 },
 "nbformat": 4,
 "nbformat_minor": 1
}