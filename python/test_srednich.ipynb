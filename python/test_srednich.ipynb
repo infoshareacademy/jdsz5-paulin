{
 "cells": [
  {
   "cell_type": "code",
   "execution_count": 1,
   "metadata": {},
   "outputs": [],
   "source": [
    "import pandas as pd\n",
    "import numpy as np\n",
    "import matplotlib.pyplot as plt\n",
    "import scipy as sp \n",
    "import scipy.stats as st\n",
    "import seaborn as sns\n",
    "from collections import Counter"
   ]
  },
  {
   "cell_type": "markdown",
   "metadata": {},
   "source": [
    "### czy średnia ilośc morderst dla X jest taka sama jak dla Y\n",
    "#### czy liczba morderstw z użyciem broni palnej w Ameryce Północnej jest taka sama jak w Ameryce środkowej i na Karaibach z użyciem broni białej"
   ]
  },
  {
   "cell_type": "code",
   "execution_count": 2,
   "metadata": {},
   "outputs": [],
   "source": [
    "data=pd.read_csv('clean_data.csv')"
   ]
  },
  {
   "cell_type": "code",
   "execution_count": 3,
   "metadata": {},
   "outputs": [],
   "source": [
    "x=data.loc[(data['weapon']=='Firearms')& (data['region_txt']=='North America'),['nkill']]                  "
   ]
  },
  {
   "cell_type": "code",
   "execution_count": 4,
   "metadata": {},
   "outputs": [],
   "source": [
    "y=data.loc[(data['weapon']=='Melee')& (data['region_txt']=='Central America & Caribbean'),['nkill']]                  "
   ]
  },
  {
   "cell_type": "code",
   "execution_count": 60,
   "metadata": {
    "scrolled": true
   },
   "outputs": [],
   "source": [
    "#a=data.loc[(data['weapon']=='Firearms')& (data['region_txt']=='North America')&(data['iyear']=='1970'),['nkill']]"
   ]
  },
  {
   "cell_type": "markdown",
   "metadata": {},
   "source": [
    "#### stworzenie historgramów, aby sprawdzić jakie sa rozkłady"
   ]
  },
  {
   "cell_type": "code",
   "execution_count": 5,
   "metadata": {},
   "outputs": [],
   "source": [
    "X=pd.DataFrame.to_numpy(x) "
   ]
  },
  {
   "cell_type": "code",
   "execution_count": 6,
   "metadata": {},
   "outputs": [],
   "source": [
    "Y=pd.DataFrame.to_numpy(y) "
   ]
  },
  {
   "cell_type": "code",
   "execution_count": 9,
   "metadata": {},
   "outputs": [
    {
     "data": {
      "text/plain": [
       "<matplotlib.axes._subplots.AxesSubplot at 0x7f5cd1fa85d0>"
      ]
     },
     "execution_count": 9,
     "metadata": {},
     "output_type": "execute_result"
    },
    {
     "data": {
      "image/png": "[encoded data removed]",
      "text/plain": [
       "<Figure size 432x288 with 1 Axes>"
      ]
     },
     "metadata": {
      "needs_background": "light"
     },
     "output_type": "display_data"
    }
   ],
   "source": [
    "sns.distplot(X)\n",
    "sns.distplot(Y)"
   ]
  },
  {
   "cell_type": "code",
   "execution_count": 66,
   "metadata": {},
   "outputs": [],
   "source": [
    "#przy takich danych korzystamy z zmiennych dyskretnych (zmienne losowe)"
   ]
  },
  {
   "cell_type": "markdown",
   "metadata": {},
   "source": [
    "### stworzenie zmiennych dyskretnych"
   ]
  },
  {
   "cell_type": "code",
   "execution_count": 25,
   "metadata": {},
   "outputs": [],
   "source": [
    "lista_x=list(pd.unique(pd.Series(x['nkill'])))"
   ]
  },
  {
   "cell_type": "code",
   "execution_count": 41,
   "metadata": {},
   "outputs": [
    {
     "data": {
      "text/plain": [
       "dict_values([277, 62, 232, 21, 5, 10, 2, 8, 24, 4, 10, 2, 1, 12, 1, 1, 1, 1])"
      ]
     },
     "execution_count": 41,
     "metadata": {},
     "output_type": "execute_result"
    }
   ],
   "source": [
    "dict_x=Counter(lista_x)"
   ]
  },
  {
   "cell_type": "code",
   "execution_count": 56,
   "metadata": {},
   "outputs": [],
   "source": [
    "discrite_x = pd.DataFrame.from_dict(dict_x, orient='index').reset_index()"
   ]
  },
  {
   "cell_type": "code",
   "execution_count": 58,
   "metadata": {},
   "outputs": [],
   "source": [
    "discrite_x['density']=discrite_x[0]/sum(discrite_x[0])"
   ]
  },
  {
   "cell_type": "code",
   "execution_count": 60,
   "metadata": {},
   "outputs": [],
   "source": [
    "discrite_x.rename(columns={'index':'nkill',0:'sum'}, inplace=True)"
   ]
  },
  {
   "cell_type": "code",
   "execution_count": 62,
   "metadata": {},
   "outputs": [
    {
     "data": {
      "image/png": "[encoded data removed]",
      "text/plain": [
       "<Figure size 432x288 with 1 Axes>"
      ]
     },
     "metadata": {
      "needs_background": "light"
     },
     "output_type": "display_data"
    }
   ],
   "source": [
    "xk = discrite_x['nkill']\n",
    "pk = discrite_x['density']\n",
    "custm = st.rv_discrete(name='custm', values=(xk, pk))\n",
    "\n",
    "fig, ax = plt.subplots(1, 1)\n",
    "ax.plot(xk, custm.pmf(xk), 'ro', ms=12, mec='r')\n",
    "ax.vlines(xk, 0, custm.pmf(xk), colors='r', lw=4)\n",
    "plt.show()"
   ]
  },
  {
   "cell_type": "code",
   "execution_count": 63,
   "metadata": {},
   "outputs": [],
   "source": [
    "lista_y=list(pd.unique(pd.Series(y['nkill'])))\n",
    "dict_y=Counter(lista_y)\n",
    "discrite_y = pd.DataFrame.from_dict(dict_y, orient='index').reset_index()\n",
    "discrite_y['density']=discrite_y[0]/sum(discrite_y[0])\n",
    "discrite_y.rename(columns={'index':'nkill',0:'sum'}, inplace=True)"
   ]
  },
  {
   "cell_type": "code",
   "execution_count": 65,
   "metadata": {},
   "outputs": [
    {
     "data": {
      "image/png": "[encoded data removed]",
      "text/plain": [
       "<Figure size 432x288 with 1 Axes>"
      ]
     },
     "metadata": {
      "needs_background": "light"
     },
     "output_type": "display_data"
    }
   ],
   "source": [
    "yk = discrite_y['nkill']\n",
    "ro = discrite_y['density']\n",
    "custm = st.rv_discrete(name='custm', values=(yk, ro))\n",
    "\n",
    "fig, ax = plt.subplots(1, 1)\n",
    "ax.plot(yk, custm.pmf(yk), 'ro', ms=12, mec='y')\n",
    "ax.vlines(yk, 0, custm.pmf(yk), colors='y', lw=4)\n",
    "plt.show()"
   ]
  },
  {
   "cell_type": "markdown",
   "metadata": {},
   "source": [
    "### na podstawie wykresów zmiennych dyskretnych stwierdzono:\n",
    "* zmienne losowe\n",
    "* podlegają prawu rzadkich zdarzeń\n",
    "* zmienne nie są zależne od czasu, który minoł pomiędzy nimi "
   ]
  },
  {
   "cell_type": "markdown",
   "metadata": {},
   "source": [
    "#### SPRAWDZENIE CZY ROZKŁĄDY SĄ NORMLANE"
   ]
  },
  {
   "cell_type": "code",
   "execution_count": 95,
   "metadata": {},
   "outputs": [],
   "source": [
    "x_normed = X / X.max(axis=0)"
   ]
  },
  {
   "cell_type": "code",
   "execution_count": 96,
   "metadata": {},
   "outputs": [],
   "source": [
    "y_normed = Y/ Y.max(axis=0)"
   ]
  },
  {
   "cell_type": "code",
   "execution_count": 97,
   "metadata": {},
   "outputs": [
    {
     "name": "stdout",
     "output_type": "stream",
     "text": [
      "p_value = [3.21303155e-242]\n",
      "dane nie podlegają rozkładfowi normalnemu\n"
     ]
    }
   ],
   "source": [
    "z = np.concatenate((x_normed, y_normed))\n",
    "k2, p = st.normaltest(z)\n",
    "alpha = 0.05\n",
    "print(\"p_value = {}\".format(p))\n",
    "\n",
    "if p < alpha:  # null hypothesis: x comes from a normal distribution\n",
    "    print(\"dane nie podlegają rozkładfowi normalnemu\")\n",
    "else:\n",
    "    print(\"dane podlegają rozkładowi normalnem\")"
   ]
  },
  {
   "cell_type": "code",
   "execution_count": 67,
   "metadata": {},
   "outputs": [],
   "source": [
    "#rozkłady nie są normalne dlatego też nie t-student ale sprawdzane czy dsne podlegają rozkładowi Poissona"
   ]
  },
  {
   "cell_type": "markdown",
   "metadata": {},
   "source": [
    "### jeżeli rozkłąd nie jest normlany to sprawdzenie czy dane podlegają rozkładowi Poissona"
   ]
  },
  {
   "cell_type": "code",
   "execution_count": 72,
   "metadata": {},
   "outputs": [],
   "source": [
    "from scipy.stats import poisson"
   ]
  },
  {
   "cell_type": "code",
   "execution_count": 87,
   "metadata": {},
   "outputs": [],
   "source": [
    "mu=np.mean(x['nkill'])\n",
    "mean, var, skew, kurt = poisson.stats(mu, moments='mvsk')"
   ]
  },
  {
   "cell_type": "code",
   "execution_count": 89,
   "metadata": {},
   "outputs": [
    {
     "data": {
      "text/plain": [
       "<matplotlib.collections.LineCollection at 0x7f5ccc37a8d0>"
      ]
     },
     "execution_count": 89,
     "metadata": {},
     "output_type": "execute_result"
    }
   ],
   "source": [
    "#kw-> kwartyl\n",
    "kw = np.arange(poisson.ppf(0.01, mu),\n",
    "              poisson.ppf(0.99, mu))\n",
    "ax.plot(kw, poisson.pmf(kw, mu), 'bo', ms=8, label='poisson pmf')\n",
    "ax.vlines(kw, 0, poisson.pmf(kw, mu), colors='b', lw=5, alpha=0.5)"
   ]
  },
  {
   "cell_type": "code",
   "execution_count": 91,
   "metadata": {},
   "outputs": [
    {
     "data": {
      "text/plain": [
       "True"
      ]
     },
     "execution_count": 91,
     "metadata": {},
     "output_type": "execute_result"
    }
   ],
   "source": [
    "#sprawdzenie czy dane podlegają rzkłądowi POissona (szczególny przypadek rozkładu dwumianowego)\n",
    "prob = poisson.cdf(kw, mu)\n",
    "np.allclose(kw, poisson.ppf(prob, mu))"
   ]
  },
  {
   "cell_type": "code",
   "execution_count": 98,
   "metadata": {},
   "outputs": [],
   "source": [
    "# zmienne podlegają rozkładowi Poissona"
   ]
  },
  {
   "cell_type": "markdown",
   "metadata": {},
   "source": [
    "### test X_i"
   ]
  },
  {
   "cell_type": "code",
   "execution_count": null,
   "metadata": {},
   "outputs": [],
   "source": []
  },
  {
   "cell_type": "markdown",
   "metadata": {},
   "source": [
    "### test zgodności kołmogorowa smirnowa dla 2ch próbek -> czy średnia(parametr rozkładu) jest identyczna w porównywanych próbkach"
   ]
  },
  {
   "cell_type": "code",
   "execution_count": 112,
   "metadata": {},
   "outputs": [
    {
     "name": "stdout",
     "output_type": "stream",
     "text": [
      "rvs1, rvs2: Ks_2sampResult(statistic=0.33062123097539964, pvalue=5.007120244759911e-06)\n",
      "rvs1, rvs3: Ks_2sampResult(statistic=0.0805973006604767, pvalue=0.8231321263094229)\n"
     ]
    }
   ],
   "source": [
    "n1=len(X)\n",
    "n2=len(Y)\n",
    "rvs1 = st.norm.rvs(size=n1, loc=0., scale=1)\n",
    "rvs2 = st.norm.rvs(size=n2, loc=0.5, scale=1.5)\n",
    "rvs3=st.norm.rvs(size=n2, loc=0.01, scale=1.0)\n",
    "print ('rvs1, rvs2:',st.ks_2samp(rvs1, rvs2))\n",
    "print ('rvs1, rvs3:',st.ks_2samp(rvs1, rvs3))"
   ]
  },
  {
   "cell_type": "code",
   "execution_count": 55,
   "metadata": {},
   "outputs": [],
   "source": [
    "# dla rvs1, rvs2 p val<0,05 -> czyli rozkłądy są do siebie zbliżone\n",
    "#dla rvs1, rvs3 p val>0,05 -> co to oznacza\n",
    "#oraz co to zonacza w sytuacji odwrotnej\n",
    "#co tak naprawde daje mi rvs-> widzę, że jest on zwraca losowe dane z próby ale nie rozumiem, jak to działa tutaj"
   ]
  },
  {
   "cell_type": "markdown",
   "metadata": {},
   "source": [
    "###  możesz obliczyć sumę różnic w ilości obserwacji: robisz histogram i obliczasz o ile różnią się wysokości słupków"
   ]
  },
  {
   "cell_type": "code",
   "execution_count": 113,
   "metadata": {},
   "outputs": [
    {
     "name": "stdout",
     "output_type": "stream",
     "text": [
      "67.39999999999999\n"
     ]
    },
    {
     "data": {
      "text/plain": [
       "674.0"
      ]
     },
     "execution_count": 113,
     "metadata": {},
     "output_type": "execute_result"
    },
    {
     "data": {
      "image/png": "[encoded data removed]",
      "text/plain": [
       "<Figure size 432x288 with 1 Axes>"
      ]
     },
     "metadata": {
      "needs_background": "light"
     },
     "output_type": "display_data"
    }
   ],
   "source": [
    "fig = plt.figure()\n",
    "ax = fig.add_subplot(111)\n",
    "pdf, bins, patches = ax.hist(x_normed)\n",
    "print (np.sum(pdf * np.diff(bins)))\n",
    "np.sum(n1 * np.diff(bins))"
   ]
  },
  {
   "cell_type": "code",
   "execution_count": 74,
   "metadata": {},
   "outputs": [
    {
     "name": "stderr",
     "output_type": "stream",
     "text": [
      "/home/paulina_cieslinska/anaconda3/lib/python3.7/site-packages/ipykernel_launcher.py:1: VisibleDeprecationWarning: Passing `normed=True` on non-uniform bins has always been broken, and computes neither the probability density function nor the probability mass function. The result is only correct if the bins are uniform, when density=True will produce the same result anyway. The argument will be removed in a future version of numpy.\n",
      "  \"\"\"Entry point for launching an IPython kernel.\n"
     ]
    }
   ],
   "source": [
    "results, edges = np.histogram(X, normed=True)\n",
    "binWidth = edges[1] - edges[0]"
   ]
  },
  {
   "cell_type": "code",
   "execution_count": 114,
   "metadata": {},
   "outputs": [],
   "source": [
    "a=results*binWidth"
   ]
  },
  {
   "cell_type": "code",
   "execution_count": 83,
   "metadata": {},
   "outputs": [
    {
     "name": "stdout",
     "output_type": "stream",
     "text": [
      "[0.93548387 0.0483871  0.         0.         0.         0.\n",
      " 0.         0.         0.         0.01612903]\n"
     ]
    },
    {
     "name": "stderr",
     "output_type": "stream",
     "text": [
      "/home/paulina_cieslinska/anaconda3/lib/python3.7/site-packages/ipykernel_launcher.py:1: VisibleDeprecationWarning: Passing `normed=True` on non-uniform bins has always been broken, and computes neither the probability density function nor the probability mass function. The result is only correct if the bins are uniform, when density=True will produce the same result anyway. The argument will be removed in a future version of numpy.\n",
      "  \"\"\"Entry point for launching an IPython kernel.\n"
     ]
    }
   ],
   "source": [
    "results, edges = np.histogram(Y, normed=True)\n",
    "binWidth = edges[1] - edges[0]\n",
    "b=results*binWidth"
   ]
  },
  {
   "cell_type": "code",
   "execution_count": 115,
   "metadata": {},
   "outputs": [],
   "source": [
    "df_a = pd.DataFrame(a)  \n",
    "df_b = pd.DataFrame(b)  "
   ]
  },
  {
   "cell_type": "code",
   "execution_count": 93,
   "metadata": {},
   "outputs": [],
   "source": [
    "compare=df_a.merge(df_b, left_index=True, right_index=True)"
   ]
  },
  {
   "cell_type": "code",
   "execution_count": 116,
   "metadata": {},
   "outputs": [],
   "source": [
    "compare['|delta|']=abs(compare['0_x']-compare['0_y'])\n",
    "compare['%']=abs((compare['0_x']-compare['0_y'])/compare['0_x'])"
   ]
  },
  {
   "cell_type": "code",
   "execution_count": 117,
   "metadata": {},
   "outputs": [
    {
     "data": {
      "text/html": [
       "<div>\n",
       "<style scoped>\n",
       "    .dataframe tbody tr th:only-of-type {\n",
       "        vertical-align: middle;\n",
       "    }\n",
       "\n",
       "    .dataframe tbody tr th {\n",
       "        vertical-align: top;\n",
       "    }\n",
       "\n",
       "    .dataframe thead th {\n",
       "        text-align: right;\n",
       "    }\n",
       "</style>\n",
       "<table border=\"1\" class=\"dataframe\">\n",
       "  <thead>\n",
       "    <tr style=\"text-align: right;\">\n",
       "      <th></th>\n",
       "      <th>0_x</th>\n",
       "      <th>0_y</th>\n",
       "      <th>|delta|</th>\n",
       "      <th>%</th>\n",
       "    </tr>\n",
       "  </thead>\n",
       "  <tbody>\n",
       "    <tr>\n",
       "      <td>0</td>\n",
       "      <td>0.928783</td>\n",
       "      <td>0.935484</td>\n",
       "      <td>0.006700</td>\n",
       "      <td>0.007214</td>\n",
       "    </tr>\n",
       "    <tr>\n",
       "      <td>1</td>\n",
       "      <td>0.057864</td>\n",
       "      <td>0.048387</td>\n",
       "      <td>0.009476</td>\n",
       "      <td>0.163772</td>\n",
       "    </tr>\n",
       "    <tr>\n",
       "      <td>2</td>\n",
       "      <td>0.007418</td>\n",
       "      <td>0.000000</td>\n",
       "      <td>0.007418</td>\n",
       "      <td>1.000000</td>\n",
       "    </tr>\n",
       "    <tr>\n",
       "      <td>3</td>\n",
       "      <td>0.000000</td>\n",
       "      <td>0.000000</td>\n",
       "      <td>0.000000</td>\n",
       "      <td>NaN</td>\n",
       "    </tr>\n",
       "    <tr>\n",
       "      <td>4</td>\n",
       "      <td>0.000000</td>\n",
       "      <td>0.000000</td>\n",
       "      <td>0.000000</td>\n",
       "      <td>NaN</td>\n",
       "    </tr>\n",
       "    <tr>\n",
       "      <td>5</td>\n",
       "      <td>0.000000</td>\n",
       "      <td>0.000000</td>\n",
       "      <td>0.000000</td>\n",
       "      <td>NaN</td>\n",
       "    </tr>\n",
       "    <tr>\n",
       "      <td>6</td>\n",
       "      <td>0.000000</td>\n",
       "      <td>0.000000</td>\n",
       "      <td>0.000000</td>\n",
       "      <td>NaN</td>\n",
       "    </tr>\n",
       "    <tr>\n",
       "      <td>7</td>\n",
       "      <td>0.001484</td>\n",
       "      <td>0.000000</td>\n",
       "      <td>0.001484</td>\n",
       "      <td>1.000000</td>\n",
       "    </tr>\n",
       "    <tr>\n",
       "      <td>8</td>\n",
       "      <td>0.001484</td>\n",
       "      <td>0.000000</td>\n",
       "      <td>0.001484</td>\n",
       "      <td>1.000000</td>\n",
       "    </tr>\n",
       "    <tr>\n",
       "      <td>9</td>\n",
       "      <td>0.002967</td>\n",
       "      <td>0.016129</td>\n",
       "      <td>0.013162</td>\n",
       "      <td>4.435484</td>\n",
       "    </tr>\n",
       "  </tbody>\n",
       "</table>\n",
       "</div>"
      ],
      "text/plain": [
       "        0_x       0_y   |delta|         %\n",
       "0  0.928783  0.935484  0.006700  0.007214\n",
       "1  0.057864  0.048387  0.009476  0.163772\n",
       "2  0.007418  0.000000  0.007418  1.000000\n",
       "3  0.000000  0.000000  0.000000       NaN\n",
       "4  0.000000  0.000000  0.000000       NaN\n",
       "5  0.000000  0.000000  0.000000       NaN\n",
       "6  0.000000  0.000000  0.000000       NaN\n",
       "7  0.001484  0.000000  0.001484  1.000000\n",
       "8  0.001484  0.000000  0.001484  1.000000\n",
       "9  0.002967  0.016129  0.013162  4.435484"
      ]
     },
     "execution_count": 117,
     "metadata": {},
     "output_type": "execute_result"
    }
   ],
   "source": [
    "compare #jaka jest tego interpretacja, że jeżeli %<=5% to mała odchyłka pomiarów pomiędzy sobą i ilośc w tym przypadku średnia ilość morderst danego rodzaju nie odbiega więcej niż 5% "
   ]
  }
 ],
 "metadata": {
  "kernelspec": {
   "display_name": "Python 3",
   "language": "python",
   "name": "python3"
  },
  "language_info": {
   "codemirror_mode": {
    "name": "ipython",
    "version": 3
   },
   "file_extension": ".py",
   "mimetype": "text/x-python",
   "name": "python",
   "nbconvert_exporter": "python",
   "pygments_lexer": "ipython3",
   "version": "3.7.4"
  }
 },
 "nbformat": 4,
 "nbformat_minor": 2
}
