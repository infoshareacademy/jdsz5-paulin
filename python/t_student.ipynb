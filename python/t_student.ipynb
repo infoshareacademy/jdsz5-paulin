{
 "cells": [
  {
   "cell_type": "code",
   "execution_count": 1,
   "metadata": {},
   "outputs": [],
   "source": [
    "import pandas as pd\n",
    "import numpy as np\n",
    "import matplotlib.pyplot as plt\n",
    "import scipy as sp \n",
    "import scipy.stats as st"
   ]
  },
  {
   "cell_type": "markdown",
   "metadata": {},
   "source": [
    "### CZY W DANYM REGIONIE ŚWIATA JEST WIĘCEJ MORDERSTW DANYM RODZAJEM BRONI NIŻ INNYM (W TYM SAMYM ROKU)  "
   ]
  },
  {
   "cell_type": "code",
   "execution_count": null,
   "metadata": {},
   "outputs": [],
   "source": [
    "#zajecia 18.04.2020 2:10 nagranie"
   ]
  },
  {
   "cell_type": "code",
   "execution_count": 1,
   "metadata": {},
   "outputs": [],
   "source": [
    "class model:\n",
    "    \n",
    "    def __init__(self,x):\n",
    "        if len(x)>30:\n",
    "            model3(x) #musi być to array\n",
    "        else:\n",
    "            t_student(x)\n",
    "    def model3(self,x):\n",
    "        self.x=x\n",
    "        N = len(x)\n",
    "        df = N-1    #stopnie swobody=liczebnośc próby n-1\n",
    "        mean=np.mean(x)\n",
    "        std=np.std(x)\n",
    "        alfa=0.05\n",
    "        u= st.norm(0,1).ppf(1-alfa/2)#kwantyl u_1-alfa/2\n",
    "        #rozkl=st.norm(0,1) model 1 dla średnich, kiedy rozmar próby jest bez znaczenia i znamy std()\n",
    "        #rozkl1.ppf(alfa/2,1-alfa/2), alfa=0.05 kiedy rozkład jest niesymetryczny\n",
    "        #rozkl1.ppf(1-alfa/2), alfa=0.05 kiedy rozkład jest symetryczny\n",
    "        #rozkład normlany,model 3 x dowolne i duża próba.rozkl_norm=st.norm(0,1) df=N-1 . Ma dowolną srednią i std\n",
    "        \n",
    "        \n",
    "        #wzór CI=[mean-(std/np.sqrt(N))*u;mean+(std/np.sqrt(N))*u]\n",
    "        CI_lewe1=mean-(std1/np.sqrt(N))*u\n",
    "        CI_prawe1=mean+(std1/np.sqrt(N))*u\n",
    "        print('przedział ufności, pokrywający przewidywaną (prawdziwą) wartość średniej zabójstw w kolejnym roku wynoszącej {} znajduje się w przedziale {} a {}, co oznacza, że pokrywa przewidywaną średnią z prawdopodobieństwem {}'.format[mean,CI_lewe,CI_prawe,1-alga])\n",
    "        plt.plot(x,populacjaNormalna.pdf(x))\n",
    "        plt.legend([\"model statystyczny\"])\n",
    "        \n",
    "        \n",
    "    def t_student(self,x, mu0=0, AlternativeHypothesis=\"Unequal\"):\n",
    "        N = len(x)\n",
    "        df = N-1    \n",
    "        StudentTDistribution = st.t(df)\n",
    "\n",
    "        t = (st.tmean(x)-mu0)*np.sqrt(N)/st.tstd(x)\n",
    "        CDFvalue = StudentTDistribution.cdf(t)\n",
    "\n",
    "        if AlternativeHypothesis == \"Less\":\n",
    "            pvalue = CDFvalue\n",
    "        elif AlternativeHypothesis == \"Unequal\":  \n",
    "            pvalue = 2.*np.min([CDFvalue,1.-CDFvalue])\n",
    "        elif AlternativeHypothesis == \"Greater\":\n",
    "            pvalue = 1.-CDFvalue\n",
    "        else:\n",
    "            raise ValueError('AlternativeHypothesis argument can take value: Less, Unequal or Greater')\n",
    "        return pvalue \n",
    "        plt.plot(x,populacjaEstymowana.pdf(x))\n",
    "        plt.legend([\"model statystyczny\"])\n",
    "        "
   ]
  },
  {
   "cell_type": "code",
   "execution_count": null,
   "metadata": {},
   "outputs": [],
   "source": [
    "x=[]#lista z nkill na region\n",
    "print('czy średnia {} jest {} niż średnia {}'.format[weapon,Hypothesis_val,weapon])\n",
    "Hypothesis_val=[\"Less\",\"Unequal\",\"Greater\"]"
   ]
  }
 ],
 "metadata": {
  "kernelspec": {
   "display_name": "Python 3",
   "language": "python",
   "name": "python3"
  },
  "language_info": {
   "codemirror_mode": {
    "name": "ipython",
    "version": 3
   },
   "file_extension": ".py",
   "mimetype": "text/x-python",
   "name": "python",
   "nbconvert_exporter": "python",
   "pygments_lexer": "ipython3",
   "version": "3.7.4"
  }
 },
 "nbformat": 4,
 "nbformat_minor": 2
}
