{
 "cells": [
  {
   "cell_type": "code",
   "execution_count": 1,
   "metadata": {},
   "outputs": [],
   "source": [
    "import pandas as pd\n",
    "import numpy as np\n",
    "import matplotlib.pyplot as plt\n",
    "import scipy as sp "
   ]
  },
  {
   "cell_type": "code",
   "execution_count": 2,
   "metadata": {},
   "outputs": [],
   "source": [
    "df=pd.read_csv('globalterrorismdb_0718dist.csv',encoding='ISO-8859-1',low_memory=False)"
   ]
  },
  {
   "cell_type": "code",
   "execution_count": 3,
   "metadata": {},
   "outputs": [],
   "source": [
    "pd.set_option('display.max_columns', None)\n",
    "pd.set_option('display.max_rows', None)"
   ]
  },
  {
   "cell_type": "markdown",
   "metadata": {},
   "source": [
    "CLEANING DATA"
   ]
  },
  {
   "cell_type": "code",
   "execution_count": 4,
   "metadata": {},
   "outputs": [],
   "source": [
    "df2=df[['iyear','imonth','iday','country_txt','region_txt','city','attacktype1','attacktype1_txt','targtype1','targtype1_txt','weaptype1_txt','nkill','natlty1_txt']]"
   ]
  },
  {
   "cell_type": "code",
   "execution_count": 5,
   "metadata": {},
   "outputs": [],
   "source": [
    "#uswanie pustych rekordów\n",
    "df3=df2.dropna()"
   ]
  },
  {
   "cell_type": "code",
   "execution_count": 6,
   "metadata": {},
   "outputs": [],
   "source": [
    "#usuwanie miesięcy o nazwie 0\n",
    "df4=df3['imonth']!=0\n",
    "df5 = df3[df4]"
   ]
  },
  {
   "cell_type": "code",
   "execution_count": 7,
   "metadata": {
    "scrolled": true
   },
   "outputs": [],
   "source": [
    "df6=df5.groupby(['region_txt','weaptype1_txt'])['nkill'].agg(['sum'])"
   ]
  },
  {
   "cell_type": "code",
   "execution_count": 8,
   "metadata": {},
   "outputs": [],
   "source": [
    "df7=df6.groupby(level=[0,1]).max().reset_index()"
   ]
  },
  {
   "cell_type": "code",
   "execution_count": 9,
   "metadata": {
    "collapsed": true
   },
   "outputs": [
    {
     "data": {
      "text/html": [
       "<div>\n",
       "<style scoped>\n",
       "    .dataframe tbody tr th:only-of-type {\n",
       "        vertical-align: middle;\n",
       "    }\n",
       "\n",
       "    .dataframe tbody tr th {\n",
       "        vertical-align: top;\n",
       "    }\n",
       "\n",
       "    .dataframe thead th {\n",
       "        text-align: right;\n",
       "    }\n",
       "</style>\n",
       "<table border=\"1\" class=\"dataframe\">\n",
       "  <thead>\n",
       "    <tr style=\"text-align: right;\">\n",
       "      <th></th>\n",
       "      <th>region_txt</th>\n",
       "      <th>weaptype1_txt</th>\n",
       "      <th>sum</th>\n",
       "    </tr>\n",
       "  </thead>\n",
       "  <tbody>\n",
       "    <tr>\n",
       "      <td>2</td>\n",
       "      <td>Australasia &amp; Oceania</td>\n",
       "      <td>Firearms</td>\n",
       "      <td>120.0</td>\n",
       "    </tr>\n",
       "    <tr>\n",
       "      <td>10</td>\n",
       "      <td>Central America &amp; Caribbean</td>\n",
       "      <td>Firearms</td>\n",
       "      <td>25291.0</td>\n",
       "    </tr>\n",
       "    <tr>\n",
       "      <td>19</td>\n",
       "      <td>Central Asia</td>\n",
       "      <td>Firearms</td>\n",
       "      <td>512.0</td>\n",
       "    </tr>\n",
       "    <tr>\n",
       "      <td>25</td>\n",
       "      <td>East Asia</td>\n",
       "      <td>Explosives</td>\n",
       "      <td>505.0</td>\n",
       "    </tr>\n",
       "    <tr>\n",
       "      <td>36</td>\n",
       "      <td>Eastern Europe</td>\n",
       "      <td>Explosives</td>\n",
       "      <td>4682.0</td>\n",
       "    </tr>\n",
       "    <tr>\n",
       "      <td>47</td>\n",
       "      <td>Middle East &amp; North Africa</td>\n",
       "      <td>Explosives</td>\n",
       "      <td>87517.0</td>\n",
       "    </tr>\n",
       "    <tr>\n",
       "      <td>67</td>\n",
       "      <td>North America</td>\n",
       "      <td>Vehicle (not to include vehicle-borne explosiv...</td>\n",
       "      <td>3016.0</td>\n",
       "    </tr>\n",
       "    <tr>\n",
       "      <td>72</td>\n",
       "      <td>South America</td>\n",
       "      <td>Firearms</td>\n",
       "      <td>20896.0</td>\n",
       "    </tr>\n",
       "    <tr>\n",
       "      <td>81</td>\n",
       "      <td>South Asia</td>\n",
       "      <td>Explosives</td>\n",
       "      <td>43841.0</td>\n",
       "    </tr>\n",
       "    <tr>\n",
       "      <td>93</td>\n",
       "      <td>Southeast Asia</td>\n",
       "      <td>Firearms</td>\n",
       "      <td>9168.0</td>\n",
       "    </tr>\n",
       "    <tr>\n",
       "      <td>103</td>\n",
       "      <td>Sub-Saharan Africa</td>\n",
       "      <td>Firearms</td>\n",
       "      <td>38579.0</td>\n",
       "    </tr>\n",
       "    <tr>\n",
       "      <td>114</td>\n",
       "      <td>Western Europe</td>\n",
       "      <td>Firearms</td>\n",
       "      <td>3428.0</td>\n",
       "    </tr>\n",
       "  </tbody>\n",
       "</table>\n",
       "</div>"
      ],
      "text/plain": [
       "                      region_txt  \\\n",
       "2          Australasia & Oceania   \n",
       "10   Central America & Caribbean   \n",
       "19                  Central Asia   \n",
       "25                     East Asia   \n",
       "36                Eastern Europe   \n",
       "47    Middle East & North Africa   \n",
       "67                 North America   \n",
       "72                 South America   \n",
       "81                    South Asia   \n",
       "93                Southeast Asia   \n",
       "103           Sub-Saharan Africa   \n",
       "114               Western Europe   \n",
       "\n",
       "                                         weaptype1_txt      sum  \n",
       "2                                             Firearms    120.0  \n",
       "10                                            Firearms  25291.0  \n",
       "19                                            Firearms    512.0  \n",
       "25                                          Explosives    505.0  \n",
       "36                                          Explosives   4682.0  \n",
       "47                                          Explosives  87517.0  \n",
       "67   Vehicle (not to include vehicle-borne explosiv...   3016.0  \n",
       "72                                            Firearms  20896.0  \n",
       "81                                          Explosives  43841.0  \n",
       "93                                            Firearms   9168.0  \n",
       "103                                           Firearms  38579.0  \n",
       "114                                           Firearms   3428.0  "
      ]
     },
     "execution_count": 9,
     "metadata": {},
     "output_type": "execute_result"
    }
   ],
   "source": [
    "#'unknown' ma przyjąć wartość taka jak max ilośc wstąpień zbrodni daną bronią w danym regionie\n",
    "ammong=df7.loc[df7.reset_index().groupby(['region_txt'])['sum'].idxmax()]"
   ]
  },
  {
   "cell_type": "code",
   "execution_count": 10,
   "metadata": {},
   "outputs": [],
   "source": [
    "main=pd.Series(ammong.weaptype1_txt.values, index=ammong.region_txt).to_dict()"
   ]
  },
  {
   "cell_type": "code",
   "execution_count": 11,
   "metadata": {},
   "outputs": [
    {
     "data": {
      "text/plain": [
       "{'Australasia & Oceania': 'Firearms',\n",
       " 'Central America & Caribbean': 'Firearms',\n",
       " 'Central Asia': 'Firearms',\n",
       " 'East Asia': 'Explosives',\n",
       " 'Eastern Europe': 'Explosives',\n",
       " 'Middle East & North Africa': 'Explosives',\n",
       " 'North America': 'Vehicle (not to include vehicle-borne explosives, i.e., car or truck bombs)',\n",
       " 'South America': 'Firearms',\n",
       " 'South Asia': 'Explosives',\n",
       " 'Southeast Asia': 'Firearms',\n",
       " 'Sub-Saharan Africa': 'Firearms',\n",
       " 'Western Europe': 'Firearms'}"
      ]
     },
     "execution_count": 11,
     "metadata": {},
     "output_type": "execute_result"
    }
   ],
   "source": [
    "main"
   ]
  },
  {
   "cell_type": "code",
   "execution_count": 14,
   "metadata": {},
   "outputs": [
    {
     "name": "stderr",
     "output_type": "stream",
     "text": [
      "/home/paulina_cieslinska/anaconda3/lib/python3.7/site-packages/ipykernel_launcher.py:1: SettingWithCopyWarning: \n",
      "A value is trying to be set on a copy of a slice from a DataFrame.\n",
      "Try using .loc[row_indexer,col_indexer] = value instead\n",
      "\n",
      "See the caveats in the documentation: http://pandas.pydata.org/pandas-docs/stable/user_guide/indexing.html#returning-a-view-versus-a-copy\n",
      "  \"\"\"Entry point for launching an IPython kernel.\n"
     ]
    }
   ],
   "source": [
    "df5['main_weapon']=df5['region_txt'].map(main)"
   ]
  },
  {
   "cell_type": "code",
   "execution_count": 23,
   "metadata": {},
   "outputs": [],
   "source": [
    "df5.weapon=np.where(df5.weaptype1_txt=='Unknown',df5.main_weapon,df5.weaptype1_txt)"
   ]
  },
  {
   "cell_type": "code",
   "execution_count": 25,
   "metadata": {},
   "outputs": [],
   "source": [
    "df_clean=df5.drop(columns=['weaptype1_txt','main_weapon'])"
   ]
  },
  {
   "cell_type": "code",
   "execution_count": 27,
   "metadata": {},
   "outputs": [],
   "source": [
    "df_clean.to_csv('clean_data.csv')"
   ]
  },
  {
   "cell_type": "markdown",
   "metadata": {},
   "source": [
    "GENERAL DATA MEANING"
   ]
  },
  {
   "cell_type": "code",
   "execution_count": 7,
   "metadata": {},
   "outputs": [],
   "source": [
    "df6=df5[['iyear','nkill']]"
   ]
  },
  {
   "cell_type": "code",
   "execution_count": 40,
   "metadata": {},
   "outputs": [],
   "source": [
    "x=df6.groupby(df4.iyear).count()\n",
    "#set_index(['iyear','nkill']).count(level='iyear')"
   ]
  },
  {
   "cell_type": "code",
   "execution_count": 17,
   "metadata": {
    "scrolled": true
   },
   "outputs": [
    {
     "data": {
      "text/plain": [
       "Text(0.5, 1.0, 'ilość wystąpień')"
      ]
     },
     "execution_count": 17,
     "metadata": {},
     "output_type": "execute_result"
    },
    {
     "data": {
      "image/png": "[encoded data removed]",
      "text/plain": [
       "<Figure size 432x288 with 1 Axes>"
      ]
     },
     "metadata": {
      "needs_background": "light"
     },
     "output_type": "display_data"
    }
   ],
   "source": [
    "plt.plot(x)\n",
    "plt.title('ilość wystąpień')"
   ]
  },
  {
   "cell_type": "code",
   "execution_count": 20,
   "metadata": {},
   "outputs": [
    {
     "data": {
      "text/plain": [
       "<matplotlib.axes._subplots.AxesSubplot at 0x7f3b644bd210>"
      ]
     },
     "execution_count": 20,
     "metadata": {},
     "output_type": "execute_result"
    },
    {
     "data": {
      "image/png": "[encoded data removed]",
      "text/plain": [
       "<Figure size 432x288 with 1 Axes>"
      ]
     },
     "metadata": {
      "needs_background": "light"
     },
     "output_type": "display_data"
    }
   ],
   "source": [
    "def colors_from_values(values, palette_name):\n",
    "    # normalize the values to range [0, 1]\n",
    "    normalized = (values - min(values)) / (max(values) - min(values))\n",
    "    # convert to indices\n",
    "    indices = np.round(normalized * (len(values) - 1)).astype(np.int32)\n",
    "    # use the indices to get the colors\n",
    "    palette = sns.color_palette(palette_name, len(values))\n",
    "    return np.array(palette).take(indices, axis=0)\n",
    "\n",
    "\n",
    "x_x= df4.iyear\n",
    "y_y = df4.nkill\n",
    "sns.barplot(x, y, palette=colors_from_values(y, \"YlOrRd\"))"
   ]
  },
  {
   "cell_type": "code",
   "execution_count": null,
   "metadata": {},
   "outputs": [],
   "source": [
    "import seaborn as sns\n",
    "#fig, ax = plt.subplots(figsize=(15,5))\n",
    "\n",
    "cm = plt.cm.get_cmap('RdYlBu_r')\n",
    "\n",
    "n, bins, patches = plt.hist(df4.nkill,25, normed=1)\n",
    "# To normalize your values\n",
    "col = (n-n.min())/(n.max()-n.min())\n",
    "for c, p in zip(col, patches):\n",
    "    plt.setp(p, 'facecolor', cm(c))\n",
    "\n",
    "\n",
    "# sns.countplot(df4.iyear,palette=colors_from_values(df4.nkill, \"YlOrRd\"),ax=ax)\n",
    "# plt.xticks(rotation=90)\n",
    "# plt.title('ilość wystąpień')"
   ]
  },
  {
   "cell_type": "code",
   "execution_count": 42,
   "metadata": {},
   "outputs": [],
   "source": [
    "y=df3.groupby(df3.iyear)['nkill'].sum(axis=1)"
   ]
  },
  {
   "cell_type": "code",
   "execution_count": 26,
   "metadata": {},
   "outputs": [
    {
     "data": {
      "text/plain": [
       "Text(0.5, 1.0, 'ilość ofiar')"
      ]
     },
     "execution_count": 26,
     "metadata": {},
     "output_type": "execute_result"
    },
    {
     "data": {
      "image/png": "[encoded data removed]",
      "text/plain": [
       "<Figure size 432x288 with 1 Axes>"
      ]
     },
     "metadata": {
      "needs_background": "light"
     },
     "output_type": "display_data"
    }
   ],
   "source": [
    "plt.plot(y)\n",
    "plt.title('ilość ofiar')"
   ]
  },
  {
   "cell_type": "code",
   "execution_count": 44,
   "metadata": {},
   "outputs": [],
   "source": [
    "z=x.merge(y, left_on='iyear', right_on='iyear')"
   ]
  },
  {
   "cell_type": "code",
   "execution_count": 45,
   "metadata": {},
   "outputs": [],
   "source": [
    "z['ile_os_avg']=z.nkill_y/z.nkill_x"
   ]
  },
  {
   "cell_type": "code",
   "execution_count": 46,
   "metadata": {},
   "outputs": [
    {
     "data": {
      "text/plain": [
       "Text(0.5, 1.0, 'średia ilość ofiar na akt terorryzmu')"
      ]
     },
     "execution_count": 46,
     "metadata": {},
     "output_type": "execute_result"
    },
    {
     "data": {
      "image/png": "[encoded data removed]",
      "text/plain": [
       "<Figure size 432x288 with 1 Axes>"
      ]
     },
     "metadata": {
      "needs_background": "light"
     },
     "output_type": "display_data"
    }
   ],
   "source": [
    "x=z.index.values\n",
    "y=z.ile_os_avg\n",
    "plt.plot(x,y)\n",
    "plt.title('średia ilość ofiar na akt terorryzmu')"
   ]
  },
  {
   "cell_type": "code",
   "execution_count": 49,
   "metadata": {
    "collapsed": true
   },
   "outputs": [
    {
     "data": {
      "text/plain": [
       "[0.0,\n",
       " 1.0,\n",
       " 2.0,\n",
       " 3.0,\n",
       " 4.0,\n",
       " 5.0,\n",
       " 6.0,\n",
       " 7.0,\n",
       " 8.0,\n",
       " 9.0,\n",
       " 10.0,\n",
       " 11.0,\n",
       " 12.0,\n",
       " 13.0,\n",
       " 14.0,\n",
       " 15.0,\n",
       " 16.0,\n",
       " 17.0,\n",
       " 18.0,\n",
       " 19.0,\n",
       " 20.0,\n",
       " 21.0,\n",
       " 22.0,\n",
       " 23.0,\n",
       " 24.0,\n",
       " 25.0,\n",
       " 26.0,\n",
       " 27.0,\n",
       " 28.0,\n",
       " 29.0,\n",
       " 30.0,\n",
       " 31.0,\n",
       " 32.0,\n",
       " 33.0,\n",
       " 34.0,\n",
       " 35.0,\n",
       " 36.0,\n",
       " 37.0,\n",
       " 38.0,\n",
       " 39.0,\n",
       " 40.0,\n",
       " 41.0,\n",
       " 42.0,\n",
       " 43.0,\n",
       " 44.0,\n",
       " 45.0,\n",
       " 46.0,\n",
       " 47.0,\n",
       " 48.0,\n",
       " 49.0,\n",
       " 50.0,\n",
       " 51.0,\n",
       " 52.0,\n",
       " 53.0,\n",
       " 54.0,\n",
       " 55.0,\n",
       " 56.0,\n",
       " 57.0,\n",
       " 58.0,\n",
       " 59.0,\n",
       " 60.0,\n",
       " 61.0,\n",
       " 62.0,\n",
       " 63.0,\n",
       " 64.0,\n",
       " 65.0,\n",
       " 66.0,\n",
       " 67.0,\n",
       " 68.0,\n",
       " 69.0,\n",
       " 70.0,\n",
       " 71.0,\n",
       " 72.0,\n",
       " 73.0,\n",
       " 74.0,\n",
       " 75.0,\n",
       " 76.0,\n",
       " 77.0,\n",
       " 78.0,\n",
       " 79.0,\n",
       " 80.0,\n",
       " 81.0,\n",
       " 82.0,\n",
       " 83.0,\n",
       " 84.0,\n",
       " 85.0,\n",
       " 86.0,\n",
       " 87.0,\n",
       " 88.0,\n",
       " 89.0,\n",
       " 90.0,\n",
       " 91.0,\n",
       " 92.0,\n",
       " 93.0,\n",
       " 94.0,\n",
       " 95.0,\n",
       " 96.0,\n",
       " 97.0,\n",
       " 98.0,\n",
       " 100.0,\n",
       " 101.0,\n",
       " 102.0,\n",
       " 103.0,\n",
       " 104.0,\n",
       " 105.0,\n",
       " 106.0,\n",
       " 107.0,\n",
       " 108.0,\n",
       " 109.0,\n",
       " 110.0,\n",
       " 111.0,\n",
       " 112.0,\n",
       " 114.0,\n",
       " 115.0,\n",
       " 116.0,\n",
       " 117.0,\n",
       " 118.0,\n",
       " 119.0,\n",
       " 120.0,\n",
       " 121.0,\n",
       " 122.0,\n",
       " 123.0,\n",
       " 124.0,\n",
       " 126.0,\n",
       " 127.0,\n",
       " 128.0,\n",
       " 129.0,\n",
       " 130.0,\n",
       " 132.0,\n",
       " 133.0,\n",
       " 134.0,\n",
       " 135.0,\n",
       " 136.0,\n",
       " 140.0,\n",
       " 141.0,\n",
       " 142.0,\n",
       " 143.0,\n",
       " 144.0,\n",
       " 145.0,\n",
       " 146.0,\n",
       " 150.0,\n",
       " 151.0,\n",
       " 152.0,\n",
       " 153.0,\n",
       " 154.0,\n",
       " 1180.0,\n",
       " 670.0,\n",
       " 158.0,\n",
       " 160.0,\n",
       " 163.0,\n",
       " 165.0,\n",
       " 168.0,\n",
       " 170.0,\n",
       " 171.0,\n",
       " 174.0,\n",
       " 180.0,\n",
       " 184.0,\n",
       " 188.0,\n",
       " 190.0,\n",
       " 200.0,\n",
       " 201.0,\n",
       " 205.0,\n",
       " 206.0,\n",
       " 208.0,\n",
       " 210.0,\n",
       " 517.0,\n",
       " 212.0,\n",
       " 1570.0,\n",
       " 224.0,\n",
       " 227.0,\n",
       " 228.0,\n",
       " 230.0,\n",
       " 518.0,\n",
       " 240.0,\n",
       " 241.0,\n",
       " 250.0,\n",
       " 256.0,\n",
       " 259.0,\n",
       " 266.0,\n",
       " 270.0,\n",
       " 271.0,\n",
       " 275.0,\n",
       " 280.0,\n",
       " 283.0,\n",
       " 284.0,\n",
       " 287.0,\n",
       " 298.0,\n",
       " 300.0,\n",
       " 304.0,\n",
       " 310.0,\n",
       " 311.0,\n",
       " 315.0,\n",
       " 320.0,\n",
       " 329.0,\n",
       " 344.0,\n",
       " 1383.0,\n",
       " 1384.0,\n",
       " 375.0,\n",
       " 383.0,\n",
       " 388.0,\n",
       " 588.0,\n",
       " 400.0,\n",
       " 422.0,\n",
       " 433.0,\n",
       " 953.0]"
      ]
     },
     "execution_count": 49,
     "metadata": {},
     "output_type": "execute_result"
    }
   ],
   "source": [
    "lista=df3.nkill.values\n",
    "list(set(lista))"
   ]
  },
  {
   "cell_type": "code",
   "execution_count": 50,
   "metadata": {},
   "outputs": [],
   "source": [
    "#tabela bazowa do użycia to  df3"
   ]
  },
  {
   "cell_type": "code",
   "execution_count": 47,
   "metadata": {
    "scrolled": true
   },
   "outputs": [
    {
     "name": "stdout",
     "output_type": "stream",
     "text": [
      "10 years with the biggest number of death\n",
      "         nkill\n",
      "iyear         \n",
      "2014   44221.0\n",
      "2015   38731.0\n",
      "2016   34702.0\n",
      "2017   26277.0\n",
      "2013   22158.0\n",
      "2012   15369.0\n",
      "2007   12787.0\n",
      "1997   10805.0\n",
      "1984   10445.0\n",
      "1992    9570.0\n",
      "10 years with the biggest number of death in divided by category\n",
      "                                     nkill\n",
      "iyear targtype1_txt                       \n",
      "2014  Private Citizens & Property  16567.0\n",
      "2016  Private Citizens & Property  13172.0\n",
      "2015  Private Citizens & Property  12951.0\n",
      "2014  Military                     12613.0\n",
      "2015  Military                     12021.0\n",
      "2016  Military                     10463.0\n",
      "2017  Military                      8524.0\n",
      "      Private Citizens & Property   7228.0\n",
      "1997  Private Citizens & Property   6646.0\n",
      "2014  Police                        6173.0\n"
     ]
    }
   ],
   "source": [
    "#analiza ilości zdarzeń w zależności od roku wystapienia\n",
    "print('10 years with the biggest number of death')\n",
    "rok=df3.groupby(df3.iyear)['nkill'].sum()\n",
    "rok2=pd.DataFrame(rok)\n",
    "sort=rok2.sort_values('nkill',axis= 0 ,ascending=False)\n",
    "rok_nkill=sort.head(10)\n",
    "print(rok_nkill)\n",
    "\n",
    "print('10 years with the biggest number of death in divided by category')\n",
    "rok_target=df3.groupby(['iyear','targtype1_txt'])['nkill'].sum()\n",
    "rok_target2=pd.DataFrame(rok_target)\n",
    "sort_target=rok_target2.sort_values('nkill',axis= 0 ,ascending=False)\n",
    "rok_targett=sort_target.head(10)\n",
    "print(rok_targett)"
   ]
  },
  {
   "cell_type": "code",
   "execution_count": 146,
   "metadata": {
    "scrolled": true
   },
   "outputs": [
    {
     "data": {
      "text/plain": [
       "<matplotlib.axes._subplots.AxesSubplot at 0x7fbcd07d29d0>"
      ]
     },
     "execution_count": 146,
     "metadata": {},
     "output_type": "execute_result"
    },
    {
     "data": {
      "image/png": "[encoded data removed]",
      "text/plain": [
       "<Figure size 432x288 with 1 Axes>"
      ]
     },
     "metadata": {
      "needs_background": "light"
     },
     "output_type": "display_data"
    }
   ],
   "source": [
    "#których zamachów było sumarycznie najwięcej w przeciągu 1970-2017\n",
    "sum_target=df3.groupby(df3.targtype1_txt)['nkill'].sum()\n",
    "sum_target.plot.bar()\n",
    "# rok2=pd.DataFrame(rok)\n",
    "# sort=rok2.sort_values('nkill',axis= 0 ,ascending=False)\n",
    "# rok_nkill=sort.head(10)\n",
    "# print(rok_nkill)"
   ]
  },
  {
   "cell_type": "code",
   "execution_count": 125,
   "metadata": {
    "collapsed": true
   },
   "outputs": [
    {
     "ename": "AttributeError",
     "evalue": "'numpy.ndarray' object has no attribute 'get_figure'",
     "output_type": "error",
     "traceback": [
      "\u001b[0;31m---------------------------------------------------------------------------\u001b[0m",
      "\u001b[0;31mAttributeError\u001b[0m                            Traceback (most recent call last)",
      "\u001b[0;32m<ipython-input-125-06cda850518e>\u001b[0m in \u001b[0;36m<module>\u001b[0;34m\u001b[0m\n\u001b[1;32m      1\u001b[0m \u001b[0mfig\u001b[0m\u001b[0;34m,\u001b[0m\u001b[0maxes\u001b[0m\u001b[0;34m=\u001b[0m\u001b[0mplt\u001b[0m\u001b[0;34m.\u001b[0m\u001b[0msubplots\u001b[0m\u001b[0;34m(\u001b[0m\u001b[0mnrows\u001b[0m\u001b[0;34m=\u001b[0m\u001b[0;36m1\u001b[0m\u001b[0;34m,\u001b[0m\u001b[0mncols\u001b[0m\u001b[0;34m=\u001b[0m\u001b[0;36m2\u001b[0m\u001b[0;34m)\u001b[0m\u001b[0;34m\u001b[0m\u001b[0;34m\u001b[0m\u001b[0m\n\u001b[1;32m      2\u001b[0m \u001b[0max1\u001b[0m\u001b[0;34m,\u001b[0m\u001b[0max2\u001b[0m \u001b[0;34m=\u001b[0m \u001b[0maxes\u001b[0m\u001b[0;34m.\u001b[0m\u001b[0mravel\u001b[0m\u001b[0;34m(\u001b[0m\u001b[0;34m)\u001b[0m\u001b[0;34m\u001b[0m\u001b[0;34m\u001b[0m\u001b[0m\n\u001b[0;32m----> 3\u001b[0;31m \u001b[0mrok_nkill\u001b[0m\u001b[0;34m.\u001b[0m\u001b[0mplot\u001b[0m\u001b[0;34m(\u001b[0m\u001b[0mkind\u001b[0m\u001b[0;34m=\u001b[0m\u001b[0;34m'bar'\u001b[0m\u001b[0;34m,\u001b[0m \u001b[0max\u001b[0m\u001b[0;34m=\u001b[0m\u001b[0maxes\u001b[0m\u001b[0;34m,\u001b[0m\u001b[0malpha\u001b[0m\u001b[0;34m=\u001b[0m\u001b[0;36m0.75\u001b[0m\u001b[0;34m,\u001b[0m\u001b[0mtitle\u001b[0m\u001b[0;34m=\u001b[0m\u001b[0;34m'Bar Plot'\u001b[0m\u001b[0;34m)\u001b[0m\u001b[0;34m\u001b[0m\u001b[0;34m\u001b[0m\u001b[0m\n\u001b[0m\u001b[1;32m      4\u001b[0m \u001b[0mplt\u001b[0m\u001b[0;34m.\u001b[0m\u001b[0msetp\u001b[0m\u001b[0;34m(\u001b[0m\u001b[0max1\u001b[0m\u001b[0;34m.\u001b[0m\u001b[0mget_xticklabels\u001b[0m\u001b[0;34m(\u001b[0m\u001b[0;34m)\u001b[0m\u001b[0;34m,\u001b[0m\u001b[0mrotation\u001b[0m\u001b[0;34m=\u001b[0m\u001b[0;36m45\u001b[0m\u001b[0;34m,\u001b[0m\u001b[0mfontsize\u001b[0m\u001b[0;34m=\u001b[0m\u001b[0;36m10\u001b[0m\u001b[0;34m)\u001b[0m\u001b[0;34m\u001b[0m\u001b[0;34m\u001b[0m\u001b[0m\n\u001b[1;32m      5\u001b[0m \u001b[0mplt\u001b[0m\u001b[0;34m.\u001b[0m\u001b[0msetp\u001b[0m\u001b[0;34m(\u001b[0m\u001b[0max1\u001b[0m\u001b[0;34m.\u001b[0m\u001b[0mget_yticklabels\u001b[0m\u001b[0;34m(\u001b[0m\u001b[0;34m)\u001b[0m\u001b[0;34m,\u001b[0m\u001b[0mrotation\u001b[0m\u001b[0;34m=\u001b[0m\u001b[0;36m0\u001b[0m\u001b[0;34m,\u001b[0m\u001b[0mfontsize\u001b[0m\u001b[0;34m=\u001b[0m\u001b[0;36m10\u001b[0m\u001b[0;34m)\u001b[0m\u001b[0;34m\u001b[0m\u001b[0;34m\u001b[0m\u001b[0m\n",
      "\u001b[0;32m~/anaconda3/lib/python3.7/site-packages/pandas/plotting/_core.py\u001b[0m in \u001b[0;36m__call__\u001b[0;34m(self, *args, **kwargs)\u001b[0m\n\u001b[1;32m    792\u001b[0m                     \u001b[0mdata\u001b[0m\u001b[0;34m.\u001b[0m\u001b[0mcolumns\u001b[0m \u001b[0;34m=\u001b[0m \u001b[0mlabel_name\u001b[0m\u001b[0;34m\u001b[0m\u001b[0;34m\u001b[0m\u001b[0m\n\u001b[1;32m    793\u001b[0m \u001b[0;34m\u001b[0m\u001b[0m\n\u001b[0;32m--> 794\u001b[0;31m         \u001b[0;32mreturn\u001b[0m \u001b[0mplot_backend\u001b[0m\u001b[0;34m.\u001b[0m\u001b[0mplot\u001b[0m\u001b[0;34m(\u001b[0m\u001b[0mdata\u001b[0m\u001b[0;34m,\u001b[0m \u001b[0mkind\u001b[0m\u001b[0;34m=\u001b[0m\u001b[0mkind\u001b[0m\u001b[0;34m,\u001b[0m \u001b[0;34m**\u001b[0m\u001b[0mkwargs\u001b[0m\u001b[0;34m)\u001b[0m\u001b[0;34m\u001b[0m\u001b[0;34m\u001b[0m\u001b[0m\n\u001b[0m\u001b[1;32m    795\u001b[0m \u001b[0;34m\u001b[0m\u001b[0m\n\u001b[1;32m    796\u001b[0m     \u001b[0;32mdef\u001b[0m \u001b[0mline\u001b[0m\u001b[0;34m(\u001b[0m\u001b[0mself\u001b[0m\u001b[0;34m,\u001b[0m \u001b[0mx\u001b[0m\u001b[0;34m=\u001b[0m\u001b[0;32mNone\u001b[0m\u001b[0;34m,\u001b[0m \u001b[0my\u001b[0m\u001b[0;34m=\u001b[0m\u001b[0;32mNone\u001b[0m\u001b[0;34m,\u001b[0m \u001b[0;34m**\u001b[0m\u001b[0mkwargs\u001b[0m\u001b[0;34m)\u001b[0m\u001b[0;34m:\u001b[0m\u001b[0;34m\u001b[0m\u001b[0;34m\u001b[0m\u001b[0m\n",
      "\u001b[0;32m~/anaconda3/lib/python3.7/site-packages/pandas/plotting/_matplotlib/__init__.py\u001b[0m in \u001b[0;36mplot\u001b[0;34m(data, kind, **kwargs)\u001b[0m\n\u001b[1;32m     60\u001b[0m             \u001b[0mkwargs\u001b[0m\u001b[0;34m[\u001b[0m\u001b[0;34m\"ax\"\u001b[0m\u001b[0;34m]\u001b[0m \u001b[0;34m=\u001b[0m \u001b[0mgetattr\u001b[0m\u001b[0;34m(\u001b[0m\u001b[0max\u001b[0m\u001b[0;34m,\u001b[0m \u001b[0;34m\"left_ax\"\u001b[0m\u001b[0;34m,\u001b[0m \u001b[0max\u001b[0m\u001b[0;34m)\u001b[0m\u001b[0;34m\u001b[0m\u001b[0;34m\u001b[0m\u001b[0m\n\u001b[1;32m     61\u001b[0m     \u001b[0mplot_obj\u001b[0m \u001b[0;34m=\u001b[0m \u001b[0mPLOT_CLASSES\u001b[0m\u001b[0;34m[\u001b[0m\u001b[0mkind\u001b[0m\u001b[0;34m]\u001b[0m\u001b[0;34m(\u001b[0m\u001b[0mdata\u001b[0m\u001b[0;34m,\u001b[0m \u001b[0;34m**\u001b[0m\u001b[0mkwargs\u001b[0m\u001b[0;34m)\u001b[0m\u001b[0;34m\u001b[0m\u001b[0;34m\u001b[0m\u001b[0m\n\u001b[0;32m---> 62\u001b[0;31m     \u001b[0mplot_obj\u001b[0m\u001b[0;34m.\u001b[0m\u001b[0mgenerate\u001b[0m\u001b[0;34m(\u001b[0m\u001b[0;34m)\u001b[0m\u001b[0;34m\u001b[0m\u001b[0;34m\u001b[0m\u001b[0m\n\u001b[0m\u001b[1;32m     63\u001b[0m     \u001b[0mplot_obj\u001b[0m\u001b[0;34m.\u001b[0m\u001b[0mdraw\u001b[0m\u001b[0;34m(\u001b[0m\u001b[0;34m)\u001b[0m\u001b[0;34m\u001b[0m\u001b[0;34m\u001b[0m\u001b[0m\n\u001b[1;32m     64\u001b[0m     \u001b[0;32mreturn\u001b[0m \u001b[0mplot_obj\u001b[0m\u001b[0;34m.\u001b[0m\u001b[0mresult\u001b[0m\u001b[0;34m\u001b[0m\u001b[0;34m\u001b[0m\u001b[0m\n",
      "\u001b[0;32m~/anaconda3/lib/python3.7/site-packages/pandas/plotting/_matplotlib/core.py\u001b[0m in \u001b[0;36mgenerate\u001b[0;34m(self)\u001b[0m\n\u001b[1;32m    278\u001b[0m         \u001b[0mself\u001b[0m\u001b[0;34m.\u001b[0m\u001b[0m_args_adjust\u001b[0m\u001b[0;34m(\u001b[0m\u001b[0;34m)\u001b[0m\u001b[0;34m\u001b[0m\u001b[0;34m\u001b[0m\u001b[0m\n\u001b[1;32m    279\u001b[0m         \u001b[0mself\u001b[0m\u001b[0;34m.\u001b[0m\u001b[0m_compute_plot_data\u001b[0m\u001b[0;34m(\u001b[0m\u001b[0;34m)\u001b[0m\u001b[0;34m\u001b[0m\u001b[0;34m\u001b[0m\u001b[0m\n\u001b[0;32m--> 280\u001b[0;31m         \u001b[0mself\u001b[0m\u001b[0;34m.\u001b[0m\u001b[0m_setup_subplots\u001b[0m\u001b[0;34m(\u001b[0m\u001b[0;34m)\u001b[0m\u001b[0;34m\u001b[0m\u001b[0;34m\u001b[0m\u001b[0m\n\u001b[0m\u001b[1;32m    281\u001b[0m         \u001b[0mself\u001b[0m\u001b[0;34m.\u001b[0m\u001b[0m_make_plot\u001b[0m\u001b[0;34m(\u001b[0m\u001b[0;34m)\u001b[0m\u001b[0;34m\u001b[0m\u001b[0;34m\u001b[0m\u001b[0m\n\u001b[1;32m    282\u001b[0m         \u001b[0mself\u001b[0m\u001b[0;34m.\u001b[0m\u001b[0m_add_table\u001b[0m\u001b[0;34m(\u001b[0m\u001b[0;34m)\u001b[0m\u001b[0;34m\u001b[0m\u001b[0;34m\u001b[0m\u001b[0m\n",
      "\u001b[0;32m~/anaconda3/lib/python3.7/site-packages/pandas/plotting/_matplotlib/core.py\u001b[0m in \u001b[0;36m_setup_subplots\u001b[0;34m(self)\u001b[0m\n\u001b[1;32m    339\u001b[0m                 \u001b[0maxes\u001b[0m \u001b[0;34m=\u001b[0m \u001b[0mfig\u001b[0m\u001b[0;34m.\u001b[0m\u001b[0madd_subplot\u001b[0m\u001b[0;34m(\u001b[0m\u001b[0;36m111\u001b[0m\u001b[0;34m)\u001b[0m\u001b[0;34m\u001b[0m\u001b[0;34m\u001b[0m\u001b[0m\n\u001b[1;32m    340\u001b[0m             \u001b[0;32melse\u001b[0m\u001b[0;34m:\u001b[0m\u001b[0;34m\u001b[0m\u001b[0;34m\u001b[0m\u001b[0m\n\u001b[0;32m--> 341\u001b[0;31m                 \u001b[0mfig\u001b[0m \u001b[0;34m=\u001b[0m \u001b[0mself\u001b[0m\u001b[0;34m.\u001b[0m\u001b[0max\u001b[0m\u001b[0;34m.\u001b[0m\u001b[0mget_figure\u001b[0m\u001b[0;34m(\u001b[0m\u001b[0;34m)\u001b[0m\u001b[0;34m\u001b[0m\u001b[0;34m\u001b[0m\u001b[0m\n\u001b[0m\u001b[1;32m    342\u001b[0m                 \u001b[0;32mif\u001b[0m \u001b[0mself\u001b[0m\u001b[0;34m.\u001b[0m\u001b[0mfigsize\u001b[0m \u001b[0;32mis\u001b[0m \u001b[0;32mnot\u001b[0m \u001b[0;32mNone\u001b[0m\u001b[0;34m:\u001b[0m\u001b[0;34m\u001b[0m\u001b[0;34m\u001b[0m\u001b[0m\n\u001b[1;32m    343\u001b[0m                     \u001b[0mfig\u001b[0m\u001b[0;34m.\u001b[0m\u001b[0mset_size_inches\u001b[0m\u001b[0;34m(\u001b[0m\u001b[0mself\u001b[0m\u001b[0;34m.\u001b[0m\u001b[0mfigsize\u001b[0m\u001b[0;34m)\u001b[0m\u001b[0;34m\u001b[0m\u001b[0;34m\u001b[0m\u001b[0m\n",
      "\u001b[0;31mAttributeError\u001b[0m: 'numpy.ndarray' object has no attribute 'get_figure'"
     ]
    },
    {
     "data": {
      "image/png": "[encoded data removed]",
      "text/plain": [
       "<Figure size 432x288 with 2 Axes>"
      ]
     },
     "metadata": {
      "needs_background": "light"
     },
     "output_type": "display_data"
    }
   ],
   "source": [
    "#histogram opisująvy rok_nkill,rok_targett\n",
    "fig,axes=plt.subplots(nrows=1,ncols=2)\n",
    "ax1,ax2 = axes.ravel()\n",
    "rok_nkill.plot(kind='bar', ax=axes,alpha=0.75,title='Bar Plot')\n",
    "plt.setp(ax1.get_xticklabels(),rotation=45,fontsize=10)\n",
    "plt.setp(ax1.get_yticklabels(),rotation=0,fontsize=10)\n",
    "ax1.set_xlabel('years')\n",
    "ax1.set_ylabel('nkills')\n",
    "ax1.xaxis.set_ticks_position('bottom')\n",
    "ax1.yaxis.set_ticks_position('left')"
   ]
  },
  {
   "cell_type": "code",
   "execution_count": 71,
   "metadata": {},
   "outputs": [
    {
     "data": {
      "text/plain": [
       "imonth\n",
       "1     31126.0\n",
       "2     30384.0\n",
       "3     31278.0\n",
       "4     34478.0\n",
       "5     37047.0\n",
       "6     37818.0\n",
       "7     38330.0\n",
       "8     38035.0\n",
       "9     34112.0\n",
       "10    34970.0\n",
       "11    30839.0\n",
       "12    30804.0\n",
       "Name: nkill, dtype: float64"
      ]
     },
     "execution_count": 71,
     "metadata": {},
     "output_type": "execute_result"
    }
   ],
   "source": [
    "#analiza ilości zdarzeń w zależności od miesiąca wystąpineia\n",
    "month=df6.drop(columns=['iyear'])\n",
    "month2=month.groupby(df6.imonth)['nkill'].sum()\n",
    "month2\n",
    "#nie czyta wh tych m-cy jako zmienna liczbowa mimo tgo ze jest to int64 trzeba wyrzucić daane dla m-ca =0\n",
    "#month0=df3[(df3.imonth==0)]"
   ]
  },
  {
   "cell_type": "code",
   "execution_count": 77,
   "metadata": {},
   "outputs": [
    {
     "name": "stdout",
     "output_type": "stream",
     "text": [
      "                                      nkill\n",
      "imonth targtype1_txt                       \n",
      "8      Private Citizens & Property  13807.0\n",
      "9      Private Citizens & Property  13516.0\n",
      "7      Private Citizens & Property  12830.0\n",
      "5      Private Citizens & Property  12259.0\n",
      "4      Private Citizens & Property  11933.0\n",
      "6      Private Citizens & Property  11346.0\n",
      "12     Private Citizens & Property  11311.0\n",
      "10     Private Citizens & Property  11237.0\n",
      "3      Private Citizens & Property  10779.0\n",
      "6      Military                     10618.0\n"
     ]
    }
   ],
   "source": [
    "month_target=month.groupby(['imonth','targtype1_txt'])['nkill'].sum()\n",
    "month_target2=pd.DataFrame(month_target)\n",
    "sort_target_m=month_target2.sort_values('nkill',axis= 0 ,ascending=False)\n",
    "sort_targett_m=sort_target_m.head(10)\n",
    "print(sort_targett_m)"
   ]
  },
  {
   "cell_type": "code",
   "execution_count": 78,
   "metadata": {},
   "outputs": [
    {
     "data": {
      "text/plain": [
       "<matplotlib.legend.Legend at 0x7f3ac5579250>"
      ]
     },
     "execution_count": 78,
     "metadata": {},
     "output_type": "execute_result"
    },
    {
     "data": {
      "image/png": "[encoded data removed]",
      "text/plain": [
       "<Figure size 1080x576 with 1 Axes>"
      ]
     },
     "metadata": {},
     "output_type": "display_data"
    }
   ],
   "source": [
    "sns.set(style=\"whitegrid\")\n",
    "grahp=pd.crosstab(df6.region_txt,df6.targtype1_txt).plot.barh(stacked=True,width=1,color=sns.color_palette('inferno'),legend=True)\n",
    "fig=plt.gcf()\n",
    "fig.set_size_inches(15,8)\n",
    "plt.legend(bbox_to_anchor=(1.05, 1), loc=2, borderaxespad=0.)\n",
    "#grahp.despine(left=True)\n",
    "#plt.legend(loc='upper left')\n",
    "#graph.set_ylabels(\"survival probability\")"
   ]
  },
  {
   "cell_type": "code",
   "execution_count": 74,
   "metadata": {},
   "outputs": [
    {
     "data": {
      "text/plain": [
       "array(['Unknown', 'Firearms', 'Explosives', 'Incendiary', 'Chemical',\n",
       "       'Melee', 'Sabotage Equipment',\n",
       "       'Vehicle (not to include vehicle-borne explosives, i.e., car or truck bombs)',\n",
       "       'Fake Weapons', 'Radiological', 'Other', 'Biological'],\n",
       "      dtype=object)"
      ]
     },
     "execution_count": 74,
     "metadata": {},
     "output_type": "execute_result"
    }
   ],
   "source": [
    "df6.weaptype1_txt.uniqueue()"
   ]
  },
  {
   "cell_type": "code",
   "execution_count": 75,
   "metadata": {},
   "outputs": [
    {
     "data": {
      "text/plain": [
       "iyear              12650\n",
       "imonth             12650\n",
       "iday               12650\n",
       "country_txt        12650\n",
       "region_txt         12650\n",
       "city               12650\n",
       "attacktype1        12650\n",
       "attacktype1_txt    12650\n",
       "targtype1          12650\n",
       "targtype1_txt      12650\n",
       "weaptype1_txt      12650\n",
       "nkill              12650\n",
       "natlty1_txt        12650\n",
       "dtype: int64"
      ]
     },
     "execution_count": 75,
     "metadata": {},
     "output_type": "execute_result"
    }
   ],
   "source": [
    "df6[df6.weaptype1_txt=='Unknown'].count()"
   ]
  },
  {
   "cell_type": "code",
   "execution_count": 82,
   "metadata": {},
   "outputs": [
    {
     "name": "stdout",
     "output_type": "stream",
     "text": [
      "                                                                                  nkill\n",
      "region_txt                  weaptype1_txt                                              \n",
      "Middle East & North Africa  Explosives                                          87517.0\n",
      "South Asia                  Explosives                                          43841.0\n",
      "                            Firearms                                            43682.0\n",
      "Sub-Saharan Africa          Firearms                                            38579.0\n",
      "Middle East & North Africa  Firearms                                            28969.0\n",
      "Central America & Caribbean Firearms                                            25291.0\n",
      "Sub-Saharan Africa          Explosives                                          22202.0\n",
      "South America               Firearms                                            20896.0\n",
      "Middle East & North Africa  Unknown                                             14996.0\n",
      "Sub-Saharan Africa          Unknown                                             11072.0\n",
      "South Asia                  Unknown                                              9661.0\n",
      "Southeast Asia              Firearms                                             9168.0\n",
      "Eastern Europe              Explosives                                           4682.0\n",
      "Middle East & North Africa  Melee                                                4564.0\n",
      "South America               Explosives                                           4392.0\n",
      "Southeast Asia              Explosives                                           4130.0\n",
      "Western Europe              Firearms                                             3428.0\n",
      "North America               Vehicle (not to include vehicle-borne explosive...   3016.0\n",
      "Sub-Saharan Africa          Melee                                                2961.0\n",
      "South America               Unknown                                              2862.0\n",
      "Sub-Saharan Africa          Incendiary                                           2849.0\n",
      "Western Europe              Explosives                                           2756.0\n",
      "Eastern Europe              Firearms                                             2168.0\n",
      "Central America & Caribbean Explosives                                           1848.0\n",
      "South Asia                  Melee                                                1604.0\n",
      "Southeast Asia              Unknown                                              1590.0\n",
      "Central America & Caribbean Unknown                                              1311.0\n",
      "North America               Firearms                                             1154.0\n",
      "South Asia                  Incendiary                                           1002.0\n",
      "Middle East & North Africa  Incendiary                                            958.0\n",
      "North America               Explosives                                            601.0\n",
      "Central Asia                Firearms                                              512.0\n",
      "East Asia                   Explosives                                            505.0\n",
      "                            Melee                                                 484.0\n",
      "Eastern Europe              Unknown                                               482.0\n",
      "Central Asia                Explosives                                            369.0\n",
      "South America               Melee                                                 341.0\n",
      "Sub-Saharan Africa          Chemical                                              264.0\n",
      "Southeast Asia              Melee                                                 244.0\n",
      "Western Europe              Unknown                                               226.0\n",
      "Middle East & North Africa  Chemical                                              181.0\n",
      "Southeast Asia              Incendiary                                            173.0\n",
      "South America               Incendiary                                            167.0\n",
      "Western Europe              Melee                                                 133.0\n",
      "Central America & Caribbean Melee                                                 127.0\n",
      "Australasia & Oceania       Firearms                                              120.0\n",
      "East Asia                   Incendiary                                             84.0\n",
      "Western Europe              Incendiary                                             83.0\n",
      "Middle East & North Africa  Other                                                  82.0\n",
      "Central Asia                Unknown                                                79.0\n",
      "Middle East & North Africa  Vehicle (not to include vehicle-borne explosive...     76.0\n",
      "South America               Chemical                                               75.0\n",
      "Central America & Caribbean Incendiary                                             70.0\n",
      "North America               Incendiary                                             61.0\n",
      "South Asia                  Sabotage Equipment                                     59.0\n",
      "Western Europe              Vehicle (not to include vehicle-borne explosive...     40.0\n",
      "North America               Unknown                                                39.0\n",
      "                            Melee                                                  34.0\n",
      "East Asia                   Firearms                                               32.0\n",
      "Eastern Europe              Melee                                                  29.0\n",
      "South Asia                  Chemical                                               27.0\n",
      "Central Asia                Chemical                                               25.0\n",
      "Sub-Saharan Africa          Other                                                  23.0\n",
      "East Asia                   Chemical                                               21.0\n",
      "Central America & Caribbean Vehicle (not to include vehicle-borne explosive...     20.0\n",
      "South Asia                  Vehicle (not to include vehicle-borne explosive...     20.0\n",
      "Southeast Asia              Chemical                                               19.0\n",
      "Australasia & Oceania       Unknown                                                16.0\n",
      "Eastern Europe              Sabotage Equipment                                     12.0\n",
      "East Asia                   Unknown                                                12.0\n",
      "Eastern Europe              Incendiary                                             12.0\n",
      "South Asia                  Other                                                  11.0\n",
      "East Asia                   Vehicle (not to include vehicle-borne explosive...     10.0\n",
      "Australasia & Oceania       Explosives                                              9.0\n",
      "Central Asia                Melee                                                   7.0\n",
      "                            Incendiary                                              7.0\n",
      "North America               Biological                                              7.0\n",
      "Western Europe              Chemical                                                7.0\n",
      "Southeast Asia              Sabotage Equipment                                      6.0\n",
      "Eastern Europe              Chemical                                                5.0\n",
      "Australasia & Oceania       Melee                                                   4.0\n",
      "Eastern Europe              Other                                                   3.0\n",
      "Central America & Caribbean Sabotage Equipment                                      3.0\n",
      "Middle East & North Africa  Biological                                              2.0\n",
      "South America               Sabotage Equipment                                      2.0\n",
      "                            Other                                                   2.0\n",
      "Southeast Asia              Other                                                   2.0\n",
      "South Asia                  Radiological                                            2.0\n",
      "South America               Vehicle (not to include vehicle-borne explosive...      1.0\n",
      "North America               Sabotage Equipment                                      1.0\n",
      "Central Asia                Fake Weapons                                            1.0\n",
      "Australasia & Oceania       Vehicle (not to include vehicle-borne explosive...      1.0\n",
      "Sub-Saharan Africa          Sabotage Equipment                                      0.0\n",
      "Central America & Caribbean Chemical                                                0.0\n",
      "Western Europe              Other                                                   0.0\n",
      "                            Fake Weapons                                            0.0\n",
      "Sub-Saharan Africa          Vehicle (not to include vehicle-borne explosive...      0.0\n",
      "Western Europe              Biological                                              0.0\n",
      "                            Radiological                                            0.0\n",
      "                            Sabotage Equipment                                      0.0\n",
      "Australasia & Oceania       Incendiary                                              0.0\n",
      "                            Other                                                   0.0\n",
      "East Asia                   Other                                                   0.0\n",
      "Sub-Saharan Africa          Fake Weapons                                            0.0\n",
      "South America               Fake Weapons                                            0.0\n",
      "Middle East & North Africa  Sabotage Equipment                                      0.0\n",
      "North America               Fake Weapons                                            0.0\n",
      "Middle East & North Africa  Fake Weapons                                            0.0\n",
      "North America               Other                                                   0.0\n",
      "                            Radiological                                            0.0\n",
      "South America               Biological                                              0.0\n",
      "Eastern Europe              Vehicle (not to include vehicle-borne explosive...      0.0\n",
      "                            Fake Weapons                                            0.0\n",
      "Sub-Saharan Africa          Biological                                              0.0\n",
      "South Asia                  Biological                                              0.0\n",
      "                            Fake Weapons                                            0.0\n",
      "East Asia                   Sabotage Equipment                                      0.0\n",
      "                            Radiological                                            0.0\n",
      "North America               Chemical                                                0.0\n",
      "East Asia                   Fake Weapons                                            0.0\n",
      "                            Biological                                              0.0\n",
      "Australasia & Oceania       Chemical                                                0.0\n"
     ]
    }
   ],
   "source": [
    "region_target=df6.groupby(['region_txt','weaptype1_txt'])['nkill'].sum()\n",
    "region_target=df6.groupby(['region_txt','weaptype1_txt'])['nkill'].mean()\n",
    "region_target2=pd.DataFrame(region_target)\n",
    "sort_region_target=region_target2.sort_values('nkill',axis= 0 ,ascending=False)\n",
    "print(sort_region_target)"
   ]
  },
  {
   "cell_type": "code",
   "execution_count": 130,
   "metadata": {},
   "outputs": [],
   "source": [
    "df9=df8.sort_values('sum', axis = 0, ascending = False).groupby(level=0).tail(1).max()"
   ]
  },
  {
   "cell_type": "code",
   "execution_count": 94,
   "metadata": {},
   "outputs": [
    {
     "ename": "AttributeError",
     "evalue": "'DataFrame' object has no attribute 'weaptype1_txt'",
     "output_type": "error",
     "traceback": [
      "\u001b[0;31m---------------------------------------------------------------------------\u001b[0m",
      "\u001b[0;31mAttributeError\u001b[0m                            Traceback (most recent call last)",
      "\u001b[0;32m<ipython-input-94-04305c29bf13>\u001b[0m in \u001b[0;36m<module>\u001b[0;34m\u001b[0m\n\u001b[1;32m      2\u001b[0m \u001b[0mloc_weapon2\u001b[0m\u001b[0;34m=\u001b[0m\u001b[0mpd\u001b[0m\u001b[0;34m.\u001b[0m\u001b[0mDataFrame\u001b[0m\u001b[0;34m(\u001b[0m\u001b[0mloc_weapon\u001b[0m\u001b[0;34m)\u001b[0m\u001b[0;34m\u001b[0m\u001b[0;34m\u001b[0m\u001b[0m\n\u001b[1;32m      3\u001b[0m \u001b[0msort_loc_weapon\u001b[0m\u001b[0;34m=\u001b[0m\u001b[0mloc_weapon2\u001b[0m\u001b[0;34m.\u001b[0m\u001b[0msort_values\u001b[0m\u001b[0;34m(\u001b[0m\u001b[0;34m'nkill'\u001b[0m\u001b[0;34m,\u001b[0m\u001b[0maxis\u001b[0m\u001b[0;34m=\u001b[0m \u001b[0;36m0\u001b[0m \u001b[0;34m,\u001b[0m\u001b[0mascending\u001b[0m\u001b[0;34m=\u001b[0m\u001b[0;32mFalse\u001b[0m\u001b[0;34m)\u001b[0m\u001b[0;34m\u001b[0m\u001b[0;34m\u001b[0m\u001b[0m\n\u001b[0;32m----> 4\u001b[0;31m \u001b[0msort_loc_weapon_max\u001b[0m\u001b[0;34m=\u001b[0m\u001b[0msort_loc_weapon\u001b[0m\u001b[0;34m[\u001b[0m\u001b[0msort_loc_weapon\u001b[0m\u001b[0;34m.\u001b[0m\u001b[0mweaptype1_txt\u001b[0m\u001b[0;34m.\u001b[0m\u001b[0munique\u001b[0m\u001b[0;34m(\u001b[0m\u001b[0;34m)\u001b[0m\u001b[0;34m]\u001b[0m\u001b[0;34m.\u001b[0m\u001b[0mmax\u001b[0m\u001b[0;34m(\u001b[0m\u001b[0;34m)\u001b[0m\u001b[0;34m\u001b[0m\u001b[0;34m\u001b[0m\u001b[0m\n\u001b[0m\u001b[1;32m      5\u001b[0m \u001b[0;31m#dfObj[['y', 'z']].max()\u001b[0m\u001b[0;34m\u001b[0m\u001b[0;34m\u001b[0m\u001b[0;34m\u001b[0m\u001b[0m\n\u001b[1;32m      6\u001b[0m \u001b[0;31m# sort_loc_weapon_max=max(sort_loc_weapon)\u001b[0m\u001b[0;34m\u001b[0m\u001b[0;34m\u001b[0m\u001b[0;34m\u001b[0m\u001b[0m\n",
      "\u001b[0;32m~/anaconda3/lib/python3.7/site-packages/pandas/core/generic.py\u001b[0m in \u001b[0;36m__getattr__\u001b[0;34m(self, name)\u001b[0m\n\u001b[1;32m   5177\u001b[0m             \u001b[0;32mif\u001b[0m \u001b[0mself\u001b[0m\u001b[0;34m.\u001b[0m\u001b[0m_info_axis\u001b[0m\u001b[0;34m.\u001b[0m\u001b[0m_can_hold_identifiers_and_holds_name\u001b[0m\u001b[0;34m(\u001b[0m\u001b[0mname\u001b[0m\u001b[0;34m)\u001b[0m\u001b[0;34m:\u001b[0m\u001b[0;34m\u001b[0m\u001b[0;34m\u001b[0m\u001b[0m\n\u001b[1;32m   5178\u001b[0m                 \u001b[0;32mreturn\u001b[0m \u001b[0mself\u001b[0m\u001b[0;34m[\u001b[0m\u001b[0mname\u001b[0m\u001b[0;34m]\u001b[0m\u001b[0;34m\u001b[0m\u001b[0;34m\u001b[0m\u001b[0m\n\u001b[0;32m-> 5179\u001b[0;31m             \u001b[0;32mreturn\u001b[0m \u001b[0mobject\u001b[0m\u001b[0;34m.\u001b[0m\u001b[0m__getattribute__\u001b[0m\u001b[0;34m(\u001b[0m\u001b[0mself\u001b[0m\u001b[0;34m,\u001b[0m \u001b[0mname\u001b[0m\u001b[0;34m)\u001b[0m\u001b[0;34m\u001b[0m\u001b[0;34m\u001b[0m\u001b[0m\n\u001b[0m\u001b[1;32m   5180\u001b[0m \u001b[0;34m\u001b[0m\u001b[0m\n\u001b[1;32m   5181\u001b[0m     \u001b[0;32mdef\u001b[0m \u001b[0m__setattr__\u001b[0m\u001b[0;34m(\u001b[0m\u001b[0mself\u001b[0m\u001b[0;34m,\u001b[0m \u001b[0mname\u001b[0m\u001b[0;34m,\u001b[0m \u001b[0mvalue\u001b[0m\u001b[0;34m)\u001b[0m\u001b[0;34m:\u001b[0m\u001b[0;34m\u001b[0m\u001b[0;34m\u001b[0m\u001b[0m\n",
      "\u001b[0;31mAttributeError\u001b[0m: 'DataFrame' object has no attribute 'weaptype1_txt'"
     ]
    }
   ],
   "source": [
    "loc_weapon=df6.groupby(['region_txt','weaptype1_txt'])['nkill'].sum()\n",
    "loc_weapon2=pd.DataFrame(loc_weapon)\n",
    "sort_loc_weapon=loc_weapon2.sort_values('nkill',axis= 0 ,ascending=False)\n",
    "sort_loc_weapon_max=sort_loc_weapon[sort_loc_weapon.weaptype1_txt.unique()].max()\n",
    "#dfObj[['y', 'z']].max()\n",
    "# sort_loc_weapon_max=max(sort_loc_weapon)\n",
    "# print(sort_loc_weapon_max)"
   ]
  },
  {
   "cell_type": "code",
   "execution_count": null,
   "metadata": {},
   "outputs": [],
   "source": []
  },
  {
   "cell_type": "code",
   "execution_count": 19,
   "metadata": {},
   "outputs": [],
   "source": [
    "#analiza ilości zdarzeń ze względu na dzień wystąpienia"
   ]
  },
  {
   "cell_type": "code",
   "execution_count": 20,
   "metadata": {},
   "outputs": [],
   "source": [
    "#analiza ilości ze względu na cel aktu terror"
   ]
  },
  {
   "cell_type": "code",
   "execution_count": 152,
   "metadata": {
    "scrolled": false
   },
   "outputs": [
    {
     "data": {
      "text/plain": [
       "<matplotlib.axes._subplots.AxesSubplot at 0x7fbcc4f16f50>"
      ]
     },
     "execution_count": 152,
     "metadata": {},
     "output_type": "execute_result"
    },
    {
     "data": {
      "image/png": "[encoded data removed]",
      "text/plain": [
       "<Figure size 432x288 with 1 Axes>"
      ]
     },
     "metadata": {
      "needs_background": "light"
     },
     "output_type": "display_data"
    }
   ],
   "source": [
    "#analiza ze względu na uzyta broń\n",
    "sum_weapon=df3.groupby(df3.weaptype1_txt)['nkill'].sum()\n",
    "sum_weapon.plot.bar()"
   ]
  },
  {
   "cell_type": "code",
   "execution_count": 157,
   "metadata": {},
   "outputs": [
    {
     "data": {
      "text/plain": [
       "array(['Unknown', 'Firearms', 'Explosives', 'Incendiary', 'Chemical',\n",
       "       'Melee', 'Sabotage Equipment',\n",
       "       'Vehicle (not to include vehicle-borne explosives, i.e., car or truck bombs)',\n",
       "       'Fake Weapons', 'Radiological', 'Other', 'Biological'],\n",
       "      dtype=object)"
      ]
     },
     "execution_count": 157,
     "metadata": {},
     "output_type": "execute_result"
    }
   ],
   "source": [
    "df3.weaptype1_txt.unique()"
   ]
  },
  {
   "cell_type": "code",
   "execution_count": 73,
   "metadata": {},
   "outputs": [
    {
     "name": "stdout",
     "output_type": "stream",
     "text": [
      "Unknown\n"
     ]
    },
    {
     "ename": "KeyboardInterrupt",
     "evalue": "",
     "output_type": "error",
     "traceback": [
      "\u001b[0;31m---------------------------------------------------------------------------\u001b[0m",
      "\u001b[0;31mKeyboardInterrupt\u001b[0m                         Traceback (most recent call last)",
      "\u001b[0;32m<ipython-input-73-960bc4afa471>\u001b[0m in \u001b[0;36m<module>\u001b[0;34m\u001b[0m\n\u001b[1;32m     32\u001b[0m \u001b[0mw\u001b[0m \u001b[0;34m=\u001b[0m \u001b[0mWidget\u001b[0m\u001b[0;34m(\u001b[0m\u001b[0;34m)\u001b[0m\u001b[0;34m\u001b[0m\u001b[0;34m\u001b[0m\u001b[0m\n\u001b[1;32m     33\u001b[0m \u001b[0mw\u001b[0m\u001b[0;34m.\u001b[0m\u001b[0mshow\u001b[0m\u001b[0;34m(\u001b[0m\u001b[0;34m)\u001b[0m\u001b[0;34m\u001b[0m\u001b[0;34m\u001b[0m\u001b[0m\n\u001b[0;32m---> 34\u001b[0;31m \u001b[0msys\u001b[0m\u001b[0;34m.\u001b[0m\u001b[0mexit\u001b[0m\u001b[0;34m(\u001b[0m\u001b[0mapp\u001b[0m\u001b[0;34m.\u001b[0m\u001b[0mexec_\u001b[0m\u001b[0;34m(\u001b[0m\u001b[0;34m)\u001b[0m\u001b[0;34m)\u001b[0m\u001b[0;34m\u001b[0m\u001b[0;34m\u001b[0m\u001b[0m\n\u001b[0m",
      "\u001b[0;31mKeyboardInterrupt\u001b[0m: "
     ]
    }
   ],
   "source": [
    "from PyQt5.QtWidgets import QWidget, QVBoxLayout, QPushButton, QListWidget, QApplication, QListWidgetItem\n",
    "\n",
    "import sys\n",
    "\n",
    "class Widget(QWidget):\n",
    "    def __init__(self, parent=None):\n",
    "        super(Widget, self).__init__(parent=parent)\n",
    "        layout = QVBoxLayout(self)\n",
    "        btn = QPushButton(\"btn\", self)\n",
    "\n",
    "        btn.clicked.connect(self.onClicked)\n",
    "        layout.addWidget(btn)\n",
    "        self.listWidget = QListWidget(self)\n",
    "        layout.addWidget(self.listWidget)\n",
    "        elements = ['Unknown', 'Firearms', 'Explosives', 'Incendiary', 'Chemical',\n",
    "       'Melee', 'Sabotage Equipment',\n",
    "       'Vehicle (not to include vehicle-borne explosives, i.e., car or truck bombs)',\n",
    "       'Fake Weapons', 'Radiological', 'Other', 'Biological']\n",
    "        for element in elements:\n",
    "            self.listWidget.addItem(element)\n",
    "\n",
    "        self.counter = 0\n",
    "\n",
    "    def onClicked(self):\n",
    "        print(self.listWidget.item(self.counter).text())\n",
    "        self.counter = (self.counter +1) % self.listWidget.count()\n",
    "\n",
    "\n",
    "\n",
    "\n",
    "app = QApplication(sys.argv)\n",
    "w = Widget()\n",
    "w.show()\n",
    "sys.exit(app.exec_())"
   ]
  },
  {
   "cell_type": "code",
   "execution_count": null,
   "metadata": {},
   "outputs": [],
   "source": [
    "#widget list https://stackoverflow.com/questions/22670214/python-how-to-use-listwidget-items-to-store-and-retrieve-objects-easy\n",
    "from PyQt4 import QtGui, QtCore\n",
    "import sys, os\n",
    "\n",
    "\n",
    "class myItem(QtGui.QListWidgetItem):\n",
    "    def __init__(self, name):\n",
    "        super(myItem, self).__init__()\n",
    "        self.name=name\n",
    "    def getTime(self):\n",
    "        import datetime\n",
    "        return datetime.datetime.now()   \n",
    "\n",
    "class Dialog_01(QtGui.QMainWindow):\n",
    "    def __init__(self):\n",
    "        super(QtGui.QMainWindow,self).__init__()\n",
    "\n",
    "        myQWidget = QtGui.QWidget()\n",
    "        myBoxLayout = QtGui.QVBoxLayout()\n",
    "        myQWidget.setLayout(myBoxLayout)\n",
    "        self.setCentralWidget(myQWidget)\n",
    "\n",
    "        self.listWidget = QtGui.QListWidget()\n",
    "\n",
    "        self.listWidget.currentItemChanged.connect(self.item_clicked)\n",
    "\n",
    "        for i in range(12):\n",
    "            name='Item '+str(i)\n",
    "            my_item=myItem(name)\n",
    "            my_item.setText('Item '+str(i))\n",
    "            self.listWidget.addItem(my_item)\n",
    "\n",
    "        myBoxLayout.addWidget(self.listWidget)\n",
    "\n",
    "    def item_clicked(self, arg=None):\n",
    "        print arg.text(), arg.getTime()\n",
    "\n",
    "\n",
    "if __name__ == '__main__':\n",
    "    app = QtGui.QApplication(sys.argv)\n",
    "    dialog_1 = Dialog_01()\n",
    "    dialog_1.show()\n",
    "    dialog_1.resize(480,320)\n",
    "    sys.exit(app.exec_())"
   ]
  },
  {
   "cell_type": "code",
   "execution_count": 153,
   "metadata": {},
   "outputs": [],
   "source": [
    "l = [[1, 2, 3], [4, 5, 6], [7], [8, 9]]\n",
    "flat_list = []\n",
    "for sublist in l:\n",
    "    for item in sublist:\n",
    "        flat_list.append(item)"
   ]
  },
  {
   "cell_type": "code",
   "execution_count": 154,
   "metadata": {},
   "outputs": [],
   "source": [
    "flatten = lambda l: [item for sublist in l for item in sublist]"
   ]
  },
  {
   "cell_type": "code",
   "execution_count": null,
   "metadata": {},
   "outputs": [],
   "source": [
    "flat_list = []\n",
    "for sublist in l:\n",
    "    for item in sublist:\n",
    "        flat_list.append(item)"
   ]
  }
 ],
 "metadata": {
  "kernelspec": {
   "display_name": "Python 3",
   "language": "python",
   "name": "python3"
  },
  "language_info": {
   "codemirror_mode": {
    "name": "ipython",
    "version": 3
   },
   "file_extension": ".py",
   "mimetype": "text/x-python",
   "name": "python",
   "nbconvert_exporter": "python",
   "pygments_lexer": "ipython3",
   "version": "3.7.4"
  }
 },
 "nbformat": 4,
 "nbformat_minor": 2
}
