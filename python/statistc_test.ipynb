{
 "cells": [
  {
   "cell_type": "markdown",
   "metadata": {},
   "source": [
    "# jakie jest prawdopodobieństwo, że pierwszego dnia miesiąca doszło do przestępstawa z bronią palną?"
   ]
  },
  {
   "cell_type": "code",
   "execution_count": 1,
   "metadata": {},
   "outputs": [],
   "source": [
    "import pandas as pd\n",
    "import numpy as np\n",
    "import matplotlib.pyplot as plt\n",
    "import scipy as sp \n",
    "import scipy.stats as st"
   ]
  },
  {
   "cell_type": "code",
   "execution_count": 2,
   "metadata": {},
   "outputs": [],
   "source": [
    "clean_data=pd.read_csv('clean_data.csv')"
   ]
  },
  {
   "cell_type": "code",
   "execution_count": 3,
   "metadata": {},
   "outputs": [
    {
     "data": {
      "text/html": [
       "<div>\n",
       "<style scoped>\n",
       "    .dataframe tbody tr th:only-of-type {\n",
       "        vertical-align: middle;\n",
       "    }\n",
       "\n",
       "    .dataframe tbody tr th {\n",
       "        vertical-align: top;\n",
       "    }\n",
       "\n",
       "    .dataframe thead th {\n",
       "        text-align: right;\n",
       "    }\n",
       "</style>\n",
       "<table border=\"1\" class=\"dataframe\">\n",
       "  <thead>\n",
       "    <tr style=\"text-align: right;\">\n",
       "      <th></th>\n",
       "      <th>Unnamed: 0</th>\n",
       "      <th>iyear</th>\n",
       "      <th>imonth</th>\n",
       "      <th>iday</th>\n",
       "      <th>country_txt</th>\n",
       "      <th>region_txt</th>\n",
       "      <th>city</th>\n",
       "      <th>attacktype1</th>\n",
       "      <th>attacktype1_txt</th>\n",
       "      <th>targtype1</th>\n",
       "      <th>targtype1_txt</th>\n",
       "      <th>nkill</th>\n",
       "      <th>natlty1_txt</th>\n",
       "      <th>weapon</th>\n",
       "    </tr>\n",
       "  </thead>\n",
       "  <tbody>\n",
       "    <tr>\n",
       "      <td>0</td>\n",
       "      <td>0</td>\n",
       "      <td>1970</td>\n",
       "      <td>7</td>\n",
       "      <td>2</td>\n",
       "      <td>Dominican Republic</td>\n",
       "      <td>Central America &amp; Caribbean</td>\n",
       "      <td>Santo Domingo</td>\n",
       "      <td>1</td>\n",
       "      <td>Assassination</td>\n",
       "      <td>14</td>\n",
       "      <td>Private Citizens &amp; Property</td>\n",
       "      <td>1.0</td>\n",
       "      <td>Dominican Republic</td>\n",
       "      <td>Firearms</td>\n",
       "    </tr>\n",
       "    <tr>\n",
       "      <td>1</td>\n",
       "      <td>2</td>\n",
       "      <td>1970</td>\n",
       "      <td>1</td>\n",
       "      <td>0</td>\n",
       "      <td>Philippines</td>\n",
       "      <td>Southeast Asia</td>\n",
       "      <td>Unknown</td>\n",
       "      <td>1</td>\n",
       "      <td>Assassination</td>\n",
       "      <td>10</td>\n",
       "      <td>Journalists &amp; Media</td>\n",
       "      <td>1.0</td>\n",
       "      <td>United States</td>\n",
       "      <td>Firearms</td>\n",
       "    </tr>\n",
       "    <tr>\n",
       "      <td>2</td>\n",
       "      <td>5</td>\n",
       "      <td>1970</td>\n",
       "      <td>1</td>\n",
       "      <td>1</td>\n",
       "      <td>United States</td>\n",
       "      <td>North America</td>\n",
       "      <td>Cairo</td>\n",
       "      <td>2</td>\n",
       "      <td>Armed Assault</td>\n",
       "      <td>3</td>\n",
       "      <td>Police</td>\n",
       "      <td>0.0</td>\n",
       "      <td>United States</td>\n",
       "      <td>Firearms</td>\n",
       "    </tr>\n",
       "    <tr>\n",
       "      <td>3</td>\n",
       "      <td>6</td>\n",
       "      <td>1970</td>\n",
       "      <td>1</td>\n",
       "      <td>2</td>\n",
       "      <td>Uruguay</td>\n",
       "      <td>South America</td>\n",
       "      <td>Montevideo</td>\n",
       "      <td>1</td>\n",
       "      <td>Assassination</td>\n",
       "      <td>3</td>\n",
       "      <td>Police</td>\n",
       "      <td>0.0</td>\n",
       "      <td>Uruguay</td>\n",
       "      <td>Firearms</td>\n",
       "    </tr>\n",
       "    <tr>\n",
       "      <td>4</td>\n",
       "      <td>7</td>\n",
       "      <td>1970</td>\n",
       "      <td>1</td>\n",
       "      <td>2</td>\n",
       "      <td>United States</td>\n",
       "      <td>North America</td>\n",
       "      <td>Oakland</td>\n",
       "      <td>3</td>\n",
       "      <td>Bombing/Explosion</td>\n",
       "      <td>21</td>\n",
       "      <td>Utilities</td>\n",
       "      <td>0.0</td>\n",
       "      <td>United States</td>\n",
       "      <td>Explosives</td>\n",
       "    </tr>\n",
       "  </tbody>\n",
       "</table>\n",
       "</div>"
      ],
      "text/plain": [
       "   Unnamed: 0  iyear  imonth  iday         country_txt  \\\n",
       "0           0   1970       7     2  Dominican Republic   \n",
       "1           2   1970       1     0         Philippines   \n",
       "2           5   1970       1     1       United States   \n",
       "3           6   1970       1     2             Uruguay   \n",
       "4           7   1970       1     2       United States   \n",
       "\n",
       "                    region_txt           city  attacktype1    attacktype1_txt  \\\n",
       "0  Central America & Caribbean  Santo Domingo            1      Assassination   \n",
       "1               Southeast Asia        Unknown            1      Assassination   \n",
       "2                North America          Cairo            2      Armed Assault   \n",
       "3                South America     Montevideo            1      Assassination   \n",
       "4                North America        Oakland            3  Bombing/Explosion   \n",
       "\n",
       "   targtype1                targtype1_txt  nkill         natlty1_txt  \\\n",
       "0         14  Private Citizens & Property    1.0  Dominican Republic   \n",
       "1         10          Journalists & Media    1.0       United States   \n",
       "2          3                       Police    0.0       United States   \n",
       "3          3                       Police    0.0             Uruguay   \n",
       "4         21                    Utilities    0.0       United States   \n",
       "\n",
       "       weapon  \n",
       "0    Firearms  \n",
       "1    Firearms  \n",
       "2    Firearms  \n",
       "3    Firearms  \n",
       "4  Explosives  "
      ]
     },
     "execution_count": 3,
     "metadata": {},
     "output_type": "execute_result"
    }
   ],
   "source": [
    "clean_data.head()"
   ]
  },
  {
   "cell_type": "code",
   "execution_count": 7,
   "metadata": {},
   "outputs": [
    {
     "ename": "IndentationError",
     "evalue": "unexpected indent (<ipython-input-7-c990744c5cc6>, line 11)",
     "output_type": "error",
     "traceback": [
      "\u001b[0;36m  File \u001b[0;32m\"<ipython-input-7-c990744c5cc6>\"\u001b[0;36m, line \u001b[0;32m11\u001b[0m\n\u001b[0;31m    if mask[0]!='nan' and mask[1]!='nan':\u001b[0m\n\u001b[0m    ^\u001b[0m\n\u001b[0;31mIndentationError\u001b[0m\u001b[0;31m:\u001b[0m unexpected indent\n"
     ]
    }
   ],
   "source": [
    "class Propability:\n",
    "\n",
    "#wybranie tylko używanych kolumn\n",
    "    def dataset(self):\n",
    "        df_pred=clean_data('iyear','region_txt','targtype1_txt','weapon')\n",
    "        return df_pred\n",
    " \n",
    " # definicja po czym bedzie grupowanie (lista)\n",
    "    def grouper(self,dataset,group_by):\n",
    "        mask=((dataset.group_by==group_by.value())&(dataset.group_by==group_by.value()))\n",
    "            if mask[0]!='nan' and mask[1]!='nan':\n",
    "                mask=((dataset.group_by==group_by.value())&(dataset.group_by==group_by.value()))  \n",
    "            elif mask[0]!='nan' and mask[1]='nan':\n",
    "                mask=(dataset.group_by==group_by.value())#tutaj musi być warunek jeżeli nie będzie 2giego członu\n",
    "        group=df_pred.ix(mask)\n",
    "        return group\n",
    " #co jest naszym celem do wyznaczenia prawdopodobieństwa   \n",
    "    def goal(self,grouper,target):\n",
    "        item_predict=grouper.[target].count()\n",
    "        return item_predict\n",
    "        \n",
    "    def possibility(self,goal):\n",
    "        possib=goal/goal\n",
    "        return possib\n",
    "        \n"
   ]
  },
  {
   "cell_type": "code",
   "execution_count": 40,
   "metadata": {},
   "outputs": [
    {
     "name": "stderr",
     "output_type": "stream",
     "text": [
      "/home/paulina_cieslinska/anaconda3/lib/python3.7/site-packages/ipykernel_launcher.py:3: FutureWarning: \n",
      ".ix is deprecated. Please use\n",
      ".loc for label based indexing or\n",
      ".iloc for positional indexing\n",
      "\n",
      "See the documentation here:\n",
      "http://pandas.pydata.org/pandas-docs/stable/user_guide/indexing.html#ix-indexer-is-deprecated\n",
      "  This is separate from the ipykernel package so we can avoid doing imports until\n"
     ]
    },
    {
     "data": {
      "text/html": [
       "<div>\n",
       "<style scoped>\n",
       "    .dataframe tbody tr th:only-of-type {\n",
       "        vertical-align: middle;\n",
       "    }\n",
       "\n",
       "    .dataframe tbody tr th {\n",
       "        vertical-align: top;\n",
       "    }\n",
       "\n",
       "    .dataframe thead th {\n",
       "        text-align: right;\n",
       "    }\n",
       "</style>\n",
       "<table border=\"1\" class=\"dataframe\">\n",
       "  <thead>\n",
       "    <tr style=\"text-align: right;\">\n",
       "      <th></th>\n",
       "      <th>Unnamed: 0</th>\n",
       "      <th>iyear</th>\n",
       "      <th>imonth</th>\n",
       "      <th>iday</th>\n",
       "      <th>country_txt</th>\n",
       "      <th>region_txt</th>\n",
       "      <th>city</th>\n",
       "      <th>attacktype1</th>\n",
       "      <th>attacktype1_txt</th>\n",
       "      <th>targtype1</th>\n",
       "      <th>targtype1_txt</th>\n",
       "      <th>nkill</th>\n",
       "      <th>natlty1_txt</th>\n",
       "      <th>weapon</th>\n",
       "    </tr>\n",
       "  </thead>\n",
       "  <tbody>\n",
       "    <tr>\n",
       "      <td>2</td>\n",
       "      <td>5</td>\n",
       "      <td>1970</td>\n",
       "      <td>1</td>\n",
       "      <td>1</td>\n",
       "      <td>United States</td>\n",
       "      <td>North America</td>\n",
       "      <td>Cairo</td>\n",
       "      <td>2</td>\n",
       "      <td>Armed Assault</td>\n",
       "      <td>3</td>\n",
       "      <td>Police</td>\n",
       "      <td>0.0</td>\n",
       "      <td>United States</td>\n",
       "      <td>Firearms</td>\n",
       "    </tr>\n",
       "    <tr>\n",
       "      <td>37</td>\n",
       "      <td>42</td>\n",
       "      <td>1970</td>\n",
       "      <td>2</td>\n",
       "      <td>1</td>\n",
       "      <td>United States</td>\n",
       "      <td>North America</td>\n",
       "      <td>Cairo</td>\n",
       "      <td>2</td>\n",
       "      <td>Armed Assault</td>\n",
       "      <td>3</td>\n",
       "      <td>Police</td>\n",
       "      <td>0.0</td>\n",
       "      <td>United States</td>\n",
       "      <td>Firearms</td>\n",
       "    </tr>\n",
       "    <tr>\n",
       "      <td>302</td>\n",
       "      <td>316</td>\n",
       "      <td>1970</td>\n",
       "      <td>6</td>\n",
       "      <td>1</td>\n",
       "      <td>Argentina</td>\n",
       "      <td>South America</td>\n",
       "      <td>Unknown</td>\n",
       "      <td>1</td>\n",
       "      <td>Assassination</td>\n",
       "      <td>2</td>\n",
       "      <td>Government (General)</td>\n",
       "      <td>1.0</td>\n",
       "      <td>Argentina</td>\n",
       "      <td>Firearms</td>\n",
       "    </tr>\n",
       "    <tr>\n",
       "      <td>355</td>\n",
       "      <td>379</td>\n",
       "      <td>1970</td>\n",
       "      <td>7</td>\n",
       "      <td>1</td>\n",
       "      <td>Brazil</td>\n",
       "      <td>South America</td>\n",
       "      <td>Rio de Janeiro</td>\n",
       "      <td>4</td>\n",
       "      <td>Hijacking</td>\n",
       "      <td>6</td>\n",
       "      <td>Airports &amp; Aircraft</td>\n",
       "      <td>0.0</td>\n",
       "      <td>Brazil</td>\n",
       "      <td>Firearms</td>\n",
       "    </tr>\n",
       "    <tr>\n",
       "      <td>454</td>\n",
       "      <td>489</td>\n",
       "      <td>1970</td>\n",
       "      <td>9</td>\n",
       "      <td>1</td>\n",
       "      <td>United States</td>\n",
       "      <td>North America</td>\n",
       "      <td>Philadelphia</td>\n",
       "      <td>2</td>\n",
       "      <td>Armed Assault</td>\n",
       "      <td>1</td>\n",
       "      <td>Business</td>\n",
       "      <td>0.0</td>\n",
       "      <td>United States</td>\n",
       "      <td>Firearms</td>\n",
       "    </tr>\n",
       "  </tbody>\n",
       "</table>\n",
       "</div>"
      ],
      "text/plain": [
       "     Unnamed: 0  iyear  imonth  iday    country_txt     region_txt  \\\n",
       "2             5   1970       1     1  United States  North America   \n",
       "37           42   1970       2     1  United States  North America   \n",
       "302         316   1970       6     1      Argentina  South America   \n",
       "355         379   1970       7     1         Brazil  South America   \n",
       "454         489   1970       9     1  United States  North America   \n",
       "\n",
       "               city  attacktype1 attacktype1_txt  targtype1  \\\n",
       "2             Cairo            2   Armed Assault          3   \n",
       "37            Cairo            2   Armed Assault          3   \n",
       "302         Unknown            1   Assassination          2   \n",
       "355  Rio de Janeiro            4       Hijacking          6   \n",
       "454    Philadelphia            2   Armed Assault          1   \n",
       "\n",
       "            targtype1_txt  nkill    natlty1_txt    weapon  \n",
       "2                  Police    0.0  United States  Firearms  \n",
       "37                 Police    0.0  United States  Firearms  \n",
       "302  Government (General)    1.0      Argentina  Firearms  \n",
       "355   Airports & Aircraft    0.0         Brazil  Firearms  \n",
       "454              Business    0.0  United States  Firearms  "
      ]
     },
     "execution_count": 40,
     "metadata": {},
     "output_type": "execute_result"
    }
   ],
   "source": [
    "#rozklad ataków z uzyciem brni palnej w dniach miesiąca\n",
    "mask=(clean_data.iday==1)& (clean_data.weapon=='Firearms')\n",
    "first_day_weapon=clean_data.ix[mask]"
   ]
  },
  {
   "cell_type": "code",
   "execution_count": 50,
   "metadata": {},
   "outputs": [
    {
     "name": "stderr",
     "output_type": "stream",
     "text": [
      "/home/paulina_cieslinska/anaconda3/lib/python3.7/site-packages/ipykernel_launcher.py:3: FutureWarning: \n",
      ".ix is deprecated. Please use\n",
      ".loc for label based indexing or\n",
      ".iloc for positional indexing\n",
      "\n",
      "See the documentation here:\n",
      "http://pandas.pydata.org/pandas-docs/stable/user_guide/indexing.html#ix-indexer-is-deprecated\n",
      "  This is separate from the ipykernel package so we can avoid doing imports until\n"
     ]
    }
   ],
   "source": [
    "#rozklad ataków z uzyciem innej broni w dniach miesiąca\n",
    "mask3=(clean_data.iday==1)& (clean_data.weapon=='Melee')\n",
    "first_day_other_weapon=clean_data.ix[mask3]"
   ]
  },
  {
   "cell_type": "code",
   "execution_count": 41,
   "metadata": {},
   "outputs": [
    {
     "name": "stderr",
     "output_type": "stream",
     "text": [
      "/home/paulina_cieslinska/anaconda3/lib/python3.7/site-packages/ipykernel_launcher.py:2: FutureWarning: \n",
      ".ix is deprecated. Please use\n",
      ".loc for label based indexing or\n",
      ".iloc for positional indexing\n",
      "\n",
      "See the documentation here:\n",
      "http://pandas.pydata.org/pandas-docs/stable/user_guide/indexing.html#ix-indexer-is-deprecated\n",
      "  \n"
     ]
    }
   ],
   "source": [
    "mask2=(clean_data.iday==1)\n",
    "first_day=clean_data.ix[mask2]"
   ]
  },
  {
   "cell_type": "code",
   "execution_count": 21,
   "metadata": {
    "collapsed": true
   },
   "outputs": [
    {
     "data": {
      "text/plain": [
       "iday\n",
       "0      1187.0\n",
       "1     15536.0\n",
       "2     12672.0\n",
       "3     15076.0\n",
       "4     12121.0\n",
       "5     13572.0\n",
       "6     12493.0\n",
       "7     13308.0\n",
       "8     12555.0\n",
       "9     12355.0\n",
       "10    14159.0\n",
       "11    16945.0\n",
       "12    14011.0\n",
       "13    14821.0\n",
       "14    13552.0\n",
       "15    14367.0\n",
       "16    12549.0\n",
       "17    15871.0\n",
       "18    13932.0\n",
       "19    14315.0\n",
       "20    13588.0\n",
       "21    13214.0\n",
       "22    11113.0\n",
       "23    13627.0\n",
       "24    12741.0\n",
       "25    12796.0\n",
       "26    11977.0\n",
       "27    12134.0\n",
       "28    13483.0\n",
       "29    11443.0\n",
       "30    11209.0\n",
       "31     6499.0\n",
       "Name: nkill, dtype: float64"
      ]
     },
     "execution_count": 21,
     "metadata": {},
     "output_type": "execute_result"
    }
   ],
   "source": [
    "days=clean_data.groupby(clean_data.iday)['nkill'].sum()\n",
    "days.plot.bar()"
   ]
  },
  {
   "cell_type": "code",
   "execution_count": 77,
   "metadata": {},
   "outputs": [
    {
     "name": "stdout",
     "output_type": "stream",
     "text": [
      "prawdopodobieństwo wystąpienia przestępstwo z uzyciem broni palnej 1-ego dnia misiąca wyniosło: 0.354\n"
     ]
    }
   ],
   "source": [
    "#jakie prawdopodobieństwo wystapienia 1-ego dnia miesiąca przestępstawa przy uzyciu broni palnej:\n",
    "p=first_day_weapon.count()/first_day.count()\n",
    "prawdop=p.get('iday')\n",
    "print('prawdopodobieństwo wystąpienia przestępstwo z uzyciem broni palnej 1-ego dnia misiąca wyniosło:',round(prawdop,3))"
   ]
  },
  {
   "cell_type": "markdown",
   "metadata": {},
   "source": [
    "# W ROKU X DOSZŁO DO WIEKSZEJ ILOŚCI PRZESTĘPSTW Z UZYCIEM BRONI PALNEJ NIŻ POBIĆ W REGIONIE Y"
   ]
  },
  {
   "cell_type": "code",
   "execution_count": null,
   "metadata": {},
   "outputs": [],
   "source": [
    "class Thesis:\n",
    "    \n",
    "    def "
   ]
  },
  {
   "cell_type": "code",
   "execution_count": null,
   "metadata": {},
   "outputs": [],
   "source": []
  },
  {
   "cell_type": "code",
   "execution_count": 57,
   "metadata": {},
   "outputs": [],
   "source": [
    "bron_palna=first_day_weapon.count()\n",
    "inna_bron=first_day_other_weapon.count()"
   ]
  },
  {
   "cell_type": "code",
   "execution_count": 68,
   "metadata": {},
   "outputs": [
    {
     "name": "stdout",
     "output_type": "stream",
     "text": [
      "wielkośc proby analizowanej broni: [2078]\n",
      "wielkośc proby innej broni: [112]\n"
     ]
    },
    {
     "name": "stderr",
     "output_type": "stream",
     "text": [
      "/home/paulina_cieslinska/anaconda3/lib/python3.7/site-packages/ipykernel_launcher.py:3: FutureWarning: The 'get_values' method is deprecated and will be removed in a future version. Use '.to_numpy()' or '.array' instead.\n",
      "  This is separate from the ipykernel package so we can avoid doing imports until\n",
      "/home/paulina_cieslinska/anaconda3/lib/python3.7/site-packages/ipykernel_launcher.py:6: FutureWarning: The 'get_values' method is deprecated and will be removed in a future version. Use '.to_numpy()' or '.array' instead.\n",
      "  \n"
     ]
    }
   ],
   "source": [
    "#sprawdzenie wielkości próby\n",
    "bron_palna=first_day_weapon.groupby('iday')['nkill'].count()\n",
    "print('wielkośc proby analizowanej broni:',bron_palna.get_values())\n",
    "\n",
    "inna_bron=first_day_other_weapon.groupby('iday')['nkill'].count()\n",
    "print('wielkośc proby innej broni:',inna_bron.get_values())"
   ]
  },
  {
   "cell_type": "markdown",
   "metadata": {},
   "source": [
    "jeżeli byłoby to na zasadzie, możliwości porównywania ze sobą różnych 'zbiorów' , to ograniczenie, że mały zbiór to do 60 elementów, duzy zbiór >60 elementów. \n",
    "W przypadku tego 1-ego, jeżeli wystąpiłaby \"dysproporcja zbiorów, to trzeba zmiejszyc ten 'duży zbiór' i wtedy analizować, bądź komunikat, że nie można zbirów do siebie porównywać/zbiory są za małe"
   ]
  },
  {
   "cell_type": "code",
   "execution_count": 97,
   "metadata": {},
   "outputs": [],
   "source": [
    "collection_bron1=clean_data.loc[clean_data.weapon=='Firearms',['nkill','iday']]\n",
    "collection_bron2=clean_data.loc[clean_data.weapon=='Melee',['nkill','iday']]"
   ]
  },
  {
   "cell_type": "code",
   "execution_count": 98,
   "metadata": {},
   "outputs": [
    {
     "data": {
      "text/plain": [
       "[<matplotlib.lines.Line2D at 0x7fedb7653710>]"
      ]
     },
     "execution_count": 98,
     "metadata": {},
     "output_type": "execute_result"
    },
    {
     "data": {
      "image/png": "[encoded data removed]",
      "text/plain": [
       "<Figure size 432x288 with 1 Axes>"
      ]
     },
     "metadata": {
      "needs_background": "light"
     },
     "output_type": "display_data"
    }
   ],
   "source": [
    "os_x=collection_bron1.iday\n",
    "os_y=collection_bron1.nkill\n",
    "plt.plot(os_x, os_y,'.')"
   ]
  },
  {
   "cell_type": "code",
   "execution_count": 101,
   "metadata": {},
   "outputs": [
    {
     "name": "stdout",
     "output_type": "stream",
     "text": [
      "x_mean: nkill     3.145083\n",
      "iday     15.483358\n",
      "dtype: float64\n",
      "y_mean: nkill     2.960090\n",
      "iday     15.695897\n",
      "dtype: float64\n",
      "statystyka testowa: nkill    0.905094\n",
      "iday    -1.405415\n",
      "dtype: float64 p-value: [0.81729222 0.07994902] p-val wysokie, brak możliwości odrzucenia hipotezy zerowej, dlatego też hipoteza alternatywna nie jest rozważana\n"
     ]
    }
   ],
   "source": [
    "#TEZA 0: w miesiacu ilość przestepstw popełnione porównywanymi rodzajami broni nie różnią się\n",
    "\n",
    "x_z1=collection_bron1\n",
    "#x_z1=collection_bron1.where(collection_bron1.iday==1)\n",
    "x_avg=x_z1.mean()\n",
    "x_std=x_z1.std()\n",
    "x_n=len(x_z1)\n",
    "y_z2=collection_bron2\n",
    "y_avg=y_z2.mean()\n",
    "y_std=y_z2.std()\n",
    "y_n=len(y_z2)\n",
    "alfa=0.05 #założone do porówanania z pval\n",
    "#tools gorsze niż pozostałe czyli lewostronny obszar krytyczny\n",
    "#hipoteza alternatywna (!=)\n",
    "u=(x_avg-y_avg)/np.sqrt(x_std**2/x_n+y_std**2/y_n)\n",
    "norm = st.norm()\n",
    "pval=norm.cdf(u)\n",
    "print('x_mean:',x_avg)\n",
    "print ('y_mean:',y_avg)\n",
    "print('statystyka testowa:',u, 'p-value:',pval, 'p-val wysokie, brak możliwości odrzucenia hipotezy zerowej, dlatego też hipoteza alternatywna nie jest rozważana')"
   ]
  },
  {
   "cell_type": "code",
   "execution_count": 51,
   "metadata": {},
   "outputs": [],
   "source": []
  },
  {
   "cell_type": "code",
   "execution_count": null,
   "metadata": {},
   "outputs": [],
   "source": []
  }
 ],
 "metadata": {
  "kernelspec": {
   "display_name": "Python 3",
   "language": "python",
   "name": "python3"
  },
  "language_info": {
   "codemirror_mode": {
    "name": "ipython",
    "version": 3
   },
   "file_extension": ".py",
   "mimetype": "text/x-python",
   "name": "python",
   "nbconvert_exporter": "python",
   "pygments_lexer": "ipython3",
   "version": "3.7.4"
  }
 },
 "nbformat": 4,
 "nbformat_minor": 2
}
