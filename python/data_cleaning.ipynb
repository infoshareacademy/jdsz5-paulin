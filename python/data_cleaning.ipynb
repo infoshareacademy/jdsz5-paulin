{
 "cells": [
  {
   "cell_type": "code",
   "execution_count": 1,
   "metadata": {},
   "outputs": [],
   "source": [
    "import pandas as pd\n",
    "import numpy as np\n",
    "import matplotlib.pyplot as plt\n",
    "import scipy as sp "
   ]
  },
  {
   "cell_type": "code",
   "execution_count": 3,
   "metadata": {},
   "outputs": [
    {
     "name": "stderr",
     "output_type": "stream",
     "text": [
      "/home/paulina_cieslinska/anaconda3/lib/python3.7/site-packages/IPython/core/interactiveshell.py:3058: DtypeWarning: Columns (4,6,31,33,61,62,63,76,79,90,92,94,96,114,115,121) have mixed types. Specify dtype option on import or set low_memory=False.\n",
      "  interactivity=interactivity, compiler=compiler, result=result)\n"
     ]
    }
   ],
   "source": [
    "df=pd.read_csv('globalterrorismdb_0718dist.csv',encoding='ISO-8859-1')"
   ]
  },
  {
   "cell_type": "code",
   "execution_count": 16,
   "metadata": {},
   "outputs": [],
   "source": [
    "pd.set_option('display.max_columns', None)\n",
    "pd.set_option('display.max_rows', None)"
   ]
  },
  {
   "cell_type": "code",
   "execution_count": 20,
   "metadata": {},
   "outputs": [
    {
     "data": {
      "text/plain": [
       "array([nan, 'January 19-20, 1970', 'February 6-9, 1970', ...,\n",
       "       '2017-12-29 00:00:00', 'December 25, 2017-January 5, 2018',\n",
       "       '2017-12-31 00:00:00'], dtype=object)"
      ]
     },
     "execution_count": 20,
     "metadata": {},
     "output_type": "execute_result"
    }
   ],
   "source": [
    "df.approxdate.unique()"
   ]
  },
  {
   "cell_type": "code",
   "execution_count": 17,
   "metadata": {
    "collapsed": true
   },
   "outputs": [
    {
     "data": {
      "text/plain": [
       "eventid                 int64\n",
       "iyear                   int64\n",
       "imonth                  int64\n",
       "iday                    int64\n",
       "approxdate             object\n",
       "extended                int64\n",
       "resolution             object\n",
       "country                 int64\n",
       "country_txt            object\n",
       "region                  int64\n",
       "region_txt             object\n",
       "provstate              object\n",
       "city                   object\n",
       "latitude              float64\n",
       "longitude             float64\n",
       "specificity           float64\n",
       "vicinity                int64\n",
       "location               object\n",
       "summary                object\n",
       "crit1                   int64\n",
       "crit2                   int64\n",
       "crit3                   int64\n",
       "doubtterr             float64\n",
       "alternative           float64\n",
       "alternative_txt        object\n",
       "multiple              float64\n",
       "success                 int64\n",
       "suicide                 int64\n",
       "attacktype1             int64\n",
       "attacktype1_txt        object\n",
       "attacktype2           float64\n",
       "attacktype2_txt        object\n",
       "attacktype3           float64\n",
       "attacktype3_txt        object\n",
       "targtype1               int64\n",
       "targtype1_txt          object\n",
       "targsubtype1          float64\n",
       "targsubtype1_txt       object\n",
       "corp1                  object\n",
       "target1                object\n",
       "natlty1               float64\n",
       "natlty1_txt            object\n",
       "targtype2             float64\n",
       "targtype2_txt          object\n",
       "targsubtype2          float64\n",
       "targsubtype2_txt       object\n",
       "corp2                  object\n",
       "target2                object\n",
       "natlty2               float64\n",
       "natlty2_txt            object\n",
       "targtype3             float64\n",
       "targtype3_txt          object\n",
       "targsubtype3          float64\n",
       "targsubtype3_txt       object\n",
       "corp3                  object\n",
       "target3                object\n",
       "natlty3               float64\n",
       "natlty3_txt            object\n",
       "gname                  object\n",
       "gsubname               object\n",
       "gname2                 object\n",
       "gsubname2              object\n",
       "gname3                 object\n",
       "gsubname3              object\n",
       "motive                 object\n",
       "guncertain1           float64\n",
       "guncertain2           float64\n",
       "guncertain3           float64\n",
       "individual              int64\n",
       "nperps                float64\n",
       "nperpcap              float64\n",
       "claimed               float64\n",
       "claimmode             float64\n",
       "claimmode_txt          object\n",
       "claim2                float64\n",
       "claimmode2            float64\n",
       "claimmode2_txt         object\n",
       "claim3                float64\n",
       "claimmode3            float64\n",
       "claimmode3_txt         object\n",
       "compclaim             float64\n",
       "weaptype1               int64\n",
       "weaptype1_txt          object\n",
       "weapsubtype1          float64\n",
       "weapsubtype1_txt       object\n",
       "weaptype2             float64\n",
       "weaptype2_txt          object\n",
       "weapsubtype2          float64\n",
       "weapsubtype2_txt       object\n",
       "weaptype3             float64\n",
       "weaptype3_txt          object\n",
       "weapsubtype3          float64\n",
       "weapsubtype3_txt       object\n",
       "weaptype4             float64\n",
       "weaptype4_txt          object\n",
       "weapsubtype4          float64\n",
       "weapsubtype4_txt       object\n",
       "weapdetail             object\n",
       "nkill                 float64\n",
       "nkillus               float64\n",
       "nkillter              float64\n",
       "nwound                float64\n",
       "nwoundus              float64\n",
       "nwoundte              float64\n",
       "property                int64\n",
       "propextent            float64\n",
       "propextent_txt         object\n",
       "propvalue             float64\n",
       "propcomment            object\n",
       "ishostkid             float64\n",
       "nhostkid              float64\n",
       "nhostkidus            float64\n",
       "nhours                float64\n",
       "ndays                 float64\n",
       "divert                 object\n",
       "kidhijcountry          object\n",
       "ransom                float64\n",
       "ransomamt             float64\n",
       "ransomamtus           float64\n",
       "ransompaid            float64\n",
       "ransompaidus          float64\n",
       "ransomnote             object\n",
       "hostkidoutcome        float64\n",
       "hostkidoutcome_txt     object\n",
       "nreleased             float64\n",
       "addnotes               object\n",
       "scite1                 object\n",
       "scite2                 object\n",
       "scite3                 object\n",
       "dbsource               object\n",
       "INT_LOG                 int64\n",
       "INT_IDEO                int64\n",
       "INT_MISC                int64\n",
       "INT_ANY                 int64\n",
       "related                object\n",
       "dtype: object"
      ]
     },
     "execution_count": 17,
     "metadata": {},
     "output_type": "execute_result"
    }
   ],
   "source": [
    "df.dtypes"
   ]
  },
  {
   "cell_type": "code",
   "execution_count": 38,
   "metadata": {},
   "outputs": [],
   "source": [
    "df2=df[['iyear','imonth','iday','country_txt','region_txt','city','attacktype1_txt','targtype1_txt','weaptype1_txt','nkill','natlty1_txt']]"
   ]
  },
  {
   "cell_type": "code",
   "execution_count": 39,
   "metadata": {},
   "outputs": [
    {
     "data": {
      "text/html": [
       "<div>\n",
       "<style scoped>\n",
       "    .dataframe tbody tr th:only-of-type {\n",
       "        vertical-align: middle;\n",
       "    }\n",
       "\n",
       "    .dataframe tbody tr th {\n",
       "        vertical-align: top;\n",
       "    }\n",
       "\n",
       "    .dataframe thead th {\n",
       "        text-align: right;\n",
       "    }\n",
       "</style>\n",
       "<table border=\"1\" class=\"dataframe\">\n",
       "  <thead>\n",
       "    <tr style=\"text-align: right;\">\n",
       "      <th></th>\n",
       "      <th>iyear</th>\n",
       "      <th>imonth</th>\n",
       "      <th>iday</th>\n",
       "      <th>country_txt</th>\n",
       "      <th>region_txt</th>\n",
       "      <th>city</th>\n",
       "      <th>attacktype1_txt</th>\n",
       "      <th>targtype1_txt</th>\n",
       "      <th>weaptype1_txt</th>\n",
       "      <th>nkill</th>\n",
       "      <th>natlty1_txt</th>\n",
       "    </tr>\n",
       "  </thead>\n",
       "  <tbody>\n",
       "    <tr>\n",
       "      <td>0</td>\n",
       "      <td>1970</td>\n",
       "      <td>7</td>\n",
       "      <td>2</td>\n",
       "      <td>Dominican Republic</td>\n",
       "      <td>Central America &amp; Caribbean</td>\n",
       "      <td>Santo Domingo</td>\n",
       "      <td>Assassination</td>\n",
       "      <td>Private Citizens &amp; Property</td>\n",
       "      <td>Unknown</td>\n",
       "      <td>1.0</td>\n",
       "      <td>Dominican Republic</td>\n",
       "    </tr>\n",
       "    <tr>\n",
       "      <td>1</td>\n",
       "      <td>1970</td>\n",
       "      <td>0</td>\n",
       "      <td>0</td>\n",
       "      <td>Mexico</td>\n",
       "      <td>North America</td>\n",
       "      <td>Mexico city</td>\n",
       "      <td>Hostage Taking (Kidnapping)</td>\n",
       "      <td>Government (Diplomatic)</td>\n",
       "      <td>Unknown</td>\n",
       "      <td>0.0</td>\n",
       "      <td>Belgium</td>\n",
       "    </tr>\n",
       "    <tr>\n",
       "      <td>2</td>\n",
       "      <td>1970</td>\n",
       "      <td>1</td>\n",
       "      <td>0</td>\n",
       "      <td>Philippines</td>\n",
       "      <td>Southeast Asia</td>\n",
       "      <td>Unknown</td>\n",
       "      <td>Assassination</td>\n",
       "      <td>Journalists &amp; Media</td>\n",
       "      <td>Unknown</td>\n",
       "      <td>1.0</td>\n",
       "      <td>United States</td>\n",
       "    </tr>\n",
       "    <tr>\n",
       "      <td>3</td>\n",
       "      <td>1970</td>\n",
       "      <td>1</td>\n",
       "      <td>0</td>\n",
       "      <td>Greece</td>\n",
       "      <td>Western Europe</td>\n",
       "      <td>Athens</td>\n",
       "      <td>Bombing/Explosion</td>\n",
       "      <td>Government (Diplomatic)</td>\n",
       "      <td>Explosives</td>\n",
       "      <td>NaN</td>\n",
       "      <td>United States</td>\n",
       "    </tr>\n",
       "    <tr>\n",
       "      <td>4</td>\n",
       "      <td>1970</td>\n",
       "      <td>1</td>\n",
       "      <td>0</td>\n",
       "      <td>Japan</td>\n",
       "      <td>East Asia</td>\n",
       "      <td>Fukouka</td>\n",
       "      <td>Facility/Infrastructure Attack</td>\n",
       "      <td>Government (Diplomatic)</td>\n",
       "      <td>Incendiary</td>\n",
       "      <td>NaN</td>\n",
       "      <td>United States</td>\n",
       "    </tr>\n",
       "    <tr>\n",
       "      <td>5</td>\n",
       "      <td>1970</td>\n",
       "      <td>1</td>\n",
       "      <td>1</td>\n",
       "      <td>United States</td>\n",
       "      <td>North America</td>\n",
       "      <td>Cairo</td>\n",
       "      <td>Armed Assault</td>\n",
       "      <td>Police</td>\n",
       "      <td>Firearms</td>\n",
       "      <td>0.0</td>\n",
       "      <td>United States</td>\n",
       "    </tr>\n",
       "    <tr>\n",
       "      <td>6</td>\n",
       "      <td>1970</td>\n",
       "      <td>1</td>\n",
       "      <td>2</td>\n",
       "      <td>Uruguay</td>\n",
       "      <td>South America</td>\n",
       "      <td>Montevideo</td>\n",
       "      <td>Assassination</td>\n",
       "      <td>Police</td>\n",
       "      <td>Firearms</td>\n",
       "      <td>0.0</td>\n",
       "      <td>Uruguay</td>\n",
       "    </tr>\n",
       "    <tr>\n",
       "      <td>7</td>\n",
       "      <td>1970</td>\n",
       "      <td>1</td>\n",
       "      <td>2</td>\n",
       "      <td>United States</td>\n",
       "      <td>North America</td>\n",
       "      <td>Oakland</td>\n",
       "      <td>Bombing/Explosion</td>\n",
       "      <td>Utilities</td>\n",
       "      <td>Explosives</td>\n",
       "      <td>0.0</td>\n",
       "      <td>United States</td>\n",
       "    </tr>\n",
       "    <tr>\n",
       "      <td>8</td>\n",
       "      <td>1970</td>\n",
       "      <td>1</td>\n",
       "      <td>2</td>\n",
       "      <td>United States</td>\n",
       "      <td>North America</td>\n",
       "      <td>Madison</td>\n",
       "      <td>Facility/Infrastructure Attack</td>\n",
       "      <td>Military</td>\n",
       "      <td>Incendiary</td>\n",
       "      <td>0.0</td>\n",
       "      <td>United States</td>\n",
       "    </tr>\n",
       "    <tr>\n",
       "      <td>9</td>\n",
       "      <td>1970</td>\n",
       "      <td>1</td>\n",
       "      <td>3</td>\n",
       "      <td>United States</td>\n",
       "      <td>North America</td>\n",
       "      <td>Madison</td>\n",
       "      <td>Facility/Infrastructure Attack</td>\n",
       "      <td>Government (General)</td>\n",
       "      <td>Incendiary</td>\n",
       "      <td>0.0</td>\n",
       "      <td>United States</td>\n",
       "    </tr>\n",
       "  </tbody>\n",
       "</table>\n",
       "</div>"
      ],
      "text/plain": [
       "   iyear  imonth  iday         country_txt                   region_txt  \\\n",
       "0   1970       7     2  Dominican Republic  Central America & Caribbean   \n",
       "1   1970       0     0              Mexico                North America   \n",
       "2   1970       1     0         Philippines               Southeast Asia   \n",
       "3   1970       1     0              Greece               Western Europe   \n",
       "4   1970       1     0               Japan                    East Asia   \n",
       "5   1970       1     1       United States                North America   \n",
       "6   1970       1     2             Uruguay                South America   \n",
       "7   1970       1     2       United States                North America   \n",
       "8   1970       1     2       United States                North America   \n",
       "9   1970       1     3       United States                North America   \n",
       "\n",
       "            city                 attacktype1_txt                targtype1_txt  \\\n",
       "0  Santo Domingo                   Assassination  Private Citizens & Property   \n",
       "1    Mexico city     Hostage Taking (Kidnapping)      Government (Diplomatic)   \n",
       "2        Unknown                   Assassination          Journalists & Media   \n",
       "3         Athens               Bombing/Explosion      Government (Diplomatic)   \n",
       "4        Fukouka  Facility/Infrastructure Attack      Government (Diplomatic)   \n",
       "5          Cairo                   Armed Assault                       Police   \n",
       "6     Montevideo                   Assassination                       Police   \n",
       "7        Oakland               Bombing/Explosion                    Utilities   \n",
       "8        Madison  Facility/Infrastructure Attack                     Military   \n",
       "9        Madison  Facility/Infrastructure Attack         Government (General)   \n",
       "\n",
       "  weaptype1_txt  nkill         natlty1_txt  \n",
       "0       Unknown    1.0  Dominican Republic  \n",
       "1       Unknown    0.0             Belgium  \n",
       "2       Unknown    1.0       United States  \n",
       "3    Explosives    NaN       United States  \n",
       "4    Incendiary    NaN       United States  \n",
       "5      Firearms    0.0       United States  \n",
       "6      Firearms    0.0             Uruguay  \n",
       "7    Explosives    0.0       United States  \n",
       "8    Incendiary    0.0       United States  \n",
       "9    Incendiary    0.0       United States  "
      ]
     },
     "execution_count": 39,
     "metadata": {},
     "output_type": "execute_result"
    }
   ],
   "source": [
    "df2.head(10)"
   ]
  },
  {
   "cell_type": "code",
   "execution_count": 37,
   "metadata": {},
   "outputs": [
    {
     "data": {
      "text/plain": [
       "array(['Assassination', 'Hostage Taking (Kidnapping)',\n",
       "       'Bombing/Explosion', 'Facility/Infrastructure Attack',\n",
       "       'Armed Assault', 'Hijacking', 'Unknown', 'Unarmed Assault',\n",
       "       'Hostage Taking (Barricade Incident)'], dtype=object)"
      ]
     },
     "execution_count": 37,
     "metadata": {},
     "output_type": "execute_result"
    }
   ],
   "source": [
    "df.attacktype1_txt.unique()"
   ]
  },
  {
   "cell_type": "code",
   "execution_count": 56,
   "metadata": {},
   "outputs": [
    {
     "data": {
      "text/plain": [
       "iyear                int64\n",
       "imonth               int64\n",
       "iday                 int64\n",
       "country_txt         object\n",
       "region_txt          object\n",
       "city                object\n",
       "attacktype1_txt     object\n",
       "targtype1_txt       object\n",
       "weaptype1_txt       object\n",
       "nkill              float64\n",
       "natlty1_txt         object\n",
       "dtype: object"
      ]
     },
     "execution_count": 56,
     "metadata": {},
     "output_type": "execute_result"
    }
   ],
   "source": [
    "df2.dtypes"
   ]
  },
  {
   "cell_type": "code",
   "execution_count": 41,
   "metadata": {},
   "outputs": [],
   "source": [
    "df3=df2.dropna()"
   ]
  },
  {
   "cell_type": "code",
   "execution_count": 79,
   "metadata": {},
   "outputs": [],
   "source": [
    "df4=df3[['iyear','nkill']]"
   ]
  },
  {
   "cell_type": "code",
   "execution_count": 83,
   "metadata": {},
   "outputs": [],
   "source": [
    "x=df4.groupby(df4.iyear).count()\n",
    "#set_index(['iyear','nkill']).count(level='iyear')"
   ]
  },
  {
   "cell_type": "code",
   "execution_count": 84,
   "metadata": {},
   "outputs": [
    {
     "data": {
      "text/plain": [
       "[<matplotlib.lines.Line2D at 0x7ffa4bf87210>]"
      ]
     },
     "execution_count": 84,
     "metadata": {},
     "output_type": "execute_result"
    },
    {
     "data": {
      "image/png": "[encoded data removed]",
      "text/plain": [
       "<Figure size 432x288 with 1 Axes>"
      ]
     },
     "metadata": {
      "needs_background": "light"
     },
     "output_type": "display_data"
    }
   ],
   "source": [
    "plt.plot(x) #ilośc wystąpień"
   ]
  },
  {
   "cell_type": "code",
   "execution_count": 59,
   "metadata": {},
   "outputs": [],
   "source": [
    "y=df3.groupby(df3.iyear)['nkill'].sum(axis=1)"
   ]
  },
  {
   "cell_type": "code",
   "execution_count": 60,
   "metadata": {},
   "outputs": [
    {
     "data": {
      "text/plain": [
       "[<matplotlib.lines.Line2D at 0x7ffa4f6fa490>]"
      ]
     },
     "execution_count": 60,
     "metadata": {},
     "output_type": "execute_result"
    },
    {
     "data": {
      "image/png": "[encoded data removed]",
      "text/plain": [
       "<Figure size 432x288 with 1 Axes>"
      ]
     },
     "metadata": {
      "needs_background": "light"
     },
     "output_type": "display_data"
    }
   ],
   "source": [
    "plt.plot(y) #ilośc ofiar"
   ]
  },
  {
   "cell_type": "code",
   "execution_count": null,
   "metadata": {},
   "outputs": [],
   "source": [
    "#liczba odiar przez liczbe zdarzeń \n",
    "y=df3.groupby(df3.iyear)['nkill'].sum(axis=1)"
   ]
  },
  {
   "cell_type": "code",
   "execution_count": 86,
   "metadata": {},
   "outputs": [],
   "source": [
    "z=x.merge(y, left_on='iyear', right_on='iyear')"
   ]
  },
  {
   "cell_type": "code",
   "execution_count": 88,
   "metadata": {},
   "outputs": [],
   "source": [
    "z['ile_os_avg']=z.nkill_y/z.nkill_x"
   ]
  },
  {
   "cell_type": "code",
   "execution_count": 91,
   "metadata": {},
   "outputs": [
    {
     "name": "stdout",
     "output_type": "stream",
     "text": [
      "<class 'pandas.core.frame.DataFrame'>\n",
      "Int64Index: 47 entries, 1970 to 2017\n",
      "Data columns (total 3 columns):\n",
      "nkill_x       47 non-null int64\n",
      "nkill_y       47 non-null float64\n",
      "ile_os_avg    47 non-null float64\n",
      "dtypes: float64(2), int64(1)\n",
      "memory usage: 1.5 KB\n"
     ]
    }
   ],
   "source": [
    "z.info()"
   ]
  },
  {
   "cell_type": "code",
   "execution_count": 96,
   "metadata": {},
   "outputs": [
    {
     "data": {
      "text/plain": [
       "[<matplotlib.lines.Line2D at 0x7ffa4bd06f90>]"
      ]
     },
     "execution_count": 96,
     "metadata": {},
     "output_type": "execute_result"
    },
    {
     "data": {
      "image/png": "[encoded data removed]",
      "text/plain": [
       "<Figure size 432x288 with 1 Axes>"
      ]
     },
     "metadata": {
      "needs_background": "light"
     },
     "output_type": "display_data"
    }
   ],
   "source": [
    "x=z.index.values\n",
    "y=z.ile_os_avg\n",
    "plt.plot(x,y)"
   ]
  },
  {
   "cell_type": "code",
   "execution_count": 93,
   "metadata": {},
   "outputs": [
    {
     "ename": "AttributeError",
     "evalue": "'DataFrame' object has no attribute 'iyear'",
     "output_type": "error",
     "traceback": [
      "\u001b[0;31m---------------------------------------------------------------------------\u001b[0m",
      "\u001b[0;31mAttributeError\u001b[0m                            Traceback (most recent call last)",
      "\u001b[0;32m<ipython-input-93-10b61d1acb1c>\u001b[0m in \u001b[0;36m<module>\u001b[0;34m\u001b[0m\n\u001b[0;32m----> 1\u001b[0;31m \u001b[0mz\u001b[0m\u001b[0;34m=\u001b[0m\u001b[0mz\u001b[0m\u001b[0;34m.\u001b[0m\u001b[0mgroupby\u001b[0m\u001b[0;34m(\u001b[0m\u001b[0mz\u001b[0m\u001b[0;34m.\u001b[0m\u001b[0miyear\u001b[0m\u001b[0;34m,\u001b[0m\u001b[0mas_index\u001b[0m\u001b[0;34m=\u001b[0m \u001b[0;32mFalse\u001b[0m\u001b[0;34m)\u001b[0m\u001b[0;34m[\u001b[0m\u001b[0;34m'ile_os_avg'\u001b[0m\u001b[0;34m]\u001b[0m\u001b[0;34m.\u001b[0m\u001b[0msum\u001b[0m\u001b[0;34m(\u001b[0m\u001b[0maxis\u001b[0m\u001b[0;34m=\u001b[0m\u001b[0;36m1\u001b[0m\u001b[0;34m)\u001b[0m\u001b[0;34m\u001b[0m\u001b[0;34m\u001b[0m\u001b[0m\n\u001b[0m",
      "\u001b[0;32m~/anaconda3/lib/python3.7/site-packages/pandas/core/generic.py\u001b[0m in \u001b[0;36m__getattr__\u001b[0;34m(self, name)\u001b[0m\n\u001b[1;32m   5177\u001b[0m             \u001b[0;32mif\u001b[0m \u001b[0mself\u001b[0m\u001b[0;34m.\u001b[0m\u001b[0m_info_axis\u001b[0m\u001b[0;34m.\u001b[0m\u001b[0m_can_hold_identifiers_and_holds_name\u001b[0m\u001b[0;34m(\u001b[0m\u001b[0mname\u001b[0m\u001b[0;34m)\u001b[0m\u001b[0;34m:\u001b[0m\u001b[0;34m\u001b[0m\u001b[0;34m\u001b[0m\u001b[0m\n\u001b[1;32m   5178\u001b[0m                 \u001b[0;32mreturn\u001b[0m \u001b[0mself\u001b[0m\u001b[0;34m[\u001b[0m\u001b[0mname\u001b[0m\u001b[0;34m]\u001b[0m\u001b[0;34m\u001b[0m\u001b[0;34m\u001b[0m\u001b[0m\n\u001b[0;32m-> 5179\u001b[0;31m             \u001b[0;32mreturn\u001b[0m \u001b[0mobject\u001b[0m\u001b[0;34m.\u001b[0m\u001b[0m__getattribute__\u001b[0m\u001b[0;34m(\u001b[0m\u001b[0mself\u001b[0m\u001b[0;34m,\u001b[0m \u001b[0mname\u001b[0m\u001b[0;34m)\u001b[0m\u001b[0;34m\u001b[0m\u001b[0;34m\u001b[0m\u001b[0m\n\u001b[0m\u001b[1;32m   5180\u001b[0m \u001b[0;34m\u001b[0m\u001b[0m\n\u001b[1;32m   5181\u001b[0m     \u001b[0;32mdef\u001b[0m \u001b[0m__setattr__\u001b[0m\u001b[0;34m(\u001b[0m\u001b[0mself\u001b[0m\u001b[0;34m,\u001b[0m \u001b[0mname\u001b[0m\u001b[0;34m,\u001b[0m \u001b[0mvalue\u001b[0m\u001b[0;34m)\u001b[0m\u001b[0;34m:\u001b[0m\u001b[0;34m\u001b[0m\u001b[0;34m\u001b[0m\u001b[0m\n",
      "\u001b[0;31mAttributeError\u001b[0m: 'DataFrame' object has no attribute 'iyear'"
     ]
    }
   ],
   "source": [
    "z=z.groupby(z.iyear,as_index= False)['ile_os_avg'].sum(axis=1)"
   ]
  },
  {
   "cell_type": "code",
   "execution_count": 68,
   "metadata": {
    "collapsed": true
   },
   "outputs": [
    {
     "data": {
      "text/plain": [
       "[0.0,\n",
       " 1.0,\n",
       " 2.0,\n",
       " 3.0,\n",
       " 4.0,\n",
       " 5.0,\n",
       " 6.0,\n",
       " 7.0,\n",
       " 8.0,\n",
       " 9.0,\n",
       " 10.0,\n",
       " 11.0,\n",
       " 12.0,\n",
       " 13.0,\n",
       " 14.0,\n",
       " 15.0,\n",
       " 16.0,\n",
       " 17.0,\n",
       " 18.0,\n",
       " 19.0,\n",
       " 20.0,\n",
       " 21.0,\n",
       " 22.0,\n",
       " 23.0,\n",
       " 24.0,\n",
       " 25.0,\n",
       " 26.0,\n",
       " 27.0,\n",
       " 28.0,\n",
       " 29.0,\n",
       " 30.0,\n",
       " 31.0,\n",
       " 32.0,\n",
       " 33.0,\n",
       " 34.0,\n",
       " 35.0,\n",
       " 36.0,\n",
       " 37.0,\n",
       " 38.0,\n",
       " 39.0,\n",
       " 40.0,\n",
       " 41.0,\n",
       " 42.0,\n",
       " 43.0,\n",
       " 44.0,\n",
       " 45.0,\n",
       " 46.0,\n",
       " 47.0,\n",
       " 48.0,\n",
       " 49.0,\n",
       " 50.0,\n",
       " 51.0,\n",
       " 52.0,\n",
       " 53.0,\n",
       " 54.0,\n",
       " 55.0,\n",
       " 56.0,\n",
       " 57.0,\n",
       " 58.0,\n",
       " 59.0,\n",
       " 60.0,\n",
       " 61.0,\n",
       " 62.0,\n",
       " 63.0,\n",
       " 64.0,\n",
       " 65.0,\n",
       " 66.0,\n",
       " 67.0,\n",
       " 68.0,\n",
       " 69.0,\n",
       " 70.0,\n",
       " 71.0,\n",
       " 72.0,\n",
       " 73.0,\n",
       " 74.0,\n",
       " 75.0,\n",
       " 76.0,\n",
       " 77.0,\n",
       " 78.0,\n",
       " 79.0,\n",
       " 80.0,\n",
       " 81.0,\n",
       " 82.0,\n",
       " 83.0,\n",
       " 84.0,\n",
       " 85.0,\n",
       " 86.0,\n",
       " 87.0,\n",
       " 88.0,\n",
       " 89.0,\n",
       " 90.0,\n",
       " 91.0,\n",
       " 92.0,\n",
       " 93.0,\n",
       " 94.0,\n",
       " 95.0,\n",
       " 96.0,\n",
       " 97.0,\n",
       " 98.0,\n",
       " 100.0,\n",
       " 101.0,\n",
       " 102.0,\n",
       " 103.0,\n",
       " 104.0,\n",
       " 105.0,\n",
       " 106.0,\n",
       " 107.0,\n",
       " 108.0,\n",
       " 109.0,\n",
       " 110.0,\n",
       " 111.0,\n",
       " 112.0,\n",
       " 114.0,\n",
       " 115.0,\n",
       " 116.0,\n",
       " 117.0,\n",
       " 118.0,\n",
       " 119.0,\n",
       " 120.0,\n",
       " 121.0,\n",
       " 122.0,\n",
       " 123.0,\n",
       " 124.0,\n",
       " 126.0,\n",
       " 127.0,\n",
       " 128.0,\n",
       " 129.0,\n",
       " 130.0,\n",
       " 132.0,\n",
       " 133.0,\n",
       " 134.0,\n",
       " 135.0,\n",
       " 136.0,\n",
       " 140.0,\n",
       " 141.0,\n",
       " 142.0,\n",
       " 143.0,\n",
       " 144.0,\n",
       " 145.0,\n",
       " 146.0,\n",
       " 150.0,\n",
       " 151.0,\n",
       " 152.0,\n",
       " 153.0,\n",
       " 154.0,\n",
       " 1180.0,\n",
       " 670.0,\n",
       " 158.0,\n",
       " 160.0,\n",
       " 163.0,\n",
       " 165.0,\n",
       " 168.0,\n",
       " 170.0,\n",
       " 171.0,\n",
       " 174.0,\n",
       " 180.0,\n",
       " 184.0,\n",
       " 188.0,\n",
       " 190.0,\n",
       " 200.0,\n",
       " 201.0,\n",
       " 205.0,\n",
       " 206.0,\n",
       " 208.0,\n",
       " 210.0,\n",
       " 517.0,\n",
       " 212.0,\n",
       " 1570.0,\n",
       " 224.0,\n",
       " 227.0,\n",
       " 228.0,\n",
       " 230.0,\n",
       " 518.0,\n",
       " 240.0,\n",
       " 241.0,\n",
       " 250.0,\n",
       " 256.0,\n",
       " 259.0,\n",
       " 266.0,\n",
       " 270.0,\n",
       " 271.0,\n",
       " 275.0,\n",
       " 280.0,\n",
       " 283.0,\n",
       " 284.0,\n",
       " 287.0,\n",
       " 298.0,\n",
       " 300.0,\n",
       " 304.0,\n",
       " 310.0,\n",
       " 311.0,\n",
       " 315.0,\n",
       " 320.0,\n",
       " 329.0,\n",
       " 344.0,\n",
       " 1383.0,\n",
       " 1384.0,\n",
       " 375.0,\n",
       " 383.0,\n",
       " 388.0,\n",
       " 588.0,\n",
       " 400.0,\n",
       " 422.0,\n",
       " 433.0,\n",
       " 953.0]"
      ]
     },
     "execution_count": 68,
     "metadata": {},
     "output_type": "execute_result"
    }
   ],
   "source": [
    "lista=df3.nkill.values\n",
    "list(set(lista))"
   ]
  },
  {
   "cell_type": "code",
   "execution_count": 57,
   "metadata": {
    "collapsed": true
   },
   "outputs": [
    {
     "data": {
      "text/plain": [
       "iyear\n",
       "1970      174.0\n",
       "1971      173.0\n",
       "1972      566.0\n",
       "1973      369.0\n",
       "1974      539.0\n",
       "1975      609.0\n",
       "1976      666.0\n",
       "1977      455.0\n",
       "1978     1459.0\n",
       "1979     2095.0\n",
       "1980     4398.0\n",
       "1981     4850.0\n",
       "1982     5135.0\n",
       "1983     9429.0\n",
       "1984    10445.0\n",
       "1985     7068.0\n",
       "1986     4883.0\n",
       "1987     6399.0\n",
       "1988     7204.0\n",
       "1989     8129.0\n",
       "1990     7147.0\n",
       "1991     8391.0\n",
       "1992     9570.0\n",
       "1994     7580.0\n",
       "1995     5989.0\n",
       "1996     6904.0\n",
       "1997    10805.0\n",
       "1998     4688.0\n",
       "1999     3389.0\n",
       "2000     4394.0\n",
       "2001     7720.0\n",
       "2002     4805.0\n",
       "2003     3305.0\n",
       "2004     5738.0\n",
       "2005     6307.0\n",
       "2006     9310.0\n",
       "2007    12787.0\n",
       "2008     8999.0\n",
       "2009     9030.0\n",
       "2010     7735.0\n",
       "2011     8128.0\n",
       "2012    15369.0\n",
       "2013    22158.0\n",
       "2014    44221.0\n",
       "2015    38731.0\n",
       "2016    34702.0\n",
       "2017    26277.0\n",
       "Name: nkill, dtype: float64"
      ]
     },
     "execution_count": 57,
     "metadata": {},
     "output_type": "execute_result"
    }
   ],
   "source": [
    "y"
   ]
  },
  {
   "cell_type": "code",
   "execution_count": 58,
   "metadata": {
    "collapsed": true
   },
   "outputs": [
    {
     "data": {
      "text/plain": [
       "iyear\n",
       "1970      174.0\n",
       "1971      173.0\n",
       "1972      566.0\n",
       "1973      369.0\n",
       "1974      539.0\n",
       "1975      609.0\n",
       "1976      666.0\n",
       "1977      455.0\n",
       "1978     1459.0\n",
       "1979     2095.0\n",
       "1980     4398.0\n",
       "1981     4850.0\n",
       "1982     5135.0\n",
       "1983     9429.0\n",
       "1984    10445.0\n",
       "1985     7068.0\n",
       "1986     4883.0\n",
       "1987     6399.0\n",
       "1988     7204.0\n",
       "1989     8129.0\n",
       "1990     7147.0\n",
       "1991     8391.0\n",
       "1992     9570.0\n",
       "1994     7580.0\n",
       "1995     5989.0\n",
       "1996     6904.0\n",
       "1997    10805.0\n",
       "1998     4688.0\n",
       "1999     3389.0\n",
       "2000     4394.0\n",
       "2001     7720.0\n",
       "2002     4805.0\n",
       "2003     3305.0\n",
       "2004     5738.0\n",
       "2005     6307.0\n",
       "2006     9310.0\n",
       "2007    12787.0\n",
       "2008     8999.0\n",
       "2009     9030.0\n",
       "2010     7735.0\n",
       "2011     8128.0\n",
       "2012    15369.0\n",
       "2013    22158.0\n",
       "2014    44221.0\n",
       "2015    38731.0\n",
       "2016    34702.0\n",
       "2017    26277.0\n",
       "Name: nkill, dtype: float64"
      ]
     },
     "execution_count": 58,
     "metadata": {},
     "output_type": "execute_result"
    }
   ],
   "source": [
    "x"
   ]
  },
  {
   "cell_type": "code",
   "execution_count": null,
   "metadata": {},
   "outputs": [],
   "source": []
  }
 ],
 "metadata": {
  "kernelspec": {
   "display_name": "Python 3",
   "language": "python",
   "name": "python3"
  },
  "language_info": {
   "codemirror_mode": {
    "name": "ipython",
    "version": 3
   },
   "file_extension": ".py",
   "mimetype": "text/x-python",
   "name": "python",
   "nbconvert_exporter": "python",
   "pygments_lexer": "ipython3",
   "version": "3.7.4"
  }
 },
 "nbformat": 4,
 "nbformat_minor": 2
}
