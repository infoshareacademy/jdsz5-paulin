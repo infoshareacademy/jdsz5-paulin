{
 "cells": [
  {
   "cell_type": "code",
   "execution_count": 1,
   "metadata": {},
   "outputs": [],
   "source": [
    "import pandas as pd\n",
    "import numpy as np\n",
    "import matplotlib.pyplot as plt\n",
    "import scipy as sp \n",
    "import seaborn as sns\n",
    "import itertools\n",
    "import scipy.stats as ssp\n",
    "%matplotlib inline\n",
    "import seaborn as sns\n",
    "import scipy.stats as st\n",
    "import pylab"
   ]
  },
  {
   "cell_type": "code",
   "execution_count": 2,
   "metadata": {
    "scrolled": false
   },
   "outputs": [
    {
     "name": "stderr",
     "output_type": "stream",
     "text": [
      "C:\\Users\\48500\\Anaconda3\\lib\\site-packages\\IPython\\core\\interactiveshell.py:3058: DtypeWarning: Columns (4,6,31,33,61,62,63,76,79,90,92,94,96,114,115,121) have mixed types. Specify dtype option on import or set low_memory=False.\n",
      "  interactivity=interactivity, compiler=compiler, result=result)\n"
     ]
    }
   ],
   "source": [
    "df=pd.read_csv('globalterrorismdb_0718dist.csv',encoding='ISO-8859-1')"
   ]
  },
  {
   "cell_type": "code",
   "execution_count": 3,
   "metadata": {},
   "outputs": [],
   "source": [
    "df2=df[['iyear','imonth','iday','country_txt','region_txt','city','attacktype1_txt','targtype1_txt','weaptype1_txt','nkill','natlty1_txt']]"
   ]
  },
  {
   "cell_type": "code",
   "execution_count": 4,
   "metadata": {},
   "outputs": [],
   "source": [
    "df3 = df2.dropna()"
   ]
  },
  {
   "cell_type": "code",
   "execution_count": 5,
   "metadata": {},
   "outputs": [
    {
     "data": {
      "text/html": [
       "<div>\n",
       "<style scoped>\n",
       "    .dataframe tbody tr th:only-of-type {\n",
       "        vertical-align: middle;\n",
       "    }\n",
       "\n",
       "    .dataframe tbody tr th {\n",
       "        vertical-align: top;\n",
       "    }\n",
       "\n",
       "    .dataframe thead th {\n",
       "        text-align: right;\n",
       "    }\n",
       "</style>\n",
       "<table border=\"1\" class=\"dataframe\">\n",
       "  <thead>\n",
       "    <tr style=\"text-align: right;\">\n",
       "      <th></th>\n",
       "      <th>iyear</th>\n",
       "      <th>imonth</th>\n",
       "      <th>iday</th>\n",
       "      <th>country_txt</th>\n",
       "      <th>region_txt</th>\n",
       "      <th>city</th>\n",
       "      <th>attacktype1_txt</th>\n",
       "      <th>targtype1_txt</th>\n",
       "      <th>weaptype1_txt</th>\n",
       "      <th>nkill</th>\n",
       "      <th>natlty1_txt</th>\n",
       "    </tr>\n",
       "  </thead>\n",
       "  <tbody>\n",
       "    <tr>\n",
       "      <td>0</td>\n",
       "      <td>1970</td>\n",
       "      <td>7</td>\n",
       "      <td>2</td>\n",
       "      <td>Dominican Republic</td>\n",
       "      <td>Central America &amp; Caribbean</td>\n",
       "      <td>Santo Domingo</td>\n",
       "      <td>Assassination</td>\n",
       "      <td>Private Citizens &amp; Property</td>\n",
       "      <td>Unknown</td>\n",
       "      <td>1.0</td>\n",
       "      <td>Dominican Republic</td>\n",
       "    </tr>\n",
       "    <tr>\n",
       "      <td>1</td>\n",
       "      <td>1970</td>\n",
       "      <td>0</td>\n",
       "      <td>0</td>\n",
       "      <td>Mexico</td>\n",
       "      <td>North America</td>\n",
       "      <td>Mexico city</td>\n",
       "      <td>Hostage Taking (Kidnapping)</td>\n",
       "      <td>Government (Diplomatic)</td>\n",
       "      <td>Unknown</td>\n",
       "      <td>0.0</td>\n",
       "      <td>Belgium</td>\n",
       "    </tr>\n",
       "    <tr>\n",
       "      <td>2</td>\n",
       "      <td>1970</td>\n",
       "      <td>1</td>\n",
       "      <td>0</td>\n",
       "      <td>Philippines</td>\n",
       "      <td>Southeast Asia</td>\n",
       "      <td>Unknown</td>\n",
       "      <td>Assassination</td>\n",
       "      <td>Journalists &amp; Media</td>\n",
       "      <td>Unknown</td>\n",
       "      <td>1.0</td>\n",
       "      <td>United States</td>\n",
       "    </tr>\n",
       "    <tr>\n",
       "      <td>5</td>\n",
       "      <td>1970</td>\n",
       "      <td>1</td>\n",
       "      <td>1</td>\n",
       "      <td>United States</td>\n",
       "      <td>North America</td>\n",
       "      <td>Cairo</td>\n",
       "      <td>Armed Assault</td>\n",
       "      <td>Police</td>\n",
       "      <td>Firearms</td>\n",
       "      <td>0.0</td>\n",
       "      <td>United States</td>\n",
       "    </tr>\n",
       "    <tr>\n",
       "      <td>6</td>\n",
       "      <td>1970</td>\n",
       "      <td>1</td>\n",
       "      <td>2</td>\n",
       "      <td>Uruguay</td>\n",
       "      <td>South America</td>\n",
       "      <td>Montevideo</td>\n",
       "      <td>Assassination</td>\n",
       "      <td>Police</td>\n",
       "      <td>Firearms</td>\n",
       "      <td>0.0</td>\n",
       "      <td>Uruguay</td>\n",
       "    </tr>\n",
       "    <tr>\n",
       "      <td>...</td>\n",
       "      <td>...</td>\n",
       "      <td>...</td>\n",
       "      <td>...</td>\n",
       "      <td>...</td>\n",
       "      <td>...</td>\n",
       "      <td>...</td>\n",
       "      <td>...</td>\n",
       "      <td>...</td>\n",
       "      <td>...</td>\n",
       "      <td>...</td>\n",
       "      <td>...</td>\n",
       "    </tr>\n",
       "    <tr>\n",
       "      <td>181686</td>\n",
       "      <td>2017</td>\n",
       "      <td>12</td>\n",
       "      <td>31</td>\n",
       "      <td>Somalia</td>\n",
       "      <td>Sub-Saharan Africa</td>\n",
       "      <td>Ceelka Geelow</td>\n",
       "      <td>Armed Assault</td>\n",
       "      <td>Military</td>\n",
       "      <td>Firearms</td>\n",
       "      <td>1.0</td>\n",
       "      <td>Somalia</td>\n",
       "    </tr>\n",
       "    <tr>\n",
       "      <td>181687</td>\n",
       "      <td>2017</td>\n",
       "      <td>12</td>\n",
       "      <td>31</td>\n",
       "      <td>Syria</td>\n",
       "      <td>Middle East &amp; North Africa</td>\n",
       "      <td>Jableh</td>\n",
       "      <td>Bombing/Explosion</td>\n",
       "      <td>Military</td>\n",
       "      <td>Explosives</td>\n",
       "      <td>2.0</td>\n",
       "      <td>Russia</td>\n",
       "    </tr>\n",
       "    <tr>\n",
       "      <td>181688</td>\n",
       "      <td>2017</td>\n",
       "      <td>12</td>\n",
       "      <td>31</td>\n",
       "      <td>Philippines</td>\n",
       "      <td>Southeast Asia</td>\n",
       "      <td>Kubentog</td>\n",
       "      <td>Facility/Infrastructure Attack</td>\n",
       "      <td>Private Citizens &amp; Property</td>\n",
       "      <td>Incendiary</td>\n",
       "      <td>0.0</td>\n",
       "      <td>Philippines</td>\n",
       "    </tr>\n",
       "    <tr>\n",
       "      <td>181689</td>\n",
       "      <td>2017</td>\n",
       "      <td>12</td>\n",
       "      <td>31</td>\n",
       "      <td>India</td>\n",
       "      <td>South Asia</td>\n",
       "      <td>Imphal</td>\n",
       "      <td>Bombing/Explosion</td>\n",
       "      <td>Government (General)</td>\n",
       "      <td>Explosives</td>\n",
       "      <td>0.0</td>\n",
       "      <td>India</td>\n",
       "    </tr>\n",
       "    <tr>\n",
       "      <td>181690</td>\n",
       "      <td>2017</td>\n",
       "      <td>12</td>\n",
       "      <td>31</td>\n",
       "      <td>Philippines</td>\n",
       "      <td>Southeast Asia</td>\n",
       "      <td>Cotabato City</td>\n",
       "      <td>Bombing/Explosion</td>\n",
       "      <td>Unknown</td>\n",
       "      <td>Explosives</td>\n",
       "      <td>0.0</td>\n",
       "      <td>Philippines</td>\n",
       "    </tr>\n",
       "  </tbody>\n",
       "</table>\n",
       "<p>169422 rows × 11 columns</p>\n",
       "</div>"
      ],
      "text/plain": [
       "        iyear  imonth  iday         country_txt                   region_txt  \\\n",
       "0        1970       7     2  Dominican Republic  Central America & Caribbean   \n",
       "1        1970       0     0              Mexico                North America   \n",
       "2        1970       1     0         Philippines               Southeast Asia   \n",
       "5        1970       1     1       United States                North America   \n",
       "6        1970       1     2             Uruguay                South America   \n",
       "...       ...     ...   ...                 ...                          ...   \n",
       "181686   2017      12    31             Somalia           Sub-Saharan Africa   \n",
       "181687   2017      12    31               Syria   Middle East & North Africa   \n",
       "181688   2017      12    31         Philippines               Southeast Asia   \n",
       "181689   2017      12    31               India                   South Asia   \n",
       "181690   2017      12    31         Philippines               Southeast Asia   \n",
       "\n",
       "                 city                 attacktype1_txt  \\\n",
       "0       Santo Domingo                   Assassination   \n",
       "1         Mexico city     Hostage Taking (Kidnapping)   \n",
       "2             Unknown                   Assassination   \n",
       "5               Cairo                   Armed Assault   \n",
       "6          Montevideo                   Assassination   \n",
       "...               ...                             ...   \n",
       "181686  Ceelka Geelow                   Armed Assault   \n",
       "181687         Jableh               Bombing/Explosion   \n",
       "181688       Kubentog  Facility/Infrastructure Attack   \n",
       "181689         Imphal               Bombing/Explosion   \n",
       "181690  Cotabato City               Bombing/Explosion   \n",
       "\n",
       "                      targtype1_txt weaptype1_txt  nkill         natlty1_txt  \n",
       "0       Private Citizens & Property       Unknown    1.0  Dominican Republic  \n",
       "1           Government (Diplomatic)       Unknown    0.0             Belgium  \n",
       "2               Journalists & Media       Unknown    1.0       United States  \n",
       "5                            Police      Firearms    0.0       United States  \n",
       "6                            Police      Firearms    0.0             Uruguay  \n",
       "...                             ...           ...    ...                 ...  \n",
       "181686                     Military      Firearms    1.0             Somalia  \n",
       "181687                     Military    Explosives    2.0              Russia  \n",
       "181688  Private Citizens & Property    Incendiary    0.0         Philippines  \n",
       "181689         Government (General)    Explosives    0.0               India  \n",
       "181690                      Unknown    Explosives    0.0         Philippines  \n",
       "\n",
       "[169422 rows x 11 columns]"
      ]
     },
     "execution_count": 5,
     "metadata": {},
     "output_type": "execute_result"
    }
   ],
   "source": [
    "df3"
   ]
  },
  {
   "cell_type": "code",
   "execution_count": 6,
   "metadata": {},
   "outputs": [],
   "source": [
    "# PRAWDOPODOBIEŃSTWO WYSTĄPIENIA DANEGO TYPU ATAKU TERRORYSTYCZNEGO W REGIONIE Middle East & North Africa"
   ]
  },
  {
   "cell_type": "code",
   "execution_count": 7,
   "metadata": {},
   "outputs": [
    {
     "name": "stderr",
     "output_type": "stream",
     "text": [
      "C:\\Users\\48500\\Anaconda3\\lib\\site-packages\\ipykernel_launcher.py:3: FutureWarning: \n",
      ".ix is deprecated. Please use\n",
      ".loc for label based indexing or\n",
      ".iloc for positional indexing\n",
      "\n",
      "See the documentation here:\n",
      "http://pandas.pydata.org/pandas-docs/stable/user_guide/indexing.html#ix-indexer-is-deprecated\n",
      "  This is separate from the ipykernel package so we can avoid doing imports until\n"
     ]
    }
   ],
   "source": [
    "# dane region i rodzaju ataku\n",
    "a1 = (df3.region_txt == 'Middle East & North Africa') & (df3.attacktype1_txt == 'Armed Assault') & (df3.nkill > 100)\n",
    "w1 = df3.ix[a1]"
   ]
  },
  {
   "cell_type": "code",
   "execution_count": 8,
   "metadata": {
    "scrolled": false
   },
   "outputs": [
    {
     "name": "stderr",
     "output_type": "stream",
     "text": [
      "C:\\Users\\48500\\Anaconda3\\lib\\site-packages\\ipykernel_launcher.py:3: FutureWarning: \n",
      ".ix is deprecated. Please use\n",
      ".loc for label based indexing or\n",
      ".iloc for positional indexing\n",
      "\n",
      "See the documentation here:\n",
      "http://pandas.pydata.org/pandas-docs/stable/user_guide/indexing.html#ix-indexer-is-deprecated\n",
      "  This is separate from the ipykernel package so we can avoid doing imports until\n"
     ]
    }
   ],
   "source": [
    "# dane region i rodzaju ataku\n",
    "a2 = (df3.region_txt == 'Middle East & North Africa') & (df3.attacktype1_txt == 'Assassination')  & (df3.nkill > 100)\n",
    "w2 = df3.ix[a2]"
   ]
  },
  {
   "cell_type": "code",
   "execution_count": 9,
   "metadata": {},
   "outputs": [
    {
     "name": "stderr",
     "output_type": "stream",
     "text": [
      "C:\\Users\\48500\\Anaconda3\\lib\\site-packages\\ipykernel_launcher.py:4: FutureWarning: \n",
      ".ix is deprecated. Please use\n",
      ".loc for label based indexing or\n",
      ".iloc for positional indexing\n",
      "\n",
      "See the documentation here:\n",
      "http://pandas.pydata.org/pandas-docs/stable/user_guide/indexing.html#ix-indexer-is-deprecated\n",
      "  after removing the cwd from sys.path.\n"
     ]
    }
   ],
   "source": [
    "# dane region i rodzaj ataku\n",
    "a3 = (df3.region_txt == 'Middle East & North Africa') & (df3.attacktype1_txt == 'Bombing/Explosion')  & (df3.nkill > 100)\n",
    "# & (df3.nkill > 100)\n",
    "w3 = df3.ix[a3]"
   ]
  },
  {
   "cell_type": "code",
   "execution_count": 10,
   "metadata": {},
   "outputs": [
    {
     "name": "stderr",
     "output_type": "stream",
     "text": [
      "C:\\Users\\48500\\Anaconda3\\lib\\site-packages\\ipykernel_launcher.py:3: FutureWarning: \n",
      ".ix is deprecated. Please use\n",
      ".loc for label based indexing or\n",
      ".iloc for positional indexing\n",
      "\n",
      "See the documentation here:\n",
      "http://pandas.pydata.org/pandas-docs/stable/user_guide/indexing.html#ix-indexer-is-deprecated\n",
      "  This is separate from the ipykernel package so we can avoid doing imports until\n"
     ]
    }
   ],
   "source": [
    "# dane region i\n",
    "a4 = (df3.region_txt == 'Middle East & North Africa') & (df3.attacktype1_txt == 'Facility/Infrastructure Attack') & (df3.nkill > 100)\n",
    "w4 = df3.ix[a4]"
   ]
  },
  {
   "cell_type": "code",
   "execution_count": 11,
   "metadata": {
    "scrolled": false
   },
   "outputs": [
    {
     "name": "stderr",
     "output_type": "stream",
     "text": [
      "C:\\Users\\48500\\Anaconda3\\lib\\site-packages\\ipykernel_launcher.py:3: FutureWarning: \n",
      ".ix is deprecated. Please use\n",
      ".loc for label based indexing or\n",
      ".iloc for positional indexing\n",
      "\n",
      "See the documentation here:\n",
      "http://pandas.pydata.org/pandas-docs/stable/user_guide/indexing.html#ix-indexer-is-deprecated\n",
      "  This is separate from the ipykernel package so we can avoid doing imports until\n"
     ]
    }
   ],
   "source": [
    "# dane region i\n",
    "a5 = (df3.region_txt == 'Middle East & North Africa') & (df3.attacktype1_txt == 'Hijacking') & (df3.nkill > 100)\n",
    "w5 = df3.ix[a5]"
   ]
  },
  {
   "cell_type": "code",
   "execution_count": 12,
   "metadata": {},
   "outputs": [
    {
     "name": "stderr",
     "output_type": "stream",
     "text": [
      "C:\\Users\\48500\\Anaconda3\\lib\\site-packages\\ipykernel_launcher.py:3: FutureWarning: \n",
      ".ix is deprecated. Please use\n",
      ".loc for label based indexing or\n",
      ".iloc for positional indexing\n",
      "\n",
      "See the documentation here:\n",
      "http://pandas.pydata.org/pandas-docs/stable/user_guide/indexing.html#ix-indexer-is-deprecated\n",
      "  This is separate from the ipykernel package so we can avoid doing imports until\n"
     ]
    }
   ],
   "source": [
    "# dane region i \n",
    "a6 = (df3.region_txt == 'Middle East & North Africa') & (df3.attacktype1_txt == 'Hostage Taking (Barricade Incident)') & (df3.nkill > 100)\n",
    "w6 = df3.ix[a6]"
   ]
  },
  {
   "cell_type": "code",
   "execution_count": 13,
   "metadata": {},
   "outputs": [
    {
     "name": "stderr",
     "output_type": "stream",
     "text": [
      "C:\\Users\\48500\\Anaconda3\\lib\\site-packages\\ipykernel_launcher.py:3: FutureWarning: \n",
      ".ix is deprecated. Please use\n",
      ".loc for label based indexing or\n",
      ".iloc for positional indexing\n",
      "\n",
      "See the documentation here:\n",
      "http://pandas.pydata.org/pandas-docs/stable/user_guide/indexing.html#ix-indexer-is-deprecated\n",
      "  This is separate from the ipykernel package so we can avoid doing imports until\n"
     ]
    }
   ],
   "source": [
    "# dane region i\n",
    "a7 = (df3.region_txt == 'Middle East & North Africa') & (df3.attacktype1_txt == 'Hostage Taking (Kidnapping)') & (df3.nkill > 100)\n",
    "w7 = df3.ix[a7]"
   ]
  },
  {
   "cell_type": "code",
   "execution_count": 14,
   "metadata": {},
   "outputs": [
    {
     "name": "stderr",
     "output_type": "stream",
     "text": [
      "C:\\Users\\48500\\Anaconda3\\lib\\site-packages\\ipykernel_launcher.py:3: FutureWarning: \n",
      ".ix is deprecated. Please use\n",
      ".loc for label based indexing or\n",
      ".iloc for positional indexing\n",
      "\n",
      "See the documentation here:\n",
      "http://pandas.pydata.org/pandas-docs/stable/user_guide/indexing.html#ix-indexer-is-deprecated\n",
      "  This is separate from the ipykernel package so we can avoid doing imports until\n"
     ]
    }
   ],
   "source": [
    "# dane region i\n",
    "a8 = (df3.region_txt == 'Middle East & North Africa') & (df3.attacktype1_txt == 'Unarmed Assault') & (df3.nkill > 100)\n",
    "w8 = df3.ix[a8]"
   ]
  },
  {
   "cell_type": "code",
   "execution_count": 15,
   "metadata": {},
   "outputs": [
    {
     "name": "stderr",
     "output_type": "stream",
     "text": [
      "C:\\Users\\48500\\Anaconda3\\lib\\site-packages\\ipykernel_launcher.py:3: FutureWarning: \n",
      ".ix is deprecated. Please use\n",
      ".loc for label based indexing or\n",
      ".iloc for positional indexing\n",
      "\n",
      "See the documentation here:\n",
      "http://pandas.pydata.org/pandas-docs/stable/user_guide/indexing.html#ix-indexer-is-deprecated\n",
      "  This is separate from the ipykernel package so we can avoid doing imports until\n"
     ]
    }
   ],
   "source": [
    "# dane region i \n",
    "a9 = (df3.region_txt == 'Middle East & North Africa') & (df3.attacktype1_txt == 'Unknown') & (df3.nkill > 100)\n",
    "w9 = df3.ix[a9]"
   ]
  },
  {
   "cell_type": "code",
   "execution_count": 16,
   "metadata": {},
   "outputs": [
    {
     "name": "stderr",
     "output_type": "stream",
     "text": [
      "C:\\Users\\48500\\Anaconda3\\lib\\site-packages\\ipykernel_launcher.py:2: FutureWarning: \n",
      ".ix is deprecated. Please use\n",
      ".loc for label based indexing or\n",
      ".iloc for positional indexing\n",
      "\n",
      "See the documentation here:\n",
      "http://pandas.pydata.org/pandas-docs/stable/user_guide/indexing.html#ix-indexer-is-deprecated\n",
      "  \n"
     ]
    }
   ],
   "source": [
    "a = (df3.region_txt == 'Middle East & North Africa') & (df3.nkill > 100)\n",
    "w = df3.ix[a]"
   ]
  },
  {
   "cell_type": "code",
   "execution_count": 17,
   "metadata": {},
   "outputs": [
    {
     "data": {
      "text/plain": [
       "region_txt\n",
       "Australasia & Oceania             150.0\n",
       "Central America & Caribbean     28670.0\n",
       "Central Asia                     1000.0\n",
       "East Asia                        1151.0\n",
       "Eastern Europe                   7393.0\n",
       "Middle East & North Africa     137345.0\n",
       "North America                    4913.0\n",
       "South America                   28738.0\n",
       "South Asia                      99909.0\n",
       "Southeast Asia                  15332.0\n",
       "Sub-Saharan Africa              77950.0\n",
       "Western Europe                   6673.0\n",
       "Name: nkill, dtype: float64"
      ]
     },
     "execution_count": 17,
     "metadata": {},
     "output_type": "execute_result"
    }
   ],
   "source": [
    "region = df3.groupby(df3.region_txt)['nkill'].sum()\n",
    "region"
   ]
  },
  {
   "cell_type": "code",
   "execution_count": 19,
   "metadata": {},
   "outputs": [
    {
     "name": "stdout",
     "output_type": "stream",
     "text": [
      "prawdopodobieństwo wystąpienia ataku terrorystycznego Armed Assault wyniosło: 0.119\n"
     ]
    }
   ],
   "source": [
    "#jakie prawdopodobieństwo wystapienia w regionie ataku Armed Assault\n",
    "p1 = w1.count()/w.count()\n",
    "p2 = p1.get('region_txt')\n",
    "print('prawdopodobieństwo wystąpienia ataku terrorystycznego Armed Assault wyniosło:',round(p2,3))"
   ]
  },
  {
   "cell_type": "code",
   "execution_count": 20,
   "metadata": {},
   "outputs": [
    {
     "name": "stdout",
     "output_type": "stream",
     "text": [
      "prawdopodobieństwo wystąpienia ataku terrorystycznego Assassination wyniosło: 0.0\n"
     ]
    }
   ],
   "source": [
    " #jakie prawdopodobieństwo wystapienia w regionie ataku Assassination\n",
    "p1 = w2.count()/w.count()\n",
    "p2 = p1.get('region_txt')\n",
    "print('prawdopodobieństwo wystąpienia ataku terrorystycznego Assassination wyniosło:',round(p2,3))"
   ]
  },
  {
   "cell_type": "code",
   "execution_count": 21,
   "metadata": {},
   "outputs": [
    {
     "name": "stdout",
     "output_type": "stream",
     "text": [
      "prawdopodobieństwo wystąpienia ataku terrorystycznego Bombing/Explosion wyniosło: 0.424\n"
     ]
    }
   ],
   "source": [
    "#jakie prawdopodobieństwo wystapienia w regionie ataku Bombing/Explosion\n",
    "p1 = w3.count()/w.count()\n",
    "p2 = p1.get('region_txt')\n",
    "print('prawdopodobieństwo wystąpienia ataku terrorystycznego Bombing/Explosion wyniosło:',round(p2,3))"
   ]
  },
  {
   "cell_type": "code",
   "execution_count": 22,
   "metadata": {},
   "outputs": [
    {
     "name": "stdout",
     "output_type": "stream",
     "text": [
      "prawdopodobieństwo wystąpienia ataku terrorystycznego Facility/Infrastructure Attack wyniosło: 0.017\n"
     ]
    }
   ],
   "source": [
    "#jakie prawdopodobieństwo wystapienia w regionie ataku Facility/Infrastructure Attack\n",
    "p1 = w4.count()/w.count()\n",
    "p2 = p1.get('region_txt')\n",
    "print('prawdopodobieństwo wystąpienia ataku terrorystycznego Facility/Infrastructure Attack wyniosło:',round(p2,3))"
   ]
  },
  {
   "cell_type": "code",
   "execution_count": 23,
   "metadata": {},
   "outputs": [
    {
     "name": "stdout",
     "output_type": "stream",
     "text": [
      "prawdopodobieństwo wystąpienia ataku terrorystycznego Hijacking wyniosło: 0.0\n"
     ]
    }
   ],
   "source": [
    "#jakie prawdopodobieństwo wystapienia w regionie ataku Hijacking\n",
    "p1 = w5.count()/w.count()\n",
    "p2 = p1.get('region_txt')\n",
    "print('prawdopodobieństwo wystąpienia ataku terrorystycznego Hijacking wyniosło:',round(p2,3))"
   ]
  },
  {
   "cell_type": "code",
   "execution_count": 24,
   "metadata": {},
   "outputs": [
    {
     "name": "stdout",
     "output_type": "stream",
     "text": [
      "prawdopodobieństwo wystąpienia ataku terrorystycznego Hostage Taking (Barricade Incident) wyniosło: 0.034\n"
     ]
    }
   ],
   "source": [
    "#jakie prawdopodobieństwo wystapienia w regionie ataku Hostage Taking (Barricade Incident)\n",
    "p1 = w6.count()/w.count()\n",
    "p2 = p1.get('region_txt')\n",
    "print('prawdopodobieństwo wystąpienia ataku terrorystycznego Hostage Taking (Barricade Incident) wyniosło:',round(p2,3))"
   ]
  },
  {
   "cell_type": "code",
   "execution_count": 25,
   "metadata": {},
   "outputs": [
    {
     "name": "stdout",
     "output_type": "stream",
     "text": [
      "prawdopodobieństwo wystąpienia ataku terrorystycznego Hostage Taking (Kidnapping) wyniosło: 0.39\n"
     ]
    }
   ],
   "source": [
    "#jakie prawdopodobieństwo wystapienia w regionie ataku Hostage Taking (Kidnapping)\n",
    "p1 = w7.count()/w.count()\n",
    "p2 = p1.get('region_txt')\n",
    "print('prawdopodobieństwo wystąpienia ataku terrorystycznego Hostage Taking (Kidnapping) wyniosło:',round(p2,3))"
   ]
  },
  {
   "cell_type": "code",
   "execution_count": 26,
   "metadata": {},
   "outputs": [
    {
     "name": "stdout",
     "output_type": "stream",
     "text": [
      "prawdopodobieństwo wystąpienia ataku terrorystycznego Unarmed Assault wyniosło: 0.0\n"
     ]
    }
   ],
   "source": [
    "#jakie prawdopodobieństwo wystapienia w regionie ataku Unarmed Assault\n",
    "p1 = w8.count()/w.count()\n",
    "p2 = p1.get('region_txt')\n",
    "print('prawdopodobieństwo wystąpienia ataku terrorystycznego Unarmed Assault wyniosło:',round(p2,3))"
   ]
  },
  {
   "cell_type": "code",
   "execution_count": 27,
   "metadata": {},
   "outputs": [
    {
     "name": "stdout",
     "output_type": "stream",
     "text": [
      "prawdopodobieństwo wystąpienia ataku terrorystycznego Unknown wyniosło: 0.017\n"
     ]
    }
   ],
   "source": [
    "#jakie prawdopodobieństwo wystapienia w regionie ataku Unknown\n",
    "p1 = w9.count()/w.count()\n",
    "p2 = p1.get('region_txt')\n",
    "print('prawdopodobieństwo wystąpienia ataku terrorystycznego Unknown wyniosło:',round(p2,3))"
   ]
  },
  {
   "cell_type": "code",
   "execution_count": null,
   "metadata": {},
   "outputs": [],
   "source": [
    "# najmniejsze prawdopodobieństwo wystąpienia ataku terrorstycznego jest typu Hostage Taking (Barricade Incident) - 0,002, \n",
    "# a największe wystąpienia ataku typu Bombing/Explosion - 0,623. Różnica jest znacząca"
   ]
  },
  {
   "cell_type": "code",
   "execution_count": null,
   "metadata": {},
   "outputs": [],
   "source": []
  }
 ],
 "metadata": {
  "kernelspec": {
   "display_name": "Python 3",
   "language": "python",
   "name": "python3"
  },
  "language_info": {
   "codemirror_mode": {
    "name": "ipython",
    "version": 3
   },
   "file_extension": ".py",
   "mimetype": "text/x-python",
   "name": "python",
   "nbconvert_exporter": "python",
   "pygments_lexer": "ipython3",
   "version": "3.7.4"
  }
 },
 "nbformat": 4,
 "nbformat_minor": 2
}
